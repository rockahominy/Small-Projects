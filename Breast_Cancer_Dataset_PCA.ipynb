{
  "nbformat": 4,
  "nbformat_minor": 0,
  "metadata": {
    "colab": {
      "name": "Breast_Cancer_Dataset_PCA.ipynb",
      "provenance": [],
      "collapsed_sections": [],
      "authorship_tag": "ABX9TyPUToxWZaXrmY0d4wbzdWSC",
      "include_colab_link": true
    },
    "kernelspec": {
      "name": "python3",
      "display_name": "Python 3"
    }
  },
  "cells": [
    {
      "cell_type": "markdown",
      "metadata": {
        "id": "view-in-github",
        "colab_type": "text"
      },
      "source": [
        "<a href=\"https://colab.research.google.com/github/rockahominy/Small-Projects/blob/main/Breast_Cancer_Dataset_PCA.ipynb\" target=\"_parent\"><img src=\"https://colab.research.google.com/assets/colab-badge.svg\" alt=\"Open In Colab\"/></a>"
      ]
    },
    {
      "cell_type": "markdown",
      "metadata": {
        "id": "kVVSma9XFZ6w"
      },
      "source": [
        "Rashka vs. Geron:\n",
        " Decision Trees \n",
        "\n",
        "Rashka's decision tree model differs from Geron's decision tree model (even though they are utilizing the same dataset) with respect to the parameter maximum depth of the trees. The former's decision tree has a maximum depth of four, which gave a more complex decision boundary than the latter's decision tree model (max depth 2). An increase in maximum depth of a decision tree results in more complex decision boundaries by dividing the feature space into separate rectangles. This can result in model overfitting. To remedy this overfitting phenomenon, it is recommended that the decision tree be pruned by setting a limit for the maximal depth parameter of the tree. Other differences between Rashka and Geron's methods include utilization of the partial dataset to train the model from the former and training the model with the whole dataset. In addition, Geron removed an outlier data point from the dataset to show that the decision tree is sensitive to outliers, but Rashka omitted this step. "
      ]
    },
    {
      "cell_type": "markdown",
      "metadata": {
        "id": "sJL_uhW8FZU1"
      },
      "source": [
        ""
      ]
    },
    {
      "cell_type": "code",
      "metadata": {
        "id": "xcVEpfAVFN0Z"
      },
      "source": [
        "###Getting the dataset####\n",
        "import pandas as pd\n",
        "\n",
        "df = pd.read_csv('https://archive.ics.uci.edu/ml/'\n",
        "                 'machine-learning-databases'\n",
        "                 '/breast-cancer-wisconsin/wdbc.data', header=None)"
      ],
      "execution_count": null,
      "outputs": []
    },
    {
      "cell_type": "code",
      "metadata": {
        "id": "SZgxQ1n50KQL",
        "colab": {
          "base_uri": "https://localhost:8080/",
          "height": 254
        },
        "outputId": "bed2a912-8565-4f7a-b35a-7ce890d79593"
      },
      "source": [
        "###The first five observations in the DataFrame###\n",
        "df.head()"
      ],
      "execution_count": null,
      "outputs": [
        {
          "output_type": "execute_result",
          "data": {
            "text/html": [
              "<div>\n",
              "<style scoped>\n",
              "    .dataframe tbody tr th:only-of-type {\n",
              "        vertical-align: middle;\n",
              "    }\n",
              "\n",
              "    .dataframe tbody tr th {\n",
              "        vertical-align: top;\n",
              "    }\n",
              "\n",
              "    .dataframe thead th {\n",
              "        text-align: right;\n",
              "    }\n",
              "</style>\n",
              "<table border=\"1\" class=\"dataframe\">\n",
              "  <thead>\n",
              "    <tr style=\"text-align: right;\">\n",
              "      <th></th>\n",
              "      <th>0</th>\n",
              "      <th>1</th>\n",
              "      <th>2</th>\n",
              "      <th>3</th>\n",
              "      <th>4</th>\n",
              "      <th>5</th>\n",
              "      <th>6</th>\n",
              "      <th>7</th>\n",
              "      <th>8</th>\n",
              "      <th>9</th>\n",
              "      <th>10</th>\n",
              "      <th>11</th>\n",
              "      <th>12</th>\n",
              "      <th>13</th>\n",
              "      <th>14</th>\n",
              "      <th>15</th>\n",
              "      <th>16</th>\n",
              "      <th>17</th>\n",
              "      <th>18</th>\n",
              "      <th>19</th>\n",
              "      <th>20</th>\n",
              "      <th>21</th>\n",
              "      <th>22</th>\n",
              "      <th>23</th>\n",
              "      <th>24</th>\n",
              "      <th>25</th>\n",
              "      <th>26</th>\n",
              "      <th>27</th>\n",
              "      <th>28</th>\n",
              "      <th>29</th>\n",
              "      <th>30</th>\n",
              "      <th>31</th>\n",
              "    </tr>\n",
              "  </thead>\n",
              "  <tbody>\n",
              "    <tr>\n",
              "      <th>0</th>\n",
              "      <td>842302</td>\n",
              "      <td>M</td>\n",
              "      <td>17.99</td>\n",
              "      <td>10.38</td>\n",
              "      <td>122.80</td>\n",
              "      <td>1001.0</td>\n",
              "      <td>0.11840</td>\n",
              "      <td>0.27760</td>\n",
              "      <td>0.3001</td>\n",
              "      <td>0.14710</td>\n",
              "      <td>0.2419</td>\n",
              "      <td>0.07871</td>\n",
              "      <td>1.0950</td>\n",
              "      <td>0.9053</td>\n",
              "      <td>8.589</td>\n",
              "      <td>153.40</td>\n",
              "      <td>0.006399</td>\n",
              "      <td>0.04904</td>\n",
              "      <td>0.05373</td>\n",
              "      <td>0.01587</td>\n",
              "      <td>0.03003</td>\n",
              "      <td>0.006193</td>\n",
              "      <td>25.38</td>\n",
              "      <td>17.33</td>\n",
              "      <td>184.60</td>\n",
              "      <td>2019.0</td>\n",
              "      <td>0.1622</td>\n",
              "      <td>0.6656</td>\n",
              "      <td>0.7119</td>\n",
              "      <td>0.2654</td>\n",
              "      <td>0.4601</td>\n",
              "      <td>0.11890</td>\n",
              "    </tr>\n",
              "    <tr>\n",
              "      <th>1</th>\n",
              "      <td>842517</td>\n",
              "      <td>M</td>\n",
              "      <td>20.57</td>\n",
              "      <td>17.77</td>\n",
              "      <td>132.90</td>\n",
              "      <td>1326.0</td>\n",
              "      <td>0.08474</td>\n",
              "      <td>0.07864</td>\n",
              "      <td>0.0869</td>\n",
              "      <td>0.07017</td>\n",
              "      <td>0.1812</td>\n",
              "      <td>0.05667</td>\n",
              "      <td>0.5435</td>\n",
              "      <td>0.7339</td>\n",
              "      <td>3.398</td>\n",
              "      <td>74.08</td>\n",
              "      <td>0.005225</td>\n",
              "      <td>0.01308</td>\n",
              "      <td>0.01860</td>\n",
              "      <td>0.01340</td>\n",
              "      <td>0.01389</td>\n",
              "      <td>0.003532</td>\n",
              "      <td>24.99</td>\n",
              "      <td>23.41</td>\n",
              "      <td>158.80</td>\n",
              "      <td>1956.0</td>\n",
              "      <td>0.1238</td>\n",
              "      <td>0.1866</td>\n",
              "      <td>0.2416</td>\n",
              "      <td>0.1860</td>\n",
              "      <td>0.2750</td>\n",
              "      <td>0.08902</td>\n",
              "    </tr>\n",
              "    <tr>\n",
              "      <th>2</th>\n",
              "      <td>84300903</td>\n",
              "      <td>M</td>\n",
              "      <td>19.69</td>\n",
              "      <td>21.25</td>\n",
              "      <td>130.00</td>\n",
              "      <td>1203.0</td>\n",
              "      <td>0.10960</td>\n",
              "      <td>0.15990</td>\n",
              "      <td>0.1974</td>\n",
              "      <td>0.12790</td>\n",
              "      <td>0.2069</td>\n",
              "      <td>0.05999</td>\n",
              "      <td>0.7456</td>\n",
              "      <td>0.7869</td>\n",
              "      <td>4.585</td>\n",
              "      <td>94.03</td>\n",
              "      <td>0.006150</td>\n",
              "      <td>0.04006</td>\n",
              "      <td>0.03832</td>\n",
              "      <td>0.02058</td>\n",
              "      <td>0.02250</td>\n",
              "      <td>0.004571</td>\n",
              "      <td>23.57</td>\n",
              "      <td>25.53</td>\n",
              "      <td>152.50</td>\n",
              "      <td>1709.0</td>\n",
              "      <td>0.1444</td>\n",
              "      <td>0.4245</td>\n",
              "      <td>0.4504</td>\n",
              "      <td>0.2430</td>\n",
              "      <td>0.3613</td>\n",
              "      <td>0.08758</td>\n",
              "    </tr>\n",
              "    <tr>\n",
              "      <th>3</th>\n",
              "      <td>84348301</td>\n",
              "      <td>M</td>\n",
              "      <td>11.42</td>\n",
              "      <td>20.38</td>\n",
              "      <td>77.58</td>\n",
              "      <td>386.1</td>\n",
              "      <td>0.14250</td>\n",
              "      <td>0.28390</td>\n",
              "      <td>0.2414</td>\n",
              "      <td>0.10520</td>\n",
              "      <td>0.2597</td>\n",
              "      <td>0.09744</td>\n",
              "      <td>0.4956</td>\n",
              "      <td>1.1560</td>\n",
              "      <td>3.445</td>\n",
              "      <td>27.23</td>\n",
              "      <td>0.009110</td>\n",
              "      <td>0.07458</td>\n",
              "      <td>0.05661</td>\n",
              "      <td>0.01867</td>\n",
              "      <td>0.05963</td>\n",
              "      <td>0.009208</td>\n",
              "      <td>14.91</td>\n",
              "      <td>26.50</td>\n",
              "      <td>98.87</td>\n",
              "      <td>567.7</td>\n",
              "      <td>0.2098</td>\n",
              "      <td>0.8663</td>\n",
              "      <td>0.6869</td>\n",
              "      <td>0.2575</td>\n",
              "      <td>0.6638</td>\n",
              "      <td>0.17300</td>\n",
              "    </tr>\n",
              "    <tr>\n",
              "      <th>4</th>\n",
              "      <td>84358402</td>\n",
              "      <td>M</td>\n",
              "      <td>20.29</td>\n",
              "      <td>14.34</td>\n",
              "      <td>135.10</td>\n",
              "      <td>1297.0</td>\n",
              "      <td>0.10030</td>\n",
              "      <td>0.13280</td>\n",
              "      <td>0.1980</td>\n",
              "      <td>0.10430</td>\n",
              "      <td>0.1809</td>\n",
              "      <td>0.05883</td>\n",
              "      <td>0.7572</td>\n",
              "      <td>0.7813</td>\n",
              "      <td>5.438</td>\n",
              "      <td>94.44</td>\n",
              "      <td>0.011490</td>\n",
              "      <td>0.02461</td>\n",
              "      <td>0.05688</td>\n",
              "      <td>0.01885</td>\n",
              "      <td>0.01756</td>\n",
              "      <td>0.005115</td>\n",
              "      <td>22.54</td>\n",
              "      <td>16.67</td>\n",
              "      <td>152.20</td>\n",
              "      <td>1575.0</td>\n",
              "      <td>0.1374</td>\n",
              "      <td>0.2050</td>\n",
              "      <td>0.4000</td>\n",
              "      <td>0.1625</td>\n",
              "      <td>0.2364</td>\n",
              "      <td>0.07678</td>\n",
              "    </tr>\n",
              "  </tbody>\n",
              "</table>\n",
              "</div>"
            ],
            "text/plain": [
              "         0  1      2      3       4   ...      27      28      29      30       31\n",
              "0    842302  M  17.99  10.38  122.80  ...  0.6656  0.7119  0.2654  0.4601  0.11890\n",
              "1    842517  M  20.57  17.77  132.90  ...  0.1866  0.2416  0.1860  0.2750  0.08902\n",
              "2  84300903  M  19.69  21.25  130.00  ...  0.4245  0.4504  0.2430  0.3613  0.08758\n",
              "3  84348301  M  11.42  20.38   77.58  ...  0.8663  0.6869  0.2575  0.6638  0.17300\n",
              "4  84358402  M  20.29  14.34  135.10  ...  0.2050  0.4000  0.1625  0.2364  0.07678\n",
              "\n",
              "[5 rows x 32 columns]"
            ]
          },
          "metadata": {
            "tags": []
          },
          "execution_count": 2
        }
      ]
    },
    {
      "cell_type": "code",
      "metadata": {
        "id": "4jW_bx_I0T4k",
        "colab": {
          "base_uri": "https://localhost:8080/",
          "height": 34
        },
        "outputId": "1527f702-8c4b-4c37-aa04-9a614a7fb015"
      },
      "source": [
        "###Number of observations (rows) and columns (features) in the dataset###\n",
        "df.shape #569 observations #32 columns "
      ],
      "execution_count": null,
      "outputs": [
        {
          "output_type": "execute_result",
          "data": {
            "text/plain": [
              "(569, 32)"
            ]
          },
          "metadata": {
            "tags": []
          },
          "execution_count": 3
        }
      ]
    },
    {
      "cell_type": "code",
      "metadata": {
        "id": "yLbvDfMQ0ozH"
      },
      "source": [
        "###Splitting the data###\n",
        "\n",
        "from sklearn.model_selection import train_test_split\n",
        "from sklearn.preprocessing import LabelEncoder\n",
        "\n",
        "X, y = df.iloc[:, 2:].values, df.iloc[:, 1].values #X all obs and index position 2 column and above \n",
        "#y all obs and column at index position 1\n",
        "\n",
        "###Assign dummy variables###\n",
        "le = LabelEncoder()\n",
        "y = le.fit_transform(y)\n",
        "\n",
        "le.classes_\n",
        "\n",
        "X_train, X_test, y_train, y_test = \\\n",
        "train_test_split(X, y, test_size=0.2, stratify=y, random_state=1) #testing dataset size is 30% of original dataset #train is 70%"
      ],
      "execution_count": null,
      "outputs": []
    },
    {
      "cell_type": "code",
      "metadata": {
        "id": "OwPK5CNhzzoM",
        "colab": {
          "base_uri": "https://localhost:8080/",
          "height": 238
        },
        "outputId": "81185678-25e9-4c1f-fcc2-eb42b112f964"
      },
      "source": [
        "print(y_train)"
      ],
      "execution_count": null,
      "outputs": [
        {
          "output_type": "stream",
          "text": [
            "[0 0 0 0 0 0 0 1 1 1 0 1 0 0 0 0 1 1 0 1 1 0 0 0 1 1 0 0 1 1 0 0 0 1 1 0 0\n",
            " 1 0 0 1 0 0 0 0 0 0 0 0 1 0 0 0 1 1 0 0 1 0 0 0 1 0 0 1 1 0 0 1 0 0 0 0 0\n",
            " 1 0 0 0 0 1 0 0 0 1 0 0 1 0 0 0 0 1 1 0 0 0 1 0 0 0 1 0 0 1 0 0 1 0 1 0 0\n",
            " 1 0 0 1 0 0 1 0 1 0 0 0 0 1 0 1 1 0 1 1 1 0 0 0 0 0 1 1 0 0 0 1 0 1 0 1 0\n",
            " 0 1 0 1 0 0 0 0 0 1 0 0 1 0 1 0 0 0 0 1 0 1 1 1 0 0 1 1 0 0 0 1 1 1 0 0 0\n",
            " 0 1 1 0 0 1 0 1 0 0 0 0 0 0 0 0 1 1 0 0 0 1 0 1 1 0 1 1 0 0 0 1 0 1 1 1 1\n",
            " 0 0 1 0 1 0 1 0 0 0 1 0 0 0 1 1 1 0 0 1 0 0 1 1 0 0 1 0 0 0 0 0 0 0 1 0 0\n",
            " 0 1 0 1 1 0 1 0 1 1 0 0 0 0 0 0 0 0 0 1 0 0 1 1 1 1 0 0 0 1 0 0 0 1 0 0 1\n",
            " 0 1 1 1 0 0 0 0 0 0 0 0 1 1 0 1 1 1 0 0 0 0 0 1 0 1 0 1 1 1 0 1 0 1 0 0 0\n",
            " 1 1 1 0 0 0 0 1 1 0 0 0 1 1 0 1 1 0 0 1 1 1 1 0 0 0 1 0 1 0 0 1 0 0 1 1 0\n",
            " 0 0 1 1 0 0 1 1 0 0 0 0 0 0 0 0 0 0 1 0 0 0 0 1 0 1 0 1 0 0 0 1 1 1 0 0 1\n",
            " 0 1 0 1 0 0 0 0 0 0 1 1 1 0 1 0 0 0 0 0 1 1 0 1 1 1 0 0 0 1 0 1 0 1 0 0 1\n",
            " 0 1 0 0 0 0 0 1 1 1 0]\n"
          ],
          "name": "stdout"
        }
      ]
    },
    {
      "cell_type": "code",
      "metadata": {
        "id": "eYpl8BFExsOo",
        "colab": {
          "base_uri": "https://localhost:8080/",
          "height": 34
        },
        "outputId": "f8bd1834-3abf-49e9-ebab-7dbdae095759"
      },
      "source": [
        "from sklearn.preprocessing import StandardScaler\n",
        "from sklearn.decomposition import PCA\n",
        "from sklearn.linear_model import LogisticRegression\n",
        "from sklearn.pipeline import make_pipeline\n",
        "\n",
        "pipe_lr = make_pipeline(StandardScaler(), \n",
        "                        PCA(n_components=4),\n",
        "                        LogisticRegression(random_state=1, solver='lbfgs'))\n",
        "\n",
        "pipe_lr.fit(X_train, y_train)\n",
        "print('Test Accuracy: %.3f' % pipe_lr.score(X_test, y_test))"
      ],
      "execution_count": null,
      "outputs": [
        {
          "output_type": "stream",
          "text": [
            "Test Accuracy: 0.956\n"
          ],
          "name": "stdout"
        }
      ]
    },
    {
      "cell_type": "code",
      "metadata": {
        "id": "D5AS-D5nxl-u",
        "colab": {
          "base_uri": "https://localhost:8080/",
          "height": 51
        },
        "outputId": "1e83158b-1dd9-4afe-f523-149dd767ad29"
      },
      "source": [
        "###Standardizing the features###\n",
        "import numpy as np \n",
        "import matplotlib.pyplot as plt\n",
        "\n",
        "X_train_std = StandardScaler().fit_transform(X_train)\n",
        "cov_mat = np.cov(X_train_std.T) #computes the covariance matrix of the standardized training dataset\n",
        "\n",
        "###Obtain eigenpairs of the covariance matrix###\n",
        "###Calculate Eigenpairs of the covariance matrix###\n",
        "eigen_vals, eigen_vecs = np.linalg.eig(cov_mat) #eigendecomposition\n",
        "\n",
        "print('eigen_vals.shape:', eigen_vals.shape) #30\n",
        "print('eigen_vecs.shape:', eigen_vecs.shape) #30x30 dimentional matrix "
      ],
      "execution_count": null,
      "outputs": [
        {
          "output_type": "stream",
          "text": [
            "eigen_vals.shape: (30,)\n",
            "eigen_vecs.shape: (30, 30)\n"
          ],
          "name": "stdout"
        }
      ]
    },
    {
      "cell_type": "code",
      "metadata": {
        "id": "HOHEXwBE9n3n",
        "colab": {
          "base_uri": "https://localhost:8080/",
          "height": 297
        },
        "outputId": "366b8bb6-7894-476b-89b5-8780cb7500f5"
      },
      "source": [
        "###Explained variance ratio###\n",
        "#reduce dimensionality of dataset by compressing it onto a new feature subspace\n",
        "#can do above by: only selecting the subset of the eigenvectors (PC) that contain most of the information (variance)\n",
        "#We are interested in the top k eigenvectors based on the values of their corresponding eigenvalues\n",
        "\n",
        "tot = sum(eigen_vals)\n",
        "var_exp = [(i / tot) for i in \n",
        "           sorted(eigen_vals, reverse=True)]\n",
        "\n",
        "cum_var_exp = np.cumsum(var_exp) #calculates the cumulative sum of explained variances\n",
        "\n",
        "plt.bar(range(1, 31), var_exp, alpha=0.5, align='center',\n",
        "        label='Individual explained variance')\n",
        "\n",
        "plt.step(range(1, 31), cum_var_exp, where='mid', label='Cumulative explained variance')\n",
        "\n",
        "plt.ylabel('Explained variance ratio')\n",
        "plt.xlabel('Principal component index')\n",
        "plt.legend(loc='best')\n",
        "plt.tight_layout()\n",
        "plt.show()\n",
        "#first principal component alone accounts for almost 50% of the variance\n",
        "#first and second principal components added together account for about 70%\n",
        "#PCA is an unsupervised learning method and class labels are ignored"
      ],
      "execution_count": null,
      "outputs": [
        {
          "output_type": "display_data",
          "data": {
            "image/png": "[encoded data removed]",
            "text/plain": [
              "<Figure size 432x288 with 1 Axes>"
            ]
          },
          "metadata": {
            "tags": [],
            "needs_background": "light"
          }
        }
      ]
    },
    {
      "cell_type": "code",
      "metadata": {
        "id": "cgIl4NySBW9J"
      },
      "source": [
        ""
      ],
      "execution_count": null,
      "outputs": []
    },
    {
      "cell_type": "code",
      "metadata": {
        "id": "Hm56PDVhEOEm"
      },
      "source": [
        "#print(eigen_pairs) #first array used in the code cells below"
      ],
      "execution_count": null,
      "outputs": []
    },
    {
      "cell_type": "code",
      "metadata": {
        "id": "l-nHK2YKEBnn"
      },
      "source": [
        "#print(eigen_pairs[0][1])"
      ],
      "execution_count": null,
      "outputs": []
    },
    {
      "cell_type": "code",
      "metadata": {
        "id": "BY3DOFMiC0Is"
      },
      "source": [
        ""
      ],
      "execution_count": null,
      "outputs": []
    },
    {
      "cell_type": "code",
      "metadata": {
        "id": "64sGEJ8wC3io"
      },
      "source": [
        "#X_train_std[0].dot(w)"
      ],
      "execution_count": null,
      "outputs": []
    },
    {
      "cell_type": "code",
      "metadata": {
        "id": "HtyZDLd1C6AL"
      },
      "source": [
        ""
      ],
      "execution_count": null,
      "outputs": []
    },
    {
      "cell_type": "code",
      "metadata": {
        "id": "0lPozMYEFFf2"
      },
      "source": [
        "#print(X_train_pca)"
      ],
      "execution_count": null,
      "outputs": []
    },
    {
      "cell_type": "code",
      "metadata": {
        "id": "a8Xl_NH6C629",
        "colab": {
          "base_uri": "https://localhost:8080/",
          "height": 841
        },
        "outputId": "74cf1610-e593-4fc9-b6e2-ea9abbdd1723"
      },
      "source": [
        "###Feature Transformation###\n",
        "#Transform the dataset onto the new principal component axes\n",
        "\n",
        "#Make a list of eigenvalue and eigenvector tuples\n",
        "\n",
        "eigen_pairs = [(np.abs(eigen_vals[i]), eigen_vecs[:, i])\n",
        "              for i in range(len(eigen_vals))]\n",
        "\n",
        "#sort the eigenvalue and eigenvector tuples from high to low\n",
        "\n",
        "eigen_pairs.sort(key=lambda k: k[0], reverse=True)\n",
        "\n",
        "w = np.hstack((eigen_pairs[0][1][:, np.newaxis],\n",
        "               eigen_pairs[1][1][:, np.newaxis]))\n",
        "\n",
        "print(w.shape)\n",
        "print('Matrix W;\\n', w)\n",
        "\n",
        "\n",
        "X_train_pca = X_train_std.dot(w)\n",
        "colors = ['r', 'b', 'g']\n",
        "markers = ['s', 'x', 'o']\n",
        "for l, c, m in zip(np.unique(y_train), colors, markers):\n",
        "  plt.scatter(X_train_pca[y_train==1, 0], X_train_pca[y_train==1, 1], \n",
        "              c=c, label=1, marker=m)\n",
        "  \n",
        "plt.xlabel('PC 1')\n",
        "plt.ylabel('PC 2')\n",
        "plt.legend(loc='lower left')\n",
        "plt.tight_layout()\n",
        "plt.show()  #Points showing in the scatterplot\n",
        "#Why aren't the classes separating "
      ],
      "execution_count": null,
      "outputs": [
        {
          "output_type": "stream",
          "text": [
            "(30, 2)\n",
            "Matrix W;\n",
            " [[-0.21679334 -0.23462306]\n",
            " [-0.10660312 -0.06849448]\n",
            " [-0.22557851 -0.2151757 ]\n",
            " [-0.21886594 -0.23224295]\n",
            " [-0.14066045  0.1848655 ]\n",
            " [-0.23936605  0.14475358]\n",
            " [-0.25444238  0.06573624]\n",
            " [-0.25775276 -0.03731318]\n",
            " [-0.14120408  0.18138941]\n",
            " [-0.07237829  0.3662257 ]\n",
            " [-0.20600989 -0.09883883]\n",
            " [-0.01378187  0.0763412 ]\n",
            " [-0.21367988 -0.07861921]\n",
            " [-0.20798454 -0.15183423]\n",
            " [-0.00307547  0.2049454 ]\n",
            " [-0.17102664  0.2377156 ]\n",
            " [-0.14768555  0.20931191]\n",
            " [-0.18439201  0.1409671 ]\n",
            " [-0.04163771  0.19936217]\n",
            " [-0.10122214  0.2828757 ]\n",
            " [-0.226975   -0.22124091]\n",
            " [-0.10755498 -0.06136208]\n",
            " [-0.23567844 -0.20066026]\n",
            " [-0.2237171  -0.22093973]\n",
            " [-0.12867934  0.15776067]\n",
            " [-0.21426764  0.13415898]\n",
            " [-0.2282569   0.09876787]\n",
            " [-0.24993858 -0.00967411]\n",
            " [-0.12582219  0.13847033]\n",
            " [-0.13879824  0.26770452]]\n"
          ],
          "name": "stdout"
        },
        {
          "output_type": "display_data",
          "data": {
            "image/png": "[encoded data removed]",
            "text/plain": [
              "<Figure size 432x288 with 1 Axes>"
            ]
          },
          "metadata": {
            "tags": [],
            "needs_background": "light"
          }
        }
      ]
    },
    {
      "cell_type": "markdown",
      "metadata": {
        "id": "XnFBaI_NFw2j"
      },
      "source": [
        "Data points more spread out in the x-axis (the first PCA) than the y-axis (the second PCA) which aligns with the PCA plot above."
      ]
    },
    {
      "cell_type": "markdown",
      "metadata": {
        "id": "hOtl5dEEF2IC"
      },
      "source": [
        "The data points in Rashka's wine dataset showed class separation, while the dataset I am using here (Breast Cancer) does not show class separation in the plot above. With the code discussed in class, the scatterplot showed class separation, but it did not show as good class separation as seen in with the wine dataset. \n",
        "\n",
        "Can't discuss too much about the dimensionality of this dataset except the Breast Cancer dataset contains more dimensions (features) than the wine dataset. In class we discussed that the 6 or 7 features are neccessary for this model.\n"
      ]
    },
    {
      "cell_type": "code",
      "metadata": {
        "id": "O94yMQdqF1QU"
      },
      "source": [
        ""
      ],
      "execution_count": null,
      "outputs": []
    }
  ]
}