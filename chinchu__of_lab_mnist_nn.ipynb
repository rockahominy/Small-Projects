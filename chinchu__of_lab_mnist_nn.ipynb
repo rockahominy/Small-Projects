{
  "nbformat": 4,
  "nbformat_minor": 0,
  "metadata": {
    "colab": {
      "name": "chinchu_ of lab_mnist_nn.ipynb",
      "provenance": [],
      "collapsed_sections": [],
      "include_colab_link": true
    },
    "kernelspec": {
      "name": "python3",
      "display_name": "Python 3"
    }
  },
  "cells": [
    {
      "cell_type": "markdown",
      "metadata": {
        "id": "view-in-github",
        "colab_type": "text"
      },
      "source": [
        "<a href=\"https://colab.research.google.com/github/rockahominy/Small-Projects/blob/main/chinchu__of_lab_mnist_nn.ipynb\" target=\"_parent\"><img src=\"https://colab.research.google.com/assets/colab-badge.svg\" alt=\"Open In Colab\"/></a>"
      ]
    },
    {
      "cell_type": "markdown",
      "metadata": {
        "id": "TwXD2jwRwFp4"
      },
      "source": [
        "<table align=\"center\">\n",
        "   <td align=\"center\"><a target=\"_blank\" href=\"https://colab.research.google.com/github/umbcdata602/fall2020/blob/master/lab_mnist_nn.ipynb\">\n",
        "<img src=\"http://introtodeeplearning.com/images/colab/colab.png?v2.0\"  style=\"padding-bottom:5px;\" />Run in Google Colab</a></td>\n",
        "</table>\n",
        "\n",
        "\n",
        "# Lab -- MNIST NN\n",
        "\n",
        "Use Raschka's NeuralNetworkMLP (from scratch) with 8-by-8 digits and compare to KNN and Logistic regression\n",
        "\n",
        "* [digits classification](https://scikit-learn.org/stable/auto_examples/exercises/plot_digits_classification_exercise.html) -- scikit-learn.org\n",
        "* [ch12.ipynb](https://github.com/rasbt/python-machine-learning-book-3rd-edition/blob/master/ch12/ch12.ipynb) -- github"
      ]
    },
    {
      "cell_type": "code",
      "metadata": {
        "id": "epYjNH6Ov8oA",
        "colab": {
          "base_uri": "https://localhost:8080/"
        },
        "outputId": "a04956bc-069a-4d11-d23e-7852af1794cb"
      },
      "source": [
        "# This is the digits classification problem from scikit-learn\n",
        "# NOTE: Changed 0.9 to 0.8 in the train/test split\n",
        "from sklearn import datasets, neighbors, linear_model\n",
        "\n",
        "X_digits, y_digits = datasets.load_digits(return_X_y=True)\n",
        "X_digits = X_digits / X_digits.max()\n",
        "\n",
        "n_samples = len(X_digits)\n",
        "\n",
        "X_train = X_digits[:int(.8 * n_samples)] # changed from .9\n",
        "y_train = y_digits[:int(.8 * n_samples)] # ditto\n",
        "X_test = X_digits[int(.8 * n_samples):]  # ditto\n",
        "y_test = y_digits[int(.8 * n_samples):]  # ditto\n",
        "\n",
        "knn = neighbors.KNeighborsClassifier()\n",
        "logistic = linear_model.LogisticRegression(max_iter=1000)\n",
        "\n",
        "print('KNN score: %f' % knn.fit(X_train, y_train).score(X_test, y_test))\n",
        "print('LogisticRegression score: %f'\n",
        "      % logistic.fit(X_train, y_train).score(X_test, y_test))"
      ],
      "execution_count": null,
      "outputs": [
        {
          "output_type": "stream",
          "text": [
            "KNN score: 0.963889\n",
            "LogisticRegression score: 0.902778\n"
          ],
          "name": "stdout"
        }
      ]
    },
    {
      "cell_type": "code",
      "metadata": {
        "id": "E303qvhOZHPX"
      },
      "source": [
        "  def predict(self, X):\n",
        "        \"\"\"Predict class labels\n",
        "\n",
        "        Parameters\n",
        "        -----------\n",
        "        X : array, shape = [n_examples, n_features]\n",
        "            Input layer with original features.\n",
        "\n",
        "        Returns:\n",
        "        ----------\n",
        "        y_pred : array, shape = [n_examples]\n",
        "            Predicted class labels.\n",
        "\n",
        "        \"\"\"\n",
        "        z_h, a_h, z_out, a_out = self._forward(X)\n",
        "        y_pred = np.argmax(z_out, axis=1)\n",
        "        return y_pred"
      ],
      "execution_count": null,
      "outputs": []
    },
    {
      "cell_type": "code",
      "metadata": {
        "id": "MzQEA8A4xNjY",
        "colab": {
          "base_uri": "https://localhost:8080/"
        },
        "outputId": "088b6fdc-c864-4c91-96f3-0fd79bab1601"
      },
      "source": [
        "# Load \"neuralnet.py\" directly from Raschka's github repo\n",
        "from urllib.request import urlretrieve\n",
        "\n",
        "url = \"https://raw.githubusercontent.com/rasbt/python-machine-learning-book-3rd-edition/master/ch12/neuralnet.py\"\n",
        "urlretrieve(url, 'neuralnet.py')"
      ],
      "execution_count": null,
      "outputs": [
        {
          "output_type": "execute_result",
          "data": {
            "text/plain": [
              "('neuralnet.py', <http.client.HTTPMessage at 0x7f2dba04fc18>)"
            ]
          },
          "metadata": {
            "tags": []
          },
          "execution_count": 3
        }
      ]
    },
    {
      "cell_type": "code",
      "metadata": {
        "id": "5aNG3kgWxTQc"
      },
      "source": [
        "from neuralnet import NeuralNetMLP"
      ],
      "execution_count": null,
      "outputs": []
    },
    {
      "cell_type": "code",
      "metadata": {
        "id": "FUWiyMy2eJER",
        "colab": {
          "base_uri": "https://localhost:8080/"
        },
        "outputId": "a846dea4-8cdb-4c04-fe4c-754cdff7f178"
      },
      "source": [
        "n_epochs = 1000\n",
        "nn = NeuralNetMLP(n_hidden=100, \n",
        "                  l2=0.01, \n",
        "                  epochs=n_epochs, \n",
        "                  eta=0.0005,\n",
        "                  minibatch_size=100, \n",
        "                  shuffle=True,\n",
        "                  seed=1)\n",
        "\n",
        "nn.fit(X_train=X_train, \n",
        "       y_train=y_train,\n",
        "       X_valid=X_train,\n",
        "       y_valid=y_train)\n"
      ],
      "execution_count": null,
      "outputs": [
        {
          "output_type": "stream",
          "text": [
            "1000/1000 | Cost: 261.63 | Train/Valid Acc.: 98.61%/98.61% "
          ],
          "name": "stderr"
        },
        {
          "output_type": "execute_result",
          "data": {
            "text/plain": [
              "<neuralnet.NeuralNetMLP at 0x7f2dab8107f0>"
            ]
          },
          "metadata": {
            "tags": []
          },
          "execution_count": 15
        }
      ]
    },
    {
      "cell_type": "code",
      "metadata": {
        "id": "Dm2Sj8DXeMMC",
        "colab": {
          "base_uri": "https://localhost:8080/"
        },
        "outputId": "4431a1d5-850c-494d-e4a4-53c3d142b883"
      },
      "source": [
        "import numpy as np\n",
        "y_test_pred = nn.predict(X_test)\n",
        "acc = (np.sum(y_test == y_test_pred)\n",
        "       .astype(np.float) / X_test.shape[0])\n",
        "\n",
        "print('Test accuracy: %.2f%%' % (acc * 100))"
      ],
      "execution_count": null,
      "outputs": [
        {
          "output_type": "stream",
          "text": [
            "Test accuracy: 90.00%\n"
          ],
          "name": "stdout"
        }
      ]
    },
    {
      "cell_type": "code",
      "metadata": {
        "id": "yLhLyCQPiU8D",
        "colab": {
          "base_uri": "https://localhost:8080/",
          "height": 279
        },
        "outputId": "68c54cad-6452-4d12-8e45-7e0f38d607d7"
      },
      "source": [
        "\n",
        "import matplotlib.pyplot as plt\n",
        "\n",
        "\n",
        "plt.plot(range(nn.epochs), nn.eval_['cost'])\n",
        "plt.ylabel('Cost')\n",
        "plt.xlabel('Epochs')\n",
        "#plt.savefig('images/12_07.png', dpi=300)\n",
        "plt.show()"
      ],
      "execution_count": null,
      "outputs": [
        {
          "output_type": "display_data",
          "data": {
            "image/png": "[encoded data removed]",
            "text/plain": [
              "<Figure size 432x288 with 1 Axes>"
            ]
          },
          "metadata": {
            "tags": [],
            "needs_background": "light"
          }
        }
      ]
    },
    {
      "cell_type": "code",
      "metadata": {
        "id": "3RCpYDMGm-V7",
        "colab": {
          "base_uri": "https://localhost:8080/",
          "height": 585
        },
        "outputId": "28e8cdfd-98f6-4719-c03b-f8678c8839f3"
      },
      "source": [
        "\n",
        "miscl_img = X_test[y_test != y_test_pred][:25]\n",
        "correct_lab = y_test[y_test != y_test_pred][:25]\n",
        "miscl_lab = y_test_pred[y_test != y_test_pred][:25]\n",
        "\n",
        "fig, ax = plt.subplots(nrows=5, ncols=5, sharex=True, sharey=True, figsize=(8,8))\n",
        "ax = ax.flatten()\n",
        "for i in range(25):\n",
        "    img = miscl_img[i].reshape(8, 8)\n",
        "    ax[i].imshow(img, cmap='Greys', interpolation='nearest')\n",
        "    ax[i].set_title('%d) t: %d p: %d' % (i+1, correct_lab[i], miscl_lab[i]))\n",
        "\n",
        "ax[0].set_xticks([])\n",
        "ax[0].set_yticks([])\n",
        "plt.tight_layout()\n",
        "#plt.savefig('images/12_09.png', dpi=300)\n",
        "plt.show()"
      ],
      "execution_count": null,
      "outputs": [
        {
          "output_type": "display_data",
          "data": {
            "image/png": "[encoded data removed]",
            "text/plain": [
              "<Figure size 576x576 with 25 Axes>"
            ]
          },
          "metadata": {
            "tags": []
          }
        }
      ]
    }
  ]
}