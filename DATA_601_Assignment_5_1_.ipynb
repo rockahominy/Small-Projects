{
 "cells": [
  {
   "cell_type": "code",
   "execution_count": 3,
   "metadata": {},
   "outputs": [
    {
     "data": {
      "text/plain": [
       "'/Users/me'"
      ]
     },
     "execution_count": 3,
     "metadata": {},
     "output_type": "execute_result"
    }
   ],
   "source": [
    "###Figuring out the working directory###\n",
    "import os\n",
    "\n",
    "os.getcwd()"
   ]
  },
  {
   "cell_type": "code",
   "execution_count": null,
   "metadata": {},
   "outputs": [],
   "source": [
    "###Assignment 1###"
   ]
  },
  {
   "cell_type": "code",
   "execution_count": 30,
   "metadata": {},
   "outputs": [],
   "source": [
    "import pandas as pd\n",
    "df_1 = pd.read_csv('path/RSD_10_01_05_2020.csv')"
   ]
  },
  {
   "cell_type": "code",
   "execution_count": 31,
   "metadata": {},
   "outputs": [],
   "source": [
    "df_2 = pd.read_csv('path/RSD_10_06_10_2020.csv')"
   ]
  },
  {
   "cell_type": "code",
   "execution_count": 32,
   "metadata": {},
   "outputs": [
    {
     "name": "stdout",
     "output_type": "stream",
     "text": [
      "(1441, 3)\n",
      "(1441, 3)\n"
     ]
    }
   ],
   "source": [
    "###Check shape of both DataFrames##\n",
    "print(df_1.shape)\n",
    "print(df_2.shape)"
   ]
  },
  {
   "cell_type": "code",
   "execution_count": 33,
   "metadata": {},
   "outputs": [
    {
     "name": "stdout",
     "output_type": "stream",
     "text": [
      "Index(['HDR', 'ROLLING SYSTEM DEMAND', 'Unnamed: 2'], dtype='object')\n",
      "Index(['HDR', 'ROLLING SYSTEM DEMAND', 'Unnamed: 2'], dtype='object')\n"
     ]
    }
   ],
   "source": [
    "###Check columns of both DataFrames##\n",
    "print(df_1.columns)\n",
    "print(df_2.columns)"
   ]
  },
  {
   "cell_type": "code",
   "execution_count": 34,
   "metadata": {},
   "outputs": [],
   "source": [
    "###Change columns names of both DataFrames###\n",
    "\n",
    "df_1.columns = ['HDR', 'Rolling System', 'Demand']\n",
    "\n",
    "df_2.columns = ['HDR', 'Rolling System', 'Demand']"
   ]
  },
  {
   "cell_type": "code",
   "execution_count": 35,
   "metadata": {},
   "outputs": [
    {
     "name": "stdout",
     "output_type": "stream",
     "text": [
      "Index(['HDR', 'Rolling System', 'Demand'], dtype='object')\n",
      "Index(['HDR', 'Rolling System', 'Demand'], dtype='object')\n"
     ]
    }
   ],
   "source": [
    "###make sure column names of both DataFrames were successfully changed###\n",
    "print(df_1.columns) \n",
    "print(df_2.columns)\n",
    "#both DataFrame column names changed successfully"
   ]
  },
  {
   "cell_type": "code",
   "execution_count": 36,
   "metadata": {},
   "outputs": [
    {
     "data": {
      "text/html": [
       "<div>\n",
       "<style scoped>\n",
       "    .dataframe tbody tr th:only-of-type {\n",
       "        vertical-align: middle;\n",
       "    }\n",
       "\n",
       "    .dataframe tbody tr th {\n",
       "        vertical-align: top;\n",
       "    }\n",
       "\n",
       "    .dataframe thead th {\n",
       "        text-align: right;\n",
       "    }\n",
       "</style>\n",
       "<table border=\"1\" class=\"dataframe\">\n",
       "  <thead>\n",
       "    <tr style=\"text-align: right;\">\n",
       "      <th></th>\n",
       "      <th>HDR</th>\n",
       "      <th>Rolling System</th>\n",
       "      <th>Demand</th>\n",
       "    </tr>\n",
       "  </thead>\n",
       "  <tbody>\n",
       "    <tr>\n",
       "      <th>1438</th>\n",
       "      <td>VD</td>\n",
       "      <td>2.020100e+13</td>\n",
       "      <td>22520.0</td>\n",
       "    </tr>\n",
       "    <tr>\n",
       "      <th>1439</th>\n",
       "      <td>VD</td>\n",
       "      <td>2.020100e+13</td>\n",
       "      <td>22477.0</td>\n",
       "    </tr>\n",
       "    <tr>\n",
       "      <th>1440</th>\n",
       "      <td>FTR</td>\n",
       "      <td>1.440000e+03</td>\n",
       "      <td>NaN</td>\n",
       "    </tr>\n",
       "  </tbody>\n",
       "</table>\n",
       "</div>"
      ],
      "text/plain": [
       "      HDR  Rolling System   Demand\n",
       "1438   VD    2.020100e+13  22520.0\n",
       "1439   VD    2.020100e+13  22477.0\n",
       "1440  FTR    1.440000e+03      NaN"
      ]
     },
     "execution_count": 36,
     "metadata": {},
     "output_type": "execute_result"
    }
   ],
   "source": [
    "df_1.tail(3) #last value in the DataFrame is a NAN so, remove"
   ]
  },
  {
   "cell_type": "code",
   "execution_count": 37,
   "metadata": {},
   "outputs": [],
   "source": [
    "df_1 = df_1.drop(1440, axis=0) #dropped the last row"
   ]
  },
  {
   "cell_type": "code",
   "execution_count": 38,
   "metadata": {},
   "outputs": [
    {
     "data": {
      "text/plain": [
       "(1440, 3)"
      ]
     },
     "execution_count": 38,
     "metadata": {},
     "output_type": "execute_result"
    }
   ],
   "source": [
    "df_1.shape #confirmed that the last row was removed"
   ]
  },
  {
   "cell_type": "code",
   "execution_count": 39,
   "metadata": {},
   "outputs": [
    {
     "data": {
      "text/html": [
       "<div>\n",
       "<style scoped>\n",
       "    .dataframe tbody tr th:only-of-type {\n",
       "        vertical-align: middle;\n",
       "    }\n",
       "\n",
       "    .dataframe tbody tr th {\n",
       "        vertical-align: top;\n",
       "    }\n",
       "\n",
       "    .dataframe thead th {\n",
       "        text-align: right;\n",
       "    }\n",
       "</style>\n",
       "<table border=\"1\" class=\"dataframe\">\n",
       "  <thead>\n",
       "    <tr style=\"text-align: right;\">\n",
       "      <th></th>\n",
       "      <th>HDR</th>\n",
       "      <th>Rolling System</th>\n",
       "      <th>Demand</th>\n",
       "    </tr>\n",
       "  </thead>\n",
       "  <tbody>\n",
       "    <tr>\n",
       "      <th>1438</th>\n",
       "      <td>VD</td>\n",
       "      <td>2.020100e+13</td>\n",
       "      <td>21665.0</td>\n",
       "    </tr>\n",
       "    <tr>\n",
       "      <th>1439</th>\n",
       "      <td>VD</td>\n",
       "      <td>2.020100e+13</td>\n",
       "      <td>21658.0</td>\n",
       "    </tr>\n",
       "    <tr>\n",
       "      <th>1440</th>\n",
       "      <td>FTR</td>\n",
       "      <td>1.440000e+03</td>\n",
       "      <td>NaN</td>\n",
       "    </tr>\n",
       "  </tbody>\n",
       "</table>\n",
       "</div>"
      ],
      "text/plain": [
       "      HDR  Rolling System   Demand\n",
       "1438   VD    2.020100e+13  21665.0\n",
       "1439   VD    2.020100e+13  21658.0\n",
       "1440  FTR    1.440000e+03      NaN"
      ]
     },
     "execution_count": 39,
     "metadata": {},
     "output_type": "execute_result"
    }
   ],
   "source": [
    "df_2.tail(3) #last value in the DataFrame in a NAN, so remove from DataFrame"
   ]
  },
  {
   "cell_type": "code",
   "execution_count": 40,
   "metadata": {},
   "outputs": [],
   "source": [
    "df_2 = df_2.drop(1440, axis=0) #dropped the last row"
   ]
  },
  {
   "cell_type": "code",
   "execution_count": 41,
   "metadata": {},
   "outputs": [
    {
     "data": {
      "text/plain": [
       "(1440, 3)"
      ]
     },
     "execution_count": 41,
     "metadata": {},
     "output_type": "execute_result"
    }
   ],
   "source": [
    "df_2.shape #confirmed that the last row was removed"
   ]
  },
  {
   "cell_type": "code",
   "execution_count": 42,
   "metadata": {},
   "outputs": [
    {
     "name": "stdout",
     "output_type": "stream",
     "text": [
      "0     24475.0\n",
      "1     24741.0\n",
      "2     24715.0\n",
      "3     24652.0\n",
      "4     24704.0\n",
      "5     24694.0\n",
      "6     24694.0\n",
      "7     24853.0\n",
      "8     24864.0\n",
      "9     24794.0\n",
      "10    24714.0\n",
      "11    24699.0\n",
      "12    24534.0\n",
      "Name: Demand, dtype: float64\n"
     ]
    }
   ],
   "source": [
    "###Index position 0 to 12 represents usage (MW) for the first hour###\n",
    "###Each row represents usage for 5 minutes###\n",
    "\n",
    "print(df_1['Demand'][0:13])"
   ]
  },
  {
   "cell_type": "code",
   "execution_count": 43,
   "metadata": {},
   "outputs": [],
   "source": [
    "df_3 = pd.concat([df_1, df_2], ignore_index=True)"
   ]
  },
  {
   "cell_type": "code",
   "execution_count": 44,
   "metadata": {},
   "outputs": [
    {
     "data": {
      "text/plain": [
       "(2880, 3)"
      ]
     },
     "execution_count": 44,
     "metadata": {},
     "output_type": "execute_result"
    }
   ],
   "source": [
    "df_3.shape #yes, the new DataFrame has 2880 rows as expected"
   ]
  },
  {
   "cell_type": "code",
   "execution_count": 45,
   "metadata": {},
   "outputs": [],
   "source": [
    "###Summing up every twelve rows to get Demand per hour###\n",
    "series_demand = df_3['Demand'].groupby(df_3['Demand'].index // 12).sum()"
   ]
  },
  {
   "cell_type": "code",
   "execution_count": 46,
   "metadata": {},
   "outputs": [
    {
     "data": {
      "text/plain": [
       "pandas.core.series.Series"
      ]
     },
     "execution_count": 46,
     "metadata": {},
     "output_type": "execute_result"
    }
   ],
   "source": [
    "type(series_demand) #confirm that object is a series"
   ]
  },
  {
   "cell_type": "code",
   "execution_count": 48,
   "metadata": {},
   "outputs": [
    {
     "name": "stdout",
     "output_type": "stream",
     "text": [
      "0      1\n",
      "1      2\n",
      "2      3\n",
      "3      4\n",
      "4      5\n",
      "5      6\n",
      "6      7\n",
      "7      8\n",
      "8      9\n",
      "9     10\n",
      "10    11\n",
      "11    12\n",
      "12    13\n",
      "13    14\n",
      "14    15\n",
      "15    16\n",
      "16    17\n",
      "17    18\n",
      "18    19\n",
      "19    20\n",
      "20    21\n",
      "21    22\n",
      "22    23\n",
      "23    24\n",
      "dtype: int64\n"
     ]
    }
   ],
   "source": [
    "import numpy as np\n",
    "\n",
    "series_hours = pd.Series(np.arange(1, 25)) #creates series object from int 1 to 24\n",
    "\n",
    "print(series_hours) #Print to confirm"
   ]
  },
  {
   "cell_type": "code",
   "execution_count": 49,
   "metadata": {},
   "outputs": [
    {
     "data": {
      "text/plain": [
       "Text(0.5, 1.0, 'Electricity Demands per Hour')"
      ]
     },
     "execution_count": 49,
     "metadata": {},
     "output_type": "execute_result"
    },
    {
     "data": {
      "image/png": "[encoded data removed]",
      "text/plain": [
       "<Figure size 432x288 with 1 Axes>"
      ]
     },
     "metadata": {
      "needs_background": "light"
     },
     "output_type": "display_data"
    }
   ],
   "source": [
    "import matplotlib.pyplot as plt\n",
    "\n",
    "###Bar graph of Electricity Demand per hour for the first 24 hours###\n",
    "\n",
    "plt.bar(series_hours, series_demand[0:24])\n",
    "plt.xticks(list(range(1, 25)))\n",
    "plt.ylabel('Demand (MW)')\n",
    "plt.xlabel('Hours')\n",
    "plt.title('Electricity Demands per Hour')"
   ]
  },
  {
   "cell_type": "code",
   "execution_count": 50,
   "metadata": {},
   "outputs": [
    {
     "data": {
      "text/plain": [
       "(240,)"
      ]
     },
     "execution_count": 50,
     "metadata": {},
     "output_type": "execute_result"
    }
   ],
   "source": [
    "series_demand.shape #240 rows"
   ]
  },
  {
   "cell_type": "code",
   "execution_count": 51,
   "metadata": {},
   "outputs": [
    {
     "name": "stdout",
     "output_type": "stream",
     "text": [
      "235    236\n",
      "236    237\n",
      "237    238\n",
      "238    239\n",
      "239    240\n",
      "dtype: int64\n"
     ]
    }
   ],
   "source": [
    "series_full_hours = pd.Series(np.arange(1, 241)) #creates series object from int 1 to 240\n",
    "\n",
    "print(series_full_hours.tail())"
   ]
  },
  {
   "cell_type": "code",
   "execution_count": 54,
   "metadata": {},
   "outputs": [
    {
     "data": {
      "text/plain": [
       "Text(0.5, 1.0, 'Electricity Demands per Hour')"
      ]
     },
     "execution_count": 54,
     "metadata": {},
     "output_type": "execute_result"
    },
    {
     "data": {
      "image/png": "[encoded data removed]",
      "text/plain": [
       "<Figure size 432x288 with 1 Axes>"
      ]
     },
     "metadata": {
      "needs_background": "light"
     },
     "output_type": "display_data"
    }
   ],
   "source": [
    "###Bar graph of Electricity Demand per hour for ten days###\n",
    "\n",
    "plt.bar(series_full_hours, series_demand[0:241])\n",
    "plt.ylabel('Demand (MW)')\n",
    "plt.xlabel('Hours')\n",
    "plt.title('Electricity Demands per Hour')"
   ]
  },
  {
   "cell_type": "code",
   "execution_count": null,
   "metadata": {},
   "outputs": [],
   "source": [
    "###Assignment 2###"
   ]
  },
  {
   "cell_type": "code",
   "execution_count": 62,
   "metadata": {},
   "outputs": [],
   "source": [
    "###Function definition of a Biased die###\n",
    "##Just tinkering##\n",
    "#import random as ra\n",
    "#def biased_die(num):\n",
    "    #die = [1, 2, 3, 4, 5, 6]\n",
    "    #rolls = ra.choices(die, weights=[15, 15, 15, 15, 15, 25], k=num)\n",
    "    #return list(rolls)"
   ]
  },
  {
   "cell_type": "code",
   "execution_count": 64,
   "metadata": {},
   "outputs": [
    {
     "data": {
      "text/plain": [
       "[5, 4, 6, 1, 2, 5, 5, 4, 3, 6]"
      ]
     },
     "execution_count": 64,
     "metadata": {},
     "output_type": "execute_result"
    }
   ],
   "source": [
    "#more tinkering#\n",
    "#biased_die(10) #10 rolls"
   ]
  },
  {
   "cell_type": "code",
   "execution_count": 65,
   "metadata": {},
   "outputs": [],
   "source": [
    "###Function definition of an unbiased die###\n",
    "#more tinkering#\n",
    "#def unbiased_die(num):\n",
    "    #die = [1, 2, 3, 4, 5, 6]\n",
    "    #rolls = ra.choices(die, k=num)\n",
    "    #return list(rolls)"
   ]
  },
  {
   "cell_type": "code",
   "execution_count": 66,
   "metadata": {},
   "outputs": [
    {
     "data": {
      "text/plain": [
       "[6, 1, 5, 3, 1]"
      ]
     },
     "execution_count": 66,
     "metadata": {},
     "output_type": "execute_result"
    }
   ],
   "source": [
    "#unbiased_die(5)"
   ]
  },
  {
   "cell_type": "code",
   "execution_count": 1,
   "metadata": {},
   "outputs": [],
   "source": [
    "import random as ra\n",
    "def both_die(num):\n",
    "    die = [1, 2, 3, 4, 5, 6]\n",
    "    rolls_biased = ra.choices(die, weights=[15, 15, 15, 15, 15, 25], k=num)\n",
    "    rolls_unbiased = ra.choices(die, k=num)\n",
    "    return [rolls_unbiased, rolls_biased]\n",
    "    "
   ]
  },
  {
   "cell_type": "code",
   "execution_count": 98,
   "metadata": {},
   "outputs": [],
   "source": [
    "###Use the function below###\n",
    "results = both_die(5) #indicate how many rolls you need from the unbiased and biased dies here"
   ]
  },
  {
   "cell_type": "code",
   "execution_count": 99,
   "metadata": {},
   "outputs": [
    {
     "data": {
      "text/plain": [
       "[3, 5, 4, 4, 1]"
      ]
     },
     "execution_count": 99,
     "metadata": {},
     "output_type": "execute_result"
    }
   ],
   "source": [
    "results[0]"
   ]
  },
  {
   "cell_type": "code",
   "execution_count": 100,
   "metadata": {},
   "outputs": [
    {
     "data": {
      "text/plain": [
       "[3, 6, 2, 6, 2]"
      ]
     },
     "execution_count": 100,
     "metadata": {},
     "output_type": "execute_result"
    }
   ],
   "source": [
    "results[1]"
   ]
  },
  {
   "cell_type": "code",
   "execution_count": 101,
   "metadata": {},
   "outputs": [],
   "source": [
    "#df_unbiased = pd.DataFrame(results[0])\n",
    "#df_biased = pd.DataFrame(results[1])\n",
    "\n",
    "df = pd.DataFrame({'Unbiased die': results[0], \n",
    "                  'Biased die': results[1]})"
   ]
  },
  {
   "cell_type": "code",
   "execution_count": 102,
   "metadata": {},
   "outputs": [
    {
     "data": {
      "text/plain": [
       "Text(0, 0.5, 'Frequency')"
      ]
     },
     "execution_count": 102,
     "metadata": {},
     "output_type": "execute_result"
    },
    {
     "data": {
      "image/png": "[encoded data removed]",
      "text/plain": [
       "<Figure size 432x288 with 1 Axes>"
      ]
     },
     "metadata": {
      "needs_background": "light"
     },
     "output_type": "display_data"
    }
   ],
   "source": [
    "###Graph the simulations###\n",
    "\n",
    "ax = df.plot.hist()\n",
    "ax.set_title('Die Frequencies')\n",
    "ax.set_xlabel('Die Side')\n",
    "ax.set_ylabel('Frequency')"
   ]
  },
  {
   "cell_type": "code",
   "execution_count": 5,
   "metadata": {},
   "outputs": [],
   "source": [
    "import random as ra\n",
    "import matplotlib as plt \n",
    "import pandas as pd \n",
    "def roll_and_plot(num):\n",
    "    die = [1, 2, 3, 4, 5, 6]\n",
    "    rolls_biased = ra.choices(die, weights=[15, 15, 15, 15, 15, 25], k=num)\n",
    "    rolls_unbiased = ra.choices(die, k=num)\n",
    "    [rolls_unbiased, rolls_biased]\n",
    "\n",
    "    df = pd.DataFrame({'Unbiased die': rolls_unbiased, \n",
    "                  'Biased die': rolls_biased})\n",
    "    \n",
    "    ax = df.plot.hist()\n",
    "    ax.set_title('Die Frequencies')\n",
    "    ax.set_xlabel('Die Side')\n",
    "    ax.set_ylabel('Frequency')"
   ]
  },
  {
   "cell_type": "code",
   "execution_count": 7,
   "metadata": {},
   "outputs": [
    {
     "data": {
      "image/png": "[encoded data removed]",
      "text/plain": [
       "<Figure size 432x288 with 1 Axes>"
      ]
     },
     "metadata": {
      "needs_background": "light"
     },
     "output_type": "display_data"
    }
   ],
   "source": [
    "roll_and_plot(7)"
   ]
  },
  {
   "cell_type": "code",
   "execution_count": null,
   "metadata": {},
   "outputs": [],
   "source": []
  }
 ],
 "metadata": {
  "kernelspec": {
   "display_name": "Python 3",
   "language": "python",
   "name": "python3"
  },
  "language_info": {
   "codemirror_mode": {
    "name": "ipython",
    "version": 3
   },
   "file_extension": ".py",
   "mimetype": "text/x-python",
   "name": "python",
   "nbconvert_exporter": "python",
   "pygments_lexer": "ipython3",
   "version": "3.7.6"
  }
 },
 "nbformat": 4,
 "nbformat_minor": 4
}
