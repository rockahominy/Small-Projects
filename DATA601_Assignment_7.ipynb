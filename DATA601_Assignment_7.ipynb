{
 "cells": [
  {
   "cell_type": "markdown",
   "metadata": {},
   "source": [
    "Assignment Instructions:\n",
    "A .zip containing .txt and .docx files is attached.\n",
    "\n",
    "For each file, remove punctuation and stop words\n",
    "\n",
    "Produce a single .dat file containing the name of the file in quotes, a colon, then a list of words separated by commas. The list of words per file should be unique. Do not include URLs or phone numbers."
   ]
  },
  {
   "cell_type": "code",
   "execution_count": 2,
   "metadata": {},
   "outputs": [
    {
     "name": "stdout",
     "output_type": "stream",
     "text": [
      "Collecting package metadata (current_repodata.json): done\n",
      "Solving environment: done\n",
      "\n",
      "## Package Plan ##\n",
      "\n",
      "  environment location: /Users/chinchuharris/opt/anaconda3\n",
      "\n",
      "  added / updated specs:\n",
      "    - python-docx\n",
      "\n",
      "\n",
      "The following packages will be downloaded:\n",
      "\n",
      "    package                    |            build\n",
      "    ---------------------------|-----------------\n",
      "    conda-4.9.0                |   py37h2987424_1         3.0 MB  conda-forge\n",
      "    python-docx-0.8.10         |             py_0         136 KB  conda-forge\n",
      "    ------------------------------------------------------------\n",
      "                                           Total:         3.2 MB\n",
      "\n",
      "The following NEW packages will be INSTALLED:\n",
      "\n",
      "  python-docx        conda-forge/noarch::python-docx-0.8.10-py_0\n",
      "\n",
      "The following packages will be UPDATED:\n",
      "\n",
      "  conda                        anaconda::conda-4.9.0-py37_0 --> conda-forge::conda-4.9.0-py37h2987424_1\n",
      "\n",
      "\n",
      "\n",
      "Downloading and Extracting Packages\n",
      "python-docx-0.8.10   | 136 KB    | ##################################### | 100% \n",
      "conda-4.9.0          | 3.0 MB    | ##################################### | 100% \n",
      "Preparing transaction: done\n",
      "Verifying transaction: - WARNING conda.core.path_actions:verify(963): Unable to create environments file. Path not writable.\n",
      "  environment location: /Users/chinchuharris/.conda/environments.txt\n",
      "\n",
      "done\n",
      "Executing transaction: - WARNING conda.core.envs_manager:register_env(52): Unable to register environment. Path not writable or missing.\n",
      "  environment location: /Users/chinchuharris/opt/anaconda3\n",
      "  registry file: /Users/chinchuharris/.conda/environments.txt\n",
      "done\n",
      "\n",
      "Note: you may need to restart the kernel to use updated packages.\n"
     ]
    }
   ],
   "source": [
    "###Install the necessary docx library###\n",
    "conda install -c conda-forge python-docx"
   ]
  },
  {
   "cell_type": "code",
   "execution_count": null,
   "metadata": {},
   "outputs": [],
   "source": [
    "import pandas as pd #for later use"
   ]
  },
  {
   "cell_type": "code",
   "execution_count": 233,
   "metadata": {},
   "outputs": [],
   "source": [
    "with open('/Users/chinchuharris/Downloads/week_8_documents/week_8_document2.txt', 'rb') as doc_2:\n",
    "    txt = doc_2.read()"
   ]
  },
  {
   "cell_type": "code",
   "execution_count": 234,
   "metadata": {},
   "outputs": [
    {
     "name": "stdout",
     "output_type": "stream",
     "text": [
      "b'\\r\\nDr. Yawn\\r\\nby Earl Vickers \\r\\nfrom Boring Bedtime Stories \\x97 An Anthology for Insomniacs\\r\\n \\r\\n \\r\\nIt started, harmlessly enough, with a high-school science fair project \\x96 \\x93Why Are Yawns Contagious?\\x94 But one thing led to another until here he was, the world\\x92s foremost expert on a subject no one cared about, a topic equally suicidal at career conferences and cocktail parties.\\r\\n \\r\\nFor reasons he did not fully understand, the discussion of yawning was considered almost as rude and/or boring as the act itself. The mere mention of his research would inevitably bring about a minor epidemic of uncontrollable yawns, whether behind his back, disguised by a hand, or right to his face. In this way he had ruined countless conventions, meetings, concerts, bachelor parties and wedding receptions, until the number of invitations, both social and professional, had dwindled to nothing.\\r\\n \\r\\nThis was doubly unfortunate, because while they lasted, these social encounters served as laboratories for additional field research. At the conclusion of each ill-fated encounter, he would quietly retire to a corner of the room and take meticulous notes. Sometimes he would surreptitiously time these discussions with a stopwatch, carefully noting the length of the initial gestation period, or pre-delay; the duration of the long inspiratory phase; the precise moment of the acme, or orgasmic peak of the yawn; the short expiration period; the contagion interval; and the rate at which new bystanders were afflicted. He would also gather as much data as possible regarding the people involved, in an effort to derive correlations between personality type and susceptibility to yawn contagion.\\r\\n \\r\\nRealizing that most people did not share his fascination for learning about yawning\\x92s paralinguistic value, its role as a complex arousal defense reflex, its origin in the reticular brainstem, or theories on its relation to borderline hypoxia, he had tried to spice up his discussions with famous quotations, such as Aristotle\\x92s: \\x93As a donkey urinates when he sees or hears another donkey doing it, so also man yawns seeing someone else do so.\\x94 He even used his joke about the pharmacological connection between yawning and spontaneous erection \\x97 \"Am I boring you to death, or are you just happy to see me?\" But without fail, the recipient of these conversations would ask to be excused and, covering mouth with hand, make a beeline for anywhere else.\\r\\n \\r\\nSadly, his work had suffered in recent years. He seemed unable to concentrate. Often he would fall asleep in the middle of his research or while writing a paper. Even when he managed to complete an article, it was rarely either accepted or rejected \\x97 it was simply ignored, as if the manuscript had become unreadable. In the academic world of \\x93publish or perish,\\x94 he was on the perish path.\\r\\n \\r\\nStudents rarely came to his office any more. He missed seeing their bright, inquisitive eyes, lighting up briefly before eventually disappearing behind heavy lids, the flame of curiosity gradually flickering in the wind of physiologic research before finally being extinguished by discussions of serotoninergic inhibition, neuromuscular spindles, adrenocorticotropic hormone-related peptides and hypothalamic dopaminergic mechanisms.\\r\\n \\r\\nHe had particularly enjoyed showing his students a nearly fascinating portrait that hung on his wall. This painting, he believed, should have been priceless, as it apparently dated from the time of the Renaissance, but he had managed to obtain it from its ignorant owner for a few hundred dollars. He suspected the portrait to be one spoken of by Leonardo da Vinci: \\x93An artist once painted a picture which made everybody who saw it yawn and yawn repeatedly as long as they kept their eyes on the picture, which represented a man who was also yawning.\\x94\\r\\n \\r\\nThe professor had hoped this painting would impress upon his students the reality and immediacy of the contagion phenomenon and trigger an avalanche of questions, but often the students would suddenly remember an urgent appointment on the other side of campus.\\r\\n \\r\\nHis lectures had a reputation for being, if not mesmerizing, at least somniferous. It was rumored that he once managed to render an entire classroom unconscious, but this was almost certainly an exaggeration. At any rate, students displayed remarkable ingenuity in devising new ways to conceal, stifle and swallow their yawns. They developed elaborate alarm systems to keep each other awake during exams and when called upon during class. Meanwhile, students who suffered from insomnia would frequently audit his classes in search of a cure for their condition.\\r\\n \\r\\nOn one recent evening, the professor sat up in bed, reviewing his life. He recalled with some satisfaction his breakthroughs in the areas of fetal yawn research, temporary yawn-related hearing loss and hysterical paroxysmal yawning. He fondly remembered the (mostly seated) ovation he received from those still awake as he finished presenting his groundbreaking paper on the role of yawning in mate selection. While his one non-technical book, The Joy of Yawning, and his monograph \\x93Yawn Proudly,\\x94 never quite reached the broader audiences for whom they were intended, he was nonetheless proud of his efforts to popularize the subject. He had done all one man could do. \\r\\n \\r\\n\\x93Not such a bad life,\\x94 he reflected, stretching out in bed and closing his eyes. Soon, perhaps, the dean, the mayor, or the President would awaken him, asking for his help, something about a kidnapping or a terrorist plot, his expertise desperately needed, the megaphone or cell phone placed in his hand, his dulcet tones calming, relaxing, defusing the situation, until everyone drifts off to sleep, soft, warm, comfortable sleep, no problems that can\\x92t wait for another day. He would sleep now, wake tomorrow to the thanks of a grateful nation.\\r\\n \\r\\n \\r\\n \\r\\nhttps://www.museumofconceptualart.com/stories/boringbedtimestories/dryawn.html\\r\\n \\r\\n \\r\\n \\r\\n\\r\\n'\n"
     ]
    }
   ],
   "source": [
    "print(txt)"
   ]
  },
  {
   "cell_type": "code",
   "execution_count": 235,
   "metadata": {},
   "outputs": [],
   "source": [
    "txt = txt.decode(\"utf-8\", \"ignore\") #remove the \\r and \\n from txt"
   ]
  },
  {
   "cell_type": "code",
   "execution_count": 236,
   "metadata": {},
   "outputs": [
    {
     "name": "stdout",
     "output_type": "stream",
     "text": [
      "\r\n",
      "Dr. Yawn\r\n",
      "by Earl Vickers \r\n",
      "from Boring Bedtime Stories  An Anthology for Insomniacs\r\n",
      " \r\n",
      " \r\n",
      "It started, harmlessly enough, with a high-school science fair project  Why Are Yawns Contagious? But one thing led to another until here he was, the worlds foremost expert on a subject no one cared about, a topic equally suicidal at career conferences and cocktail parties.\r\n",
      " \r\n",
      "For reasons he did not fully understand, the discussion of yawning was considered almost as rude and/or boring as the act itself. The mere mention of his research would inevitably bring about a minor epidemic of uncontrollable yawns, whether behind his back, disguised by a hand, or right to his face. In this way he had ruined countless conventions, meetings, concerts, bachelor parties and wedding receptions, until the number of invitations, both social and professional, had dwindled to nothing.\r\n",
      " \r\n",
      "This was doubly unfortunate, because while they lasted, these social encounters served as laboratories for additional field research. At the conclusion of each ill-fated encounter, he would quietly retire to a corner of the room and take meticulous notes. Sometimes he would surreptitiously time these discussions with a stopwatch, carefully noting the length of the initial gestation period, or pre-delay; the duration of the long inspiratory phase; the precise moment of the acme, or orgasmic peak of the yawn; the short expiration period; the contagion interval; and the rate at which new bystanders were afflicted. He would also gather as much data as possible regarding the people involved, in an effort to derive correlations between personality type and susceptibility to yawn contagion.\r\n",
      " \r\n",
      "Realizing that most people did not share his fascination for learning about yawnings paralinguistic value, its role as a complex arousal defense reflex, its origin in the reticular brainstem, or theories on its relation to borderline hypoxia, he had tried to spice up his discussions with famous quotations, such as Aristotles: As a donkey urinates when he sees or hears another donkey doing it, so also man yawns seeing someone else do so. He even used his joke about the pharmacological connection between yawning and spontaneous erection  \"Am I boring you to death, or are you just happy to see me?\" But without fail, the recipient of these conversations would ask to be excused and, covering mouth with hand, make a beeline for anywhere else.\r\n",
      " \r\n",
      "Sadly, his work had suffered in recent years. He seemed unable to concentrate. Often he would fall asleep in the middle of his research or while writing a paper. Even when he managed to complete an article, it was rarely either accepted or rejected  it was simply ignored, as if the manuscript had become unreadable. In the academic world of publish or perish, he was on the perish path.\r\n",
      " \r\n",
      "Students rarely came to his office any more. He missed seeing their bright, inquisitive eyes, lighting up briefly before eventually disappearing behind heavy lids, the flame of curiosity gradually flickering in the wind of physiologic research before finally being extinguished by discussions of serotoninergic inhibition, neuromuscular spindles, adrenocorticotropic hormone-related peptides and hypothalamic dopaminergic mechanisms.\r\n",
      " \r\n",
      "He had particularly enjoyed showing his students a nearly fascinating portrait that hung on his wall. This painting, he believed, should have been priceless, as it apparently dated from the time of the Renaissance, but he had managed to obtain it from its ignorant owner for a few hundred dollars. He suspected the portrait to be one spoken of by Leonardo da Vinci: An artist once painted a picture which made everybody who saw it yawn and yawn repeatedly as long as they kept their eyes on the picture, which represented a man who was also yawning.\r\n",
      " \r\n",
      "The professor had hoped this painting would impress upon his students the reality and immediacy of the contagion phenomenon and trigger an avalanche of questions, but often the students would suddenly remember an urgent appointment on the other side of campus.\r\n",
      " \r\n",
      "His lectures had a reputation for being, if not mesmerizing, at least somniferous. It was rumored that he once managed to render an entire classroom unconscious, but this was almost certainly an exaggeration. At any rate, students displayed remarkable ingenuity in devising new ways to conceal, stifle and swallow their yawns. They developed elaborate alarm systems to keep each other awake during exams and when called upon during class. Meanwhile, students who suffered from insomnia would frequently audit his classes in search of a cure for their condition.\r\n",
      " \r\n",
      "On one recent evening, the professor sat up in bed, reviewing his life. He recalled with some satisfaction his breakthroughs in the areas of fetal yawn research, temporary yawn-related hearing loss and hysterical paroxysmal yawning. He fondly remembered the (mostly seated) ovation he received from those still awake as he finished presenting his groundbreaking paper on the role of yawning in mate selection. While his one non-technical book, The Joy of Yawning, and his monograph Yawn Proudly, never quite reached the broader audiences for whom they were intended, he was nonetheless proud of his efforts to popularize the subject. He had done all one man could do. \r\n",
      " \r\n",
      "Not such a bad life, he reflected, stretching out in bed and closing his eyes. Soon, perhaps, the dean, the mayor, or the President would awaken him, asking for his help, something about a kidnapping or a terrorist plot, his expertise desperately needed, the megaphone or cell phone placed in his hand, his dulcet tones calming, relaxing, defusing the situation, until everyone drifts off to sleep, soft, warm, comfortable sleep, no problems that cant wait for another day. He would sleep now, wake tomorrow to the thanks of a grateful nation.\r\n",
      " \r\n",
      " \r\n",
      " \r\n",
      "https://www.museumofconceptualart.com/stories/boringbedtimestories/dryawn.html\r\n",
      " \r\n",
      " \r\n",
      " \r\n",
      "\r\n",
      "\n"
     ]
    }
   ],
   "source": [
    "\n",
    "print(txt)"
   ]
  },
  {
   "cell_type": "code",
   "execution_count": 237,
   "metadata": {},
   "outputs": [],
   "source": [
    "###Remove punctuation###\n",
    "import string #new library\n",
    "\n",
    "output = txt.translate(str.maketrans('', '', string.punctuation))\n"
   ]
  },
  {
   "cell_type": "code",
   "execution_count": 238,
   "metadata": {},
   "outputs": [
    {
     "name": "stdout",
     "output_type": "stream",
     "text": [
      "\r\n",
      "Dr Yawn\r\n",
      "by Earl Vickers \r\n",
      "from Boring Bedtime Stories  An Anthology for Insomniacs\r\n",
      " \r\n",
      " \r\n",
      "It started harmlessly enough with a highschool science fair project  Why Are Yawns Contagious But one thing led to another until here he was the worlds foremost expert on a subject no one cared about a topic equally suicidal at career conferences and cocktail parties\r\n",
      " \r\n",
      "For reasons he did not fully understand the discussion of yawning was considered almost as rude andor boring as the act itself The mere mention of his research would inevitably bring about a minor epidemic of uncontrollable yawns whether behind his back disguised by a hand or right to his face In this way he had ruined countless conventions meetings concerts bachelor parties and wedding receptions until the number of invitations both social and professional had dwindled to nothing\r\n",
      " \r\n",
      "This was doubly unfortunate because while they lasted these social encounters served as laboratories for additional field research At the conclusion of each illfated encounter he would quietly retire to a corner of the room and take meticulous notes Sometimes he would surreptitiously time these discussions with a stopwatch carefully noting the length of the initial gestation period or predelay the duration of the long inspiratory phase the precise moment of the acme or orgasmic peak of the yawn the short expiration period the contagion interval and the rate at which new bystanders were afflicted He would also gather as much data as possible regarding the people involved in an effort to derive correlations between personality type and susceptibility to yawn contagion\r\n",
      " \r\n",
      "Realizing that most people did not share his fascination for learning about yawnings paralinguistic value its role as a complex arousal defense reflex its origin in the reticular brainstem or theories on its relation to borderline hypoxia he had tried to spice up his discussions with famous quotations such as Aristotles As a donkey urinates when he sees or hears another donkey doing it so also man yawns seeing someone else do so He even used his joke about the pharmacological connection between yawning and spontaneous erection  Am I boring you to death or are you just happy to see me But without fail the recipient of these conversations would ask to be excused and covering mouth with hand make a beeline for anywhere else\r\n",
      " \r\n",
      "Sadly his work had suffered in recent years He seemed unable to concentrate Often he would fall asleep in the middle of his research or while writing a paper Even when he managed to complete an article it was rarely either accepted or rejected  it was simply ignored as if the manuscript had become unreadable In the academic world of publish or perish he was on the perish path\r\n",
      " \r\n",
      "Students rarely came to his office any more He missed seeing their bright inquisitive eyes lighting up briefly before eventually disappearing behind heavy lids the flame of curiosity gradually flickering in the wind of physiologic research before finally being extinguished by discussions of serotoninergic inhibition neuromuscular spindles adrenocorticotropic hormonerelated peptides and hypothalamic dopaminergic mechanisms\r\n",
      " \r\n",
      "He had particularly enjoyed showing his students a nearly fascinating portrait that hung on his wall This painting he believed should have been priceless as it apparently dated from the time of the Renaissance but he had managed to obtain it from its ignorant owner for a few hundred dollars He suspected the portrait to be one spoken of by Leonardo da Vinci An artist once painted a picture which made everybody who saw it yawn and yawn repeatedly as long as they kept their eyes on the picture which represented a man who was also yawning\r\n",
      " \r\n",
      "The professor had hoped this painting would impress upon his students the reality and immediacy of the contagion phenomenon and trigger an avalanche of questions but often the students would suddenly remember an urgent appointment on the other side of campus\r\n",
      " \r\n",
      "His lectures had a reputation for being if not mesmerizing at least somniferous It was rumored that he once managed to render an entire classroom unconscious but this was almost certainly an exaggeration At any rate students displayed remarkable ingenuity in devising new ways to conceal stifle and swallow their yawns They developed elaborate alarm systems to keep each other awake during exams and when called upon during class Meanwhile students who suffered from insomnia would frequently audit his classes in search of a cure for their condition\r\n",
      " \r\n",
      "On one recent evening the professor sat up in bed reviewing his life He recalled with some satisfaction his breakthroughs in the areas of fetal yawn research temporary yawnrelated hearing loss and hysterical paroxysmal yawning He fondly remembered the mostly seated ovation he received from those still awake as he finished presenting his groundbreaking paper on the role of yawning in mate selection While his one nontechnical book The Joy of Yawning and his monograph Yawn Proudly never quite reached the broader audiences for whom they were intended he was nonetheless proud of his efforts to popularize the subject He had done all one man could do \r\n",
      " \r\n",
      "Not such a bad life he reflected stretching out in bed and closing his eyes Soon perhaps the dean the mayor or the President would awaken him asking for his help something about a kidnapping or a terrorist plot his expertise desperately needed the megaphone or cell phone placed in his hand his dulcet tones calming relaxing defusing the situation until everyone drifts off to sleep soft warm comfortable sleep no problems that cant wait for another day He would sleep now wake tomorrow to the thanks of a grateful nation\r\n",
      " \r\n",
      " \r\n",
      " \r\n",
      "httpswwwmuseumofconceptualartcomstoriesboringbedtimestoriesdryawnhtml\r\n",
      " \r\n",
      " \r\n",
      " \r\n",
      "\r\n",
      "\n"
     ]
    }
   ],
   "source": [
    "print(output) #all the punctuation has been removed from output"
   ]
  },
  {
   "cell_type": "code",
   "execution_count": 239,
   "metadata": {},
   "outputs": [],
   "source": [
    "import nltk"
   ]
  },
  {
   "cell_type": "code",
   "execution_count": 240,
   "metadata": {},
   "outputs": [
    {
     "data": {
      "text/plain": [
       "['AbstractLazySequence',\n",
       " 'AffixTagger',\n",
       " 'AlignedSent',\n",
       " 'Alignment',\n",
       " 'AnnotationTask',\n",
       " 'ApplicationExpression',\n",
       " 'Assignment',\n",
       " 'BigramAssocMeasures',\n",
       " 'BigramCollocationFinder',\n",
       " 'BigramTagger',\n",
       " 'BinaryMaxentFeatureEncoding',\n",
       " 'BlanklineTokenizer',\n",
       " 'BllipParser',\n",
       " 'BottomUpChartParser',\n",
       " 'BottomUpLeftCornerChartParser',\n",
       " 'BottomUpProbabilisticChartParser',\n",
       " 'Boxer',\n",
       " 'BrillTagger',\n",
       " 'BrillTaggerTrainer',\n",
       " 'CFG',\n",
       " 'CRFTagger',\n",
       " 'CfgReadingCommand',\n",
       " 'ChartParser',\n",
       " 'ChunkParserI',\n",
       " 'ChunkScore',\n",
       " 'Cistem',\n",
       " 'ClassifierBasedPOSTagger',\n",
       " 'ClassifierBasedTagger',\n",
       " 'ClassifierI',\n",
       " 'ConcordanceIndex',\n",
       " 'ConditionalExponentialClassifier',\n",
       " 'ConditionalFreqDist',\n",
       " 'ConditionalProbDist',\n",
       " 'ConditionalProbDistI',\n",
       " 'ConfusionMatrix',\n",
       " 'ContextIndex',\n",
       " 'ContextTagger',\n",
       " 'ContingencyMeasures',\n",
       " 'CoreNLPDependencyParser',\n",
       " 'CoreNLPParser',\n",
       " 'Counter',\n",
       " 'CrossValidationProbDist',\n",
       " 'DRS',\n",
       " 'DecisionTreeClassifier',\n",
       " 'DefaultTagger',\n",
       " 'DependencyEvaluator',\n",
       " 'DependencyGrammar',\n",
       " 'DependencyGraph',\n",
       " 'DependencyProduction',\n",
       " 'DictionaryConditionalProbDist',\n",
       " 'DictionaryProbDist',\n",
       " 'DiscourseTester',\n",
       " 'DrtExpression',\n",
       " 'DrtGlueReadingCommand',\n",
       " 'ELEProbDist',\n",
       " 'EarleyChartParser',\n",
       " 'Expression',\n",
       " 'FStructure',\n",
       " 'FeatDict',\n",
       " 'FeatList',\n",
       " 'FeatStruct',\n",
       " 'FeatStructReader',\n",
       " 'Feature',\n",
       " 'FeatureBottomUpChartParser',\n",
       " 'FeatureBottomUpLeftCornerChartParser',\n",
       " 'FeatureChartParser',\n",
       " 'FeatureEarleyChartParser',\n",
       " 'FeatureIncrementalBottomUpChartParser',\n",
       " 'FeatureIncrementalBottomUpLeftCornerChartParser',\n",
       " 'FeatureIncrementalChartParser',\n",
       " 'FeatureIncrementalTopDownChartParser',\n",
       " 'FeatureTopDownChartParser',\n",
       " 'FreqDist',\n",
       " 'HTTPPasswordMgrWithDefaultRealm',\n",
       " 'HeldoutProbDist',\n",
       " 'HiddenMarkovModelTagger',\n",
       " 'HiddenMarkovModelTrainer',\n",
       " 'HunposTagger',\n",
       " 'IBMModel',\n",
       " 'IBMModel1',\n",
       " 'IBMModel2',\n",
       " 'IBMModel3',\n",
       " 'IBMModel4',\n",
       " 'IBMModel5',\n",
       " 'ISRIStemmer',\n",
       " 'ImmutableMultiParentedTree',\n",
       " 'ImmutableParentedTree',\n",
       " 'ImmutableProbabilisticMixIn',\n",
       " 'ImmutableProbabilisticTree',\n",
       " 'ImmutableTree',\n",
       " 'IncrementalBottomUpChartParser',\n",
       " 'IncrementalBottomUpLeftCornerChartParser',\n",
       " 'IncrementalChartParser',\n",
       " 'IncrementalLeftCornerChartParser',\n",
       " 'IncrementalTopDownChartParser',\n",
       " 'Index',\n",
       " 'InsideChartParser',\n",
       " 'JSONTaggedDecoder',\n",
       " 'JSONTaggedEncoder',\n",
       " 'KneserNeyProbDist',\n",
       " 'LancasterStemmer',\n",
       " 'LaplaceProbDist',\n",
       " 'LazyConcatenation',\n",
       " 'LazyEnumerate',\n",
       " 'LazyIteratorList',\n",
       " 'LazyMap',\n",
       " 'LazySubsequence',\n",
       " 'LazyZip',\n",
       " 'LeftCornerChartParser',\n",
       " 'LidstoneProbDist',\n",
       " 'LineTokenizer',\n",
       " 'LogicalExpressionException',\n",
       " 'LongestChartParser',\n",
       " 'MLEProbDist',\n",
       " 'MWETokenizer',\n",
       " 'Mace',\n",
       " 'MaceCommand',\n",
       " 'MaltParser',\n",
       " 'MaxentClassifier',\n",
       " 'Model',\n",
       " 'MultiClassifierI',\n",
       " 'MultiParentedTree',\n",
       " 'MutableProbDist',\n",
       " 'NaiveBayesClassifier',\n",
       " 'NaiveBayesDependencyScorer',\n",
       " 'NgramAssocMeasures',\n",
       " 'NgramTagger',\n",
       " 'NonprojectiveDependencyParser',\n",
       " 'Nonterminal',\n",
       " 'OrderedDict',\n",
       " 'PCFG',\n",
       " 'Paice',\n",
       " 'ParallelProverBuilder',\n",
       " 'ParallelProverBuilderCommand',\n",
       " 'ParentedTree',\n",
       " 'ParserI',\n",
       " 'PerceptronTagger',\n",
       " 'PhraseTable',\n",
       " 'PorterStemmer',\n",
       " 'PositiveNaiveBayesClassifier',\n",
       " 'ProbDistI',\n",
       " 'ProbabilisticDependencyGrammar',\n",
       " 'ProbabilisticMixIn',\n",
       " 'ProbabilisticNonprojectiveParser',\n",
       " 'ProbabilisticProduction',\n",
       " 'ProbabilisticProjectiveDependencyParser',\n",
       " 'ProbabilisticTree',\n",
       " 'Production',\n",
       " 'ProjectiveDependencyParser',\n",
       " 'Prover9',\n",
       " 'Prover9Command',\n",
       " 'ProxyBasicAuthHandler',\n",
       " 'ProxyDigestAuthHandler',\n",
       " 'ProxyHandler',\n",
       " 'PunktSentenceTokenizer',\n",
       " 'QuadgramAssocMeasures',\n",
       " 'QuadgramCollocationFinder',\n",
       " 'RSLPStemmer',\n",
       " 'RTEFeatureExtractor',\n",
       " 'RUS_PICKLE',\n",
       " 'RandomChartParser',\n",
       " 'RangeFeature',\n",
       " 'ReadingCommand',\n",
       " 'RecursiveDescentParser',\n",
       " 'RegexpChunkParser',\n",
       " 'RegexpParser',\n",
       " 'RegexpStemmer',\n",
       " 'RegexpTagger',\n",
       " 'RegexpTokenizer',\n",
       " 'ReppTokenizer',\n",
       " 'ResolutionProver',\n",
       " 'ResolutionProverCommand',\n",
       " 'SExprTokenizer',\n",
       " 'SLASH',\n",
       " 'Senna',\n",
       " 'SennaChunkTagger',\n",
       " 'SennaNERTagger',\n",
       " 'SennaTagger',\n",
       " 'SequentialBackoffTagger',\n",
       " 'ShiftReduceParser',\n",
       " 'SimpleGoodTuringProbDist',\n",
       " 'SklearnClassifier',\n",
       " 'SlashFeature',\n",
       " 'SnowballStemmer',\n",
       " 'SpaceTokenizer',\n",
       " 'StackDecoder',\n",
       " 'StanfordNERTagger',\n",
       " 'StanfordPOSTagger',\n",
       " 'StanfordSegmenter',\n",
       " 'StanfordTagger',\n",
       " 'StemmerI',\n",
       " 'SteppingChartParser',\n",
       " 'SteppingRecursiveDescentParser',\n",
       " 'SteppingShiftReduceParser',\n",
       " 'SyllableTokenizer',\n",
       " 'TYPE',\n",
       " 'TabTokenizer',\n",
       " 'TableauProver',\n",
       " 'TableauProverCommand',\n",
       " 'TaggerI',\n",
       " 'TestGrammar',\n",
       " 'Text',\n",
       " 'TextCat',\n",
       " 'TextCollection',\n",
       " 'TextTilingTokenizer',\n",
       " 'TnT',\n",
       " 'TokenSearcher',\n",
       " 'ToktokTokenizer',\n",
       " 'TopDownChartParser',\n",
       " 'TransitionParser',\n",
       " 'Tree',\n",
       " 'TreebankWordTokenizer',\n",
       " 'Trie',\n",
       " 'TrigramAssocMeasures',\n",
       " 'TrigramCollocationFinder',\n",
       " 'TrigramTagger',\n",
       " 'TweetTokenizer',\n",
       " 'TypedMaxentFeatureEncoding',\n",
       " 'Undefined',\n",
       " 'UniformProbDist',\n",
       " 'UnigramTagger',\n",
       " 'UnsortedChartParser',\n",
       " 'Valuation',\n",
       " 'Variable',\n",
       " 'ViterbiParser',\n",
       " 'WekaClassifier',\n",
       " 'WhitespaceTokenizer',\n",
       " 'WittenBellProbDist',\n",
       " 'WordNetLemmatizer',\n",
       " 'WordPunctTokenizer',\n",
       " '__author__',\n",
       " '__author_email__',\n",
       " '__builtins__',\n",
       " '__cached__',\n",
       " '__classifiers__',\n",
       " '__copyright__',\n",
       " '__doc__',\n",
       " '__file__',\n",
       " '__keywords__',\n",
       " '__license__',\n",
       " '__loader__',\n",
       " '__longdescr__',\n",
       " '__maintainer__',\n",
       " '__maintainer_email__',\n",
       " '__name__',\n",
       " '__package__',\n",
       " '__path__',\n",
       " '__spec__',\n",
       " '__url__',\n",
       " '__version__',\n",
       " 'absolute_import',\n",
       " 'accuracy',\n",
       " 'add_logs',\n",
       " 'agreement',\n",
       " 'align',\n",
       " 'alignment_error_rate',\n",
       " 'aline',\n",
       " 'api',\n",
       " 'app',\n",
       " 'apply_features',\n",
       " 'approxrand',\n",
       " 'arity',\n",
       " 'association',\n",
       " 'bigrams',\n",
       " 'binary_distance',\n",
       " 'binary_search_file',\n",
       " 'binding_ops',\n",
       " 'bisect',\n",
       " 'blankline_tokenize',\n",
       " 'bleu',\n",
       " 'bleu_score',\n",
       " 'bllip',\n",
       " 'boolean_ops',\n",
       " 'boxer',\n",
       " 'bracket_parse',\n",
       " 'breadth_first',\n",
       " 'brill',\n",
       " 'brill_trainer',\n",
       " 'build_opener',\n",
       " 'call_megam',\n",
       " 'casual',\n",
       " 'casual_tokenize',\n",
       " 'ccg',\n",
       " 'chain',\n",
       " 'chart',\n",
       " 'chat',\n",
       " 'choose',\n",
       " 'chunk',\n",
       " 'cistem',\n",
       " 'class_types',\n",
       " 'classify',\n",
       " 'clause',\n",
       " 'clean_html',\n",
       " 'clean_url',\n",
       " 'cluster',\n",
       " 'collections',\n",
       " 'collocations',\n",
       " 'combinations',\n",
       " 'compat',\n",
       " 'config_java',\n",
       " 'config_megam',\n",
       " 'config_weka',\n",
       " 'conflicts',\n",
       " 'confusionmatrix',\n",
       " 'conllstr2tree',\n",
       " 'conlltags2tree',\n",
       " 'corenlp',\n",
       " 'corpus',\n",
       " 'crf',\n",
       " 'custom_distance',\n",
       " 'data',\n",
       " 'decisiontree',\n",
       " 'decorator',\n",
       " 'decorators',\n",
       " 'defaultdict',\n",
       " 'demo',\n",
       " 'dependencygraph',\n",
       " 'deque',\n",
       " 'discourse',\n",
       " 'distance',\n",
       " 'download',\n",
       " 'download_gui',\n",
       " 'download_shell',\n",
       " 'downloader',\n",
       " 'draw',\n",
       " 'drt',\n",
       " 'earleychart',\n",
       " 'edit_distance',\n",
       " 'edit_distance_align',\n",
       " 'elementtree_indent',\n",
       " 'entropy',\n",
       " 'equality_preds',\n",
       " 'evaluate',\n",
       " 'evaluate_sents',\n",
       " 'everygrams',\n",
       " 'extract_rels',\n",
       " 'extract_test_sentences',\n",
       " 'f_measure',\n",
       " 'featstruct',\n",
       " 'featurechart',\n",
       " 'filestring',\n",
       " 'find',\n",
       " 'flatten',\n",
       " 'fractional_presence',\n",
       " 'getproxies',\n",
       " 'ghd',\n",
       " 'glue',\n",
       " 'grammar',\n",
       " 'guess_encoding',\n",
       " 'help',\n",
       " 'hmm',\n",
       " 'hunpos',\n",
       " 'ibm1',\n",
       " 'ibm2',\n",
       " 'ibm3',\n",
       " 'ibm4',\n",
       " 'ibm5',\n",
       " 'ibm_model',\n",
       " 'ieerstr2tree',\n",
       " 'improved_close_quote_regex',\n",
       " 'improved_open_quote_regex',\n",
       " 'improved_open_single_quote_regex',\n",
       " 'improved_punct_regex',\n",
       " 'in_idle',\n",
       " 'induce_pcfg',\n",
       " 'inference',\n",
       " 'infile',\n",
       " 'inspect',\n",
       " 'install_opener',\n",
       " 'internals',\n",
       " 'interpret_sents',\n",
       " 'interval_distance',\n",
       " 'invert_dict',\n",
       " 'invert_graph',\n",
       " 'is_rel',\n",
       " 'islice',\n",
       " 'isri',\n",
       " 'jaccard_distance',\n",
       " 'json_tags',\n",
       " 'jsontags',\n",
       " 'lancaster',\n",
       " 'lazyimport',\n",
       " 'lfg',\n",
       " 'line_tokenize',\n",
       " 'linearlogic',\n",
       " 'lm',\n",
       " 'load',\n",
       " 'load_parser',\n",
       " 'locale',\n",
       " 'log_likelihood',\n",
       " 'logic',\n",
       " 'mace',\n",
       " 'malt',\n",
       " 'map_tag',\n",
       " 'mapping',\n",
       " 'masi_distance',\n",
       " 'maxent',\n",
       " 'megam',\n",
       " 'memoize',\n",
       " 'meteor',\n",
       " 'meteor_score',\n",
       " 'metrics',\n",
       " 'misc',\n",
       " 'mwe',\n",
       " 'naivebayes',\n",
       " 'ne_chunk',\n",
       " 'ne_chunk_sents',\n",
       " 'ngrams',\n",
       " 'nltk.corpus',\n",
       " 'nonprojectivedependencyparser',\n",
       " 'nonterminals',\n",
       " 'numpy',\n",
       " 'os',\n",
       " 'pad_sequence',\n",
       " 'paice',\n",
       " 'parse',\n",
       " 'parse_sents',\n",
       " 'pchart',\n",
       " 'perceptron',\n",
       " 'pk',\n",
       " 'porter',\n",
       " 'pos_tag',\n",
       " 'pos_tag_sents',\n",
       " 'positivenaivebayes',\n",
       " 'pprint',\n",
       " 'pr',\n",
       " 'precision',\n",
       " 'presence',\n",
       " 'print_function',\n",
       " 'print_string',\n",
       " 'probability',\n",
       " 'projectivedependencyparser',\n",
       " 'prover9',\n",
       " 'punkt',\n",
       " 'py25',\n",
       " 'py26',\n",
       " 'py27',\n",
       " 'pydoc',\n",
       " 'python_2_unicode_compatible',\n",
       " 'raise_unorderable_types',\n",
       " 'ranks_from_scores',\n",
       " 'ranks_from_sequence',\n",
       " 're',\n",
       " 're_show',\n",
       " 'read_grammar',\n",
       " 'read_logic',\n",
       " 'read_valuation',\n",
       " 'recall',\n",
       " 'recursivedescent',\n",
       " 'regexp',\n",
       " 'regexp_span_tokenize',\n",
       " 'regexp_tokenize',\n",
       " 'register_tag',\n",
       " 'relextract',\n",
       " 'repp',\n",
       " 'resolution',\n",
       " 'ribes',\n",
       " 'ribes_score',\n",
       " 'root_semrep',\n",
       " 'rslp',\n",
       " 'rte_classifier',\n",
       " 'rte_classify',\n",
       " 'rte_features',\n",
       " 'rtuple',\n",
       " 'scikitlearn',\n",
       " 'scores',\n",
       " 'segmentation',\n",
       " 'sem',\n",
       " 'senna',\n",
       " 'sent_tokenize',\n",
       " 'sequential',\n",
       " 'set2rel',\n",
       " 'set_proxy',\n",
       " 'sexpr',\n",
       " 'sexpr_tokenize',\n",
       " 'shiftreduce',\n",
       " 'simple',\n",
       " 'sinica_parse',\n",
       " 'skipgrams',\n",
       " 'skolemize',\n",
       " 'slice_bounds',\n",
       " 'snowball',\n",
       " 'sonority_sequencing',\n",
       " 'spearman',\n",
       " 'spearman_correlation',\n",
       " 'stack_decoder',\n",
       " 'stanford',\n",
       " 'stanford_segmenter',\n",
       " 'stem',\n",
       " 'str2tuple',\n",
       " 'string_span_tokenize',\n",
       " 'string_types',\n",
       " 'subprocess',\n",
       " 'subsumes',\n",
       " 'sum_logs',\n",
       " 'sys',\n",
       " 'tableau',\n",
       " 'tadm',\n",
       " 'tag',\n",
       " 'tagset_mapping',\n",
       " 'tagstr2tree',\n",
       " 'tbl',\n",
       " 'text',\n",
       " 'text_type',\n",
       " 'textcat',\n",
       " 'texttiling',\n",
       " 'textwrap',\n",
       " 'tkinter',\n",
       " 'tnt',\n",
       " 'tokenize',\n",
       " 'tokenwrap',\n",
       " 'toktok',\n",
       " 'toolbox',\n",
       " 'total_ordering',\n",
       " 'transitionparser',\n",
       " 'transitive_closure',\n",
       " 'translate',\n",
       " 'tree',\n",
       " 'tree2conllstr',\n",
       " 'tree2conlltags',\n",
       " 'treebank',\n",
       " 'treetransforms',\n",
       " 'trigrams',\n",
       " 'tuple2str',\n",
       " 'types',\n",
       " 'unify',\n",
       " 'unique_list',\n",
       " 'untag',\n",
       " 'usage',\n",
       " 'util',\n",
       " 'version_file',\n",
       " 'version_info',\n",
       " 'viterbi',\n",
       " 'weka',\n",
       " 'windowdiff',\n",
       " 'word_tokenize',\n",
       " 'wordnet',\n",
       " 'wordpunct_tokenize',\n",
       " 'wsd']"
      ]
     },
     "execution_count": 240,
     "metadata": {},
     "output_type": "execute_result"
    }
   ],
   "source": [
    "dir(nltk) #different functions available with this library"
   ]
  },
  {
   "cell_type": "code",
   "execution_count": 241,
   "metadata": {},
   "outputs": [],
   "source": [
    "from nltk.tokenize import word_tokenize \n",
    "\n",
    "word_tok = word_tokenize(output) #tokenize the object 'output'"
   ]
  },
  {
   "cell_type": "code",
   "execution_count": 242,
   "metadata": {},
   "outputs": [
    {
     "data": {
      "text/plain": [
       "list"
      ]
     },
     "execution_count": 242,
     "metadata": {},
     "output_type": "execute_result"
    }
   ],
   "source": [
    "type(word_tok) #The words were tokenized and list is returned"
   ]
  },
  {
   "cell_type": "code",
   "execution_count": 243,
   "metadata": {},
   "outputs": [
    {
     "name": "stdout",
     "output_type": "stream",
     "text": [
      "['Dr', 'Yawn', 'by', 'Earl', 'Vickers', 'from', 'Boring', 'Bedtime', 'Stories', 'An', 'Anthology', 'for', 'Insomniacs', 'It', 'started', 'harmlessly', 'enough', 'with', 'a', 'highschool', 'science', 'fair', 'project', 'Why', 'Are', 'Yawns', 'Contagious', 'But', 'one', 'thing', 'led', 'to', 'another', 'until', 'here', 'he', 'was', 'the', 'worlds', 'foremost', 'expert', 'on', 'a', 'subject', 'no', 'one', 'cared', 'about', 'a', 'topic', 'equally', 'suicidal', 'at', 'career', 'conferences', 'and', 'cocktail', 'parties', 'For', 'reasons', 'he', 'did', 'not', 'fully', 'understand', 'the', 'discussion', 'of', 'yawning', 'was', 'considered', 'almost', 'as', 'rude', 'andor', 'boring', 'as', 'the', 'act', 'itself', 'The', 'mere', 'mention', 'of', 'his', 'research', 'would', 'inevitably', 'bring', 'about', 'a', 'minor', 'epidemic', 'of', 'uncontrollable', 'yawns', 'whether', 'behind', 'his', 'back', 'disguised', 'by', 'a', 'hand', 'or', 'right', 'to', 'his', 'face', 'In', 'this', 'way', 'he', 'had', 'ruined', 'countless', 'conventions', 'meetings', 'concerts', 'bachelor', 'parties', 'and', 'wedding', 'receptions', 'until', 'the', 'number', 'of', 'invitations', 'both', 'social', 'and', 'professional', 'had', 'dwindled', 'to', 'nothing', 'This', 'was', 'doubly', 'unfortunate', 'because', 'while', 'they', 'lasted', 'these', 'social', 'encounters', 'served', 'as', 'laboratories', 'for', 'additional', 'field', 'research', 'At', 'the', 'conclusion', 'of', 'each', 'illfated', 'encounter', 'he', 'would', 'quietly', 'retire', 'to', 'a', 'corner', 'of', 'the', 'room', 'and', 'take', 'meticulous', 'notes', 'Sometimes', 'he', 'would', 'surreptitiously', 'time', 'these', 'discussions', 'with', 'a', 'stopwatch', 'carefully', 'noting', 'the', 'length', 'of', 'the', 'initial', 'gestation', 'period', 'or', 'predelay', 'the', 'duration', 'of', 'the', 'long', 'inspiratory', 'phase', 'the', 'precise', 'moment', 'of', 'the', 'acme', 'or', 'orgasmic', 'peak', 'of', 'the', 'yawn', 'the', 'short', 'expiration', 'period', 'the', 'contagion', 'interval', 'and', 'the', 'rate', 'at', 'which', 'new', 'bystanders', 'were', 'afflicted', 'He', 'would', 'also', 'gather', 'as', 'much', 'data', 'as', 'possible', 'regarding', 'the', 'people', 'involved', 'in', 'an', 'effort', 'to', 'derive', 'correlations', 'between', 'personality', 'type', 'and', 'susceptibility', 'to', 'yawn', 'contagion', 'Realizing', 'that', 'most', 'people', 'did', 'not', 'share', 'his', 'fascination', 'for', 'learning', 'about', 'yawnings', 'paralinguistic', 'value', 'its', 'role', 'as', 'a', 'complex', 'arousal', 'defense', 'reflex', 'its', 'origin', 'in', 'the', 'reticular', 'brainstem', 'or', 'theories', 'on', 'its', 'relation', 'to', 'borderline', 'hypoxia', 'he', 'had', 'tried', 'to', 'spice', 'up', 'his', 'discussions', 'with', 'famous', 'quotations', 'such', 'as', 'Aristotles', 'As', 'a', 'donkey', 'urinates', 'when', 'he', 'sees', 'or', 'hears', 'another', 'donkey', 'doing', 'it', 'so', 'also', 'man', 'yawns', 'seeing', 'someone', 'else', 'do', 'so', 'He', 'even', 'used', 'his', 'joke', 'about', 'the', 'pharmacological', 'connection', 'between', 'yawning', 'and', 'spontaneous', 'erection', 'Am', 'I', 'boring', 'you', 'to', 'death', 'or', 'are', 'you', 'just', 'happy', 'to', 'see', 'me', 'But', 'without', 'fail', 'the', 'recipient', 'of', 'these', 'conversations', 'would', 'ask', 'to', 'be', 'excused', 'and', 'covering', 'mouth', 'with', 'hand', 'make', 'a', 'beeline', 'for', 'anywhere', 'else', 'Sadly', 'his', 'work', 'had', 'suffered', 'in', 'recent', 'years', 'He', 'seemed', 'unable', 'to', 'concentrate', 'Often', 'he', 'would', 'fall', 'asleep', 'in', 'the', 'middle', 'of', 'his', 'research', 'or', 'while', 'writing', 'a', 'paper', 'Even', 'when', 'he', 'managed', 'to', 'complete', 'an', 'article', 'it', 'was', 'rarely', 'either', 'accepted', 'or', 'rejected', 'it', 'was', 'simply', 'ignored', 'as', 'if', 'the', 'manuscript', 'had', 'become', 'unreadable', 'In', 'the', 'academic', 'world', 'of', 'publish', 'or', 'perish', 'he', 'was', 'on', 'the', 'perish', 'path', 'Students', 'rarely', 'came', 'to', 'his', 'office', 'any', 'more', 'He', 'missed', 'seeing', 'their', 'bright', 'inquisitive', 'eyes', 'lighting', 'up', 'briefly', 'before', 'eventually', 'disappearing', 'behind', 'heavy', 'lids', 'the', 'flame', 'of', 'curiosity', 'gradually', 'flickering', 'in', 'the', 'wind', 'of', 'physiologic', 'research', 'before', 'finally', 'being', 'extinguished', 'by', 'discussions', 'of', 'serotoninergic', 'inhibition', 'neuromuscular', 'spindles', 'adrenocorticotropic', 'hormonerelated', 'peptides', 'and', 'hypothalamic', 'dopaminergic', 'mechanisms', 'He', 'had', 'particularly', 'enjoyed', 'showing', 'his', 'students', 'a', 'nearly', 'fascinating', 'portrait', 'that', 'hung', 'on', 'his', 'wall', 'This', 'painting', 'he', 'believed', 'should', 'have', 'been', 'priceless', 'as', 'it', 'apparently', 'dated', 'from', 'the', 'time', 'of', 'the', 'Renaissance', 'but', 'he', 'had', 'managed', 'to', 'obtain', 'it', 'from', 'its', 'ignorant', 'owner', 'for', 'a', 'few', 'hundred', 'dollars', 'He', 'suspected', 'the', 'portrait', 'to', 'be', 'one', 'spoken', 'of', 'by', 'Leonardo', 'da', 'Vinci', 'An', 'artist', 'once', 'painted', 'a', 'picture', 'which', 'made', 'everybody', 'who', 'saw', 'it', 'yawn', 'and', 'yawn', 'repeatedly', 'as', 'long', 'as', 'they', 'kept', 'their', 'eyes', 'on', 'the', 'picture', 'which', 'represented', 'a', 'man', 'who', 'was', 'also', 'yawning', 'The', 'professor', 'had', 'hoped', 'this', 'painting', 'would', 'impress', 'upon', 'his', 'students', 'the', 'reality', 'and', 'immediacy', 'of', 'the', 'contagion', 'phenomenon', 'and', 'trigger', 'an', 'avalanche', 'of', 'questions', 'but', 'often', 'the', 'students', 'would', 'suddenly', 'remember', 'an', 'urgent', 'appointment', 'on', 'the', 'other', 'side', 'of', 'campus', 'His', 'lectures', 'had', 'a', 'reputation', 'for', 'being', 'if', 'not', 'mesmerizing', 'at', 'least', 'somniferous', 'It', 'was', 'rumored', 'that', 'he', 'once', 'managed', 'to', 'render', 'an', 'entire', 'classroom', 'unconscious', 'but', 'this', 'was', 'almost', 'certainly', 'an', 'exaggeration', 'At', 'any', 'rate', 'students', 'displayed', 'remarkable', 'ingenuity', 'in', 'devising', 'new', 'ways', 'to', 'conceal', 'stifle', 'and', 'swallow', 'their', 'yawns', 'They', 'developed', 'elaborate', 'alarm', 'systems', 'to', 'keep', 'each', 'other', 'awake', 'during', 'exams', 'and', 'when', 'called', 'upon', 'during', 'class', 'Meanwhile', 'students', 'who', 'suffered', 'from', 'insomnia', 'would', 'frequently', 'audit', 'his', 'classes', 'in', 'search', 'of', 'a', 'cure', 'for', 'their', 'condition', 'On', 'one', 'recent', 'evening', 'the', 'professor', 'sat', 'up', 'in', 'bed', 'reviewing', 'his', 'life', 'He', 'recalled', 'with', 'some', 'satisfaction', 'his', 'breakthroughs', 'in', 'the', 'areas', 'of', 'fetal', 'yawn', 'research', 'temporary', 'yawnrelated', 'hearing', 'loss', 'and', 'hysterical', 'paroxysmal', 'yawning', 'He', 'fondly', 'remembered', 'the', 'mostly', 'seated', 'ovation', 'he', 'received', 'from', 'those', 'still', 'awake', 'as', 'he', 'finished', 'presenting', 'his', 'groundbreaking', 'paper', 'on', 'the', 'role', 'of', 'yawning', 'in', 'mate', 'selection', 'While', 'his', 'one', 'nontechnical', 'book', 'The', 'Joy', 'of', 'Yawning', 'and', 'his', 'monograph', 'Yawn', 'Proudly', 'never', 'quite', 'reached', 'the', 'broader', 'audiences', 'for', 'whom', 'they', 'were', 'intended', 'he', 'was', 'nonetheless', 'proud', 'of', 'his', 'efforts', 'to', 'popularize', 'the', 'subject', 'He', 'had', 'done', 'all', 'one', 'man', 'could', 'do', 'Not', 'such', 'a', 'bad', 'life', 'he', 'reflected', 'stretching', 'out', 'in', 'bed', 'and', 'closing', 'his', 'eyes', 'Soon', 'perhaps', 'the', 'dean', 'the', 'mayor', 'or', 'the', 'President', 'would', 'awaken', 'him', 'asking', 'for', 'his', 'help', 'something', 'about', 'a', 'kidnapping', 'or', 'a', 'terrorist', 'plot', 'his', 'expertise', 'desperately', 'needed', 'the', 'megaphone', 'or', 'cell', 'phone', 'placed', 'in', 'his', 'hand', 'his', 'dulcet', 'tones', 'calming', 'relaxing', 'defusing', 'the', 'situation', 'until', 'everyone', 'drifts', 'off', 'to', 'sleep', 'soft', 'warm', 'comfortable', 'sleep', 'no', 'problems', 'that', 'cant', 'wait', 'for', 'another', 'day', 'He', 'would', 'sleep', 'now', 'wake', 'tomorrow', 'to', 'the', 'thanks', 'of', 'a', 'grateful', 'nation', 'httpswwwmuseumofconceptualartcomstoriesboringbedtimestoriesdryawnhtml']\n"
     ]
    }
   ],
   "source": [
    "print(word_tok)  #list of tokenized words"
   ]
  },
  {
   "cell_type": "code",
   "execution_count": 244,
   "metadata": {},
   "outputs": [],
   "source": [
    "###Code to remove the last element in the previous list###\n",
    "##Remove URL##\n",
    "del word_tok[-1]"
   ]
  },
  {
   "cell_type": "code",
   "execution_count": 245,
   "metadata": {},
   "outputs": [
    {
     "name": "stdout",
     "output_type": "stream",
     "text": [
      "['Dr', 'Yawn', 'by', 'Earl', 'Vickers', 'from', 'Boring', 'Bedtime', 'Stories', 'An', 'Anthology', 'for', 'Insomniacs', 'It', 'started', 'harmlessly', 'enough', 'with', 'a', 'highschool', 'science', 'fair', 'project', 'Why', 'Are', 'Yawns', 'Contagious', 'But', 'one', 'thing', 'led', 'to', 'another', 'until', 'here', 'he', 'was', 'the', 'worlds', 'foremost', 'expert', 'on', 'a', 'subject', 'no', 'one', 'cared', 'about', 'a', 'topic', 'equally', 'suicidal', 'at', 'career', 'conferences', 'and', 'cocktail', 'parties', 'For', 'reasons', 'he', 'did', 'not', 'fully', 'understand', 'the', 'discussion', 'of', 'yawning', 'was', 'considered', 'almost', 'as', 'rude', 'andor', 'boring', 'as', 'the', 'act', 'itself', 'The', 'mere', 'mention', 'of', 'his', 'research', 'would', 'inevitably', 'bring', 'about', 'a', 'minor', 'epidemic', 'of', 'uncontrollable', 'yawns', 'whether', 'behind', 'his', 'back', 'disguised', 'by', 'a', 'hand', 'or', 'right', 'to', 'his', 'face', 'In', 'this', 'way', 'he', 'had', 'ruined', 'countless', 'conventions', 'meetings', 'concerts', 'bachelor', 'parties', 'and', 'wedding', 'receptions', 'until', 'the', 'number', 'of', 'invitations', 'both', 'social', 'and', 'professional', 'had', 'dwindled', 'to', 'nothing', 'This', 'was', 'doubly', 'unfortunate', 'because', 'while', 'they', 'lasted', 'these', 'social', 'encounters', 'served', 'as', 'laboratories', 'for', 'additional', 'field', 'research', 'At', 'the', 'conclusion', 'of', 'each', 'illfated', 'encounter', 'he', 'would', 'quietly', 'retire', 'to', 'a', 'corner', 'of', 'the', 'room', 'and', 'take', 'meticulous', 'notes', 'Sometimes', 'he', 'would', 'surreptitiously', 'time', 'these', 'discussions', 'with', 'a', 'stopwatch', 'carefully', 'noting', 'the', 'length', 'of', 'the', 'initial', 'gestation', 'period', 'or', 'predelay', 'the', 'duration', 'of', 'the', 'long', 'inspiratory', 'phase', 'the', 'precise', 'moment', 'of', 'the', 'acme', 'or', 'orgasmic', 'peak', 'of', 'the', 'yawn', 'the', 'short', 'expiration', 'period', 'the', 'contagion', 'interval', 'and', 'the', 'rate', 'at', 'which', 'new', 'bystanders', 'were', 'afflicted', 'He', 'would', 'also', 'gather', 'as', 'much', 'data', 'as', 'possible', 'regarding', 'the', 'people', 'involved', 'in', 'an', 'effort', 'to', 'derive', 'correlations', 'between', 'personality', 'type', 'and', 'susceptibility', 'to', 'yawn', 'contagion', 'Realizing', 'that', 'most', 'people', 'did', 'not', 'share', 'his', 'fascination', 'for', 'learning', 'about', 'yawnings', 'paralinguistic', 'value', 'its', 'role', 'as', 'a', 'complex', 'arousal', 'defense', 'reflex', 'its', 'origin', 'in', 'the', 'reticular', 'brainstem', 'or', 'theories', 'on', 'its', 'relation', 'to', 'borderline', 'hypoxia', 'he', 'had', 'tried', 'to', 'spice', 'up', 'his', 'discussions', 'with', 'famous', 'quotations', 'such', 'as', 'Aristotles', 'As', 'a', 'donkey', 'urinates', 'when', 'he', 'sees', 'or', 'hears', 'another', 'donkey', 'doing', 'it', 'so', 'also', 'man', 'yawns', 'seeing', 'someone', 'else', 'do', 'so', 'He', 'even', 'used', 'his', 'joke', 'about', 'the', 'pharmacological', 'connection', 'between', 'yawning', 'and', 'spontaneous', 'erection', 'Am', 'I', 'boring', 'you', 'to', 'death', 'or', 'are', 'you', 'just', 'happy', 'to', 'see', 'me', 'But', 'without', 'fail', 'the', 'recipient', 'of', 'these', 'conversations', 'would', 'ask', 'to', 'be', 'excused', 'and', 'covering', 'mouth', 'with', 'hand', 'make', 'a', 'beeline', 'for', 'anywhere', 'else', 'Sadly', 'his', 'work', 'had', 'suffered', 'in', 'recent', 'years', 'He', 'seemed', 'unable', 'to', 'concentrate', 'Often', 'he', 'would', 'fall', 'asleep', 'in', 'the', 'middle', 'of', 'his', 'research', 'or', 'while', 'writing', 'a', 'paper', 'Even', 'when', 'he', 'managed', 'to', 'complete', 'an', 'article', 'it', 'was', 'rarely', 'either', 'accepted', 'or', 'rejected', 'it', 'was', 'simply', 'ignored', 'as', 'if', 'the', 'manuscript', 'had', 'become', 'unreadable', 'In', 'the', 'academic', 'world', 'of', 'publish', 'or', 'perish', 'he', 'was', 'on', 'the', 'perish', 'path', 'Students', 'rarely', 'came', 'to', 'his', 'office', 'any', 'more', 'He', 'missed', 'seeing', 'their', 'bright', 'inquisitive', 'eyes', 'lighting', 'up', 'briefly', 'before', 'eventually', 'disappearing', 'behind', 'heavy', 'lids', 'the', 'flame', 'of', 'curiosity', 'gradually', 'flickering', 'in', 'the', 'wind', 'of', 'physiologic', 'research', 'before', 'finally', 'being', 'extinguished', 'by', 'discussions', 'of', 'serotoninergic', 'inhibition', 'neuromuscular', 'spindles', 'adrenocorticotropic', 'hormonerelated', 'peptides', 'and', 'hypothalamic', 'dopaminergic', 'mechanisms', 'He', 'had', 'particularly', 'enjoyed', 'showing', 'his', 'students', 'a', 'nearly', 'fascinating', 'portrait', 'that', 'hung', 'on', 'his', 'wall', 'This', 'painting', 'he', 'believed', 'should', 'have', 'been', 'priceless', 'as', 'it', 'apparently', 'dated', 'from', 'the', 'time', 'of', 'the', 'Renaissance', 'but', 'he', 'had', 'managed', 'to', 'obtain', 'it', 'from', 'its', 'ignorant', 'owner', 'for', 'a', 'few', 'hundred', 'dollars', 'He', 'suspected', 'the', 'portrait', 'to', 'be', 'one', 'spoken', 'of', 'by', 'Leonardo', 'da', 'Vinci', 'An', 'artist', 'once', 'painted', 'a', 'picture', 'which', 'made', 'everybody', 'who', 'saw', 'it', 'yawn', 'and', 'yawn', 'repeatedly', 'as', 'long', 'as', 'they', 'kept', 'their', 'eyes', 'on', 'the', 'picture', 'which', 'represented', 'a', 'man', 'who', 'was', 'also', 'yawning', 'The', 'professor', 'had', 'hoped', 'this', 'painting', 'would', 'impress', 'upon', 'his', 'students', 'the', 'reality', 'and', 'immediacy', 'of', 'the', 'contagion', 'phenomenon', 'and', 'trigger', 'an', 'avalanche', 'of', 'questions', 'but', 'often', 'the', 'students', 'would', 'suddenly', 'remember', 'an', 'urgent', 'appointment', 'on', 'the', 'other', 'side', 'of', 'campus', 'His', 'lectures', 'had', 'a', 'reputation', 'for', 'being', 'if', 'not', 'mesmerizing', 'at', 'least', 'somniferous', 'It', 'was', 'rumored', 'that', 'he', 'once', 'managed', 'to', 'render', 'an', 'entire', 'classroom', 'unconscious', 'but', 'this', 'was', 'almost', 'certainly', 'an', 'exaggeration', 'At', 'any', 'rate', 'students', 'displayed', 'remarkable', 'ingenuity', 'in', 'devising', 'new', 'ways', 'to', 'conceal', 'stifle', 'and', 'swallow', 'their', 'yawns', 'They', 'developed', 'elaborate', 'alarm', 'systems', 'to', 'keep', 'each', 'other', 'awake', 'during', 'exams', 'and', 'when', 'called', 'upon', 'during', 'class', 'Meanwhile', 'students', 'who', 'suffered', 'from', 'insomnia', 'would', 'frequently', 'audit', 'his', 'classes', 'in', 'search', 'of', 'a', 'cure', 'for', 'their', 'condition', 'On', 'one', 'recent', 'evening', 'the', 'professor', 'sat', 'up', 'in', 'bed', 'reviewing', 'his', 'life', 'He', 'recalled', 'with', 'some', 'satisfaction', 'his', 'breakthroughs', 'in', 'the', 'areas', 'of', 'fetal', 'yawn', 'research', 'temporary', 'yawnrelated', 'hearing', 'loss', 'and', 'hysterical', 'paroxysmal', 'yawning', 'He', 'fondly', 'remembered', 'the', 'mostly', 'seated', 'ovation', 'he', 'received', 'from', 'those', 'still', 'awake', 'as', 'he', 'finished', 'presenting', 'his', 'groundbreaking', 'paper', 'on', 'the', 'role', 'of', 'yawning', 'in', 'mate', 'selection', 'While', 'his', 'one', 'nontechnical', 'book', 'The', 'Joy', 'of', 'Yawning', 'and', 'his', 'monograph', 'Yawn', 'Proudly', 'never', 'quite', 'reached', 'the', 'broader', 'audiences', 'for', 'whom', 'they', 'were', 'intended', 'he', 'was', 'nonetheless', 'proud', 'of', 'his', 'efforts', 'to', 'popularize', 'the', 'subject', 'He', 'had', 'done', 'all', 'one', 'man', 'could', 'do', 'Not', 'such', 'a', 'bad', 'life', 'he', 'reflected', 'stretching', 'out', 'in', 'bed', 'and', 'closing', 'his', 'eyes', 'Soon', 'perhaps', 'the', 'dean', 'the', 'mayor', 'or', 'the', 'President', 'would', 'awaken', 'him', 'asking', 'for', 'his', 'help', 'something', 'about', 'a', 'kidnapping', 'or', 'a', 'terrorist', 'plot', 'his', 'expertise', 'desperately', 'needed', 'the', 'megaphone', 'or', 'cell', 'phone', 'placed', 'in', 'his', 'hand', 'his', 'dulcet', 'tones', 'calming', 'relaxing', 'defusing', 'the', 'situation', 'until', 'everyone', 'drifts', 'off', 'to', 'sleep', 'soft', 'warm', 'comfortable', 'sleep', 'no', 'problems', 'that', 'cant', 'wait', 'for', 'another', 'day', 'He', 'would', 'sleep', 'now', 'wake', 'tomorrow', 'to', 'the', 'thanks', 'of', 'a', 'grateful', 'nation']\n"
     ]
    }
   ],
   "source": [
    "###Look to see if the URL has been removed###\n",
    "print(word_tok)"
   ]
  },
  {
   "cell_type": "code",
   "execution_count": 246,
   "metadata": {},
   "outputs": [
    {
     "data": {
      "text/plain": [
       "['i', 'me', 'my', 'myself', 'we']"
      ]
     },
     "execution_count": 246,
     "metadata": {},
     "output_type": "execute_result"
    }
   ],
   "source": [
    "###Import stopwords###\n",
    "stopwords = nltk.corpus.stopwords.words('english')\n",
    "\n",
    "stopwords[0:5] #print some stopwords"
   ]
  },
  {
   "cell_type": "code",
   "execution_count": 247,
   "metadata": {},
   "outputs": [],
   "source": [
    "###Create function to remove stopwords from list and return a new list without stopwords###\n",
    "\n",
    "def clean_list(tokenized_):\n",
    "    new_list = [wd for wd in tokenized_ if wd not in stopwords]\n",
    "    return new_list"
   ]
  },
  {
   "cell_type": "code",
   "execution_count": 248,
   "metadata": {},
   "outputs": [],
   "source": [
    "unique_lst = pd.unique(word_tok)"
   ]
  },
  {
   "cell_type": "code",
   "execution_count": 249,
   "metadata": {},
   "outputs": [],
   "source": [
    "\n",
    "unique_lst = clean_list(unique_lst)"
   ]
  },
  {
   "cell_type": "code",
   "execution_count": 250,
   "metadata": {},
   "outputs": [
    {
     "name": "stdout",
     "output_type": "stream",
     "text": [
      "['Dr', 'Yawn', 'Earl', 'Vickers', 'Boring', 'Bedtime', 'Stories', 'An', 'Anthology', 'Insomniacs', 'It', 'started', 'harmlessly', 'enough', 'highschool', 'science', 'fair', 'project', 'Why', 'Are', 'Yawns', 'Contagious', 'But', 'one', 'thing', 'led', 'another', 'worlds', 'foremost', 'expert', 'subject', 'cared', 'topic', 'equally', 'suicidal', 'career', 'conferences', 'cocktail', 'parties', 'For', 'reasons', 'fully', 'understand', 'discussion', 'yawning', 'considered', 'almost', 'rude', 'andor', 'boring', 'act', 'The', 'mere', 'mention', 'research', 'would', 'inevitably', 'bring', 'minor', 'epidemic', 'uncontrollable', 'yawns', 'whether', 'behind', 'back', 'disguised', 'hand', 'right', 'face', 'In', 'way', 'ruined', 'countless', 'conventions', 'meetings', 'concerts', 'bachelor', 'wedding', 'receptions', 'number', 'invitations', 'social', 'professional', 'dwindled', 'nothing', 'This', 'doubly', 'unfortunate', 'lasted', 'encounters', 'served', 'laboratories', 'additional', 'field', 'At', 'conclusion', 'illfated', 'encounter', 'quietly', 'retire', 'corner', 'room', 'take', 'meticulous', 'notes', 'Sometimes', 'surreptitiously', 'time', 'discussions', 'stopwatch', 'carefully', 'noting', 'length', 'initial', 'gestation', 'period', 'predelay', 'duration', 'long', 'inspiratory', 'phase', 'precise', 'moment', 'acme', 'orgasmic', 'peak', 'yawn', 'short', 'expiration', 'contagion', 'interval', 'rate', 'new', 'bystanders', 'afflicted', 'He', 'also', 'gather', 'much', 'data', 'possible', 'regarding', 'people', 'involved', 'effort', 'derive', 'correlations', 'personality', 'type', 'susceptibility', 'Realizing', 'share', 'fascination', 'learning', 'yawnings', 'paralinguistic', 'value', 'role', 'complex', 'arousal', 'defense', 'reflex', 'origin', 'reticular', 'brainstem', 'theories', 'relation', 'borderline', 'hypoxia', 'tried', 'spice', 'famous', 'quotations', 'Aristotles', 'As', 'donkey', 'urinates', 'sees', 'hears', 'man', 'seeing', 'someone', 'else', 'even', 'used', 'joke', 'pharmacological', 'connection', 'spontaneous', 'erection', 'Am', 'I', 'death', 'happy', 'see', 'without', 'fail', 'recipient', 'conversations', 'ask', 'excused', 'covering', 'mouth', 'make', 'beeline', 'anywhere', 'Sadly', 'work', 'suffered', 'recent', 'years', 'seemed', 'unable', 'concentrate', 'Often', 'fall', 'asleep', 'middle', 'writing', 'paper', 'Even', 'managed', 'complete', 'article', 'rarely', 'either', 'accepted', 'rejected', 'simply', 'ignored', 'manuscript', 'become', 'unreadable', 'academic', 'world', 'publish', 'perish', 'path', 'Students', 'came', 'office', 'missed', 'bright', 'inquisitive', 'eyes', 'lighting', 'briefly', 'eventually', 'disappearing', 'heavy', 'lids', 'flame', 'curiosity', 'gradually', 'flickering', 'wind', 'physiologic', 'finally', 'extinguished', 'serotoninergic', 'inhibition', 'neuromuscular', 'spindles', 'adrenocorticotropic', 'hormonerelated', 'peptides', 'hypothalamic', 'dopaminergic', 'mechanisms', 'particularly', 'enjoyed', 'showing', 'students', 'nearly', 'fascinating', 'portrait', 'hung', 'wall', 'painting', 'believed', 'priceless', 'apparently', 'dated', 'Renaissance', 'obtain', 'ignorant', 'owner', 'hundred', 'dollars', 'suspected', 'spoken', 'Leonardo', 'da', 'Vinci', 'artist', 'painted', 'picture', 'made', 'everybody', 'saw', 'repeatedly', 'kept', 'represented', 'professor', 'hoped', 'impress', 'upon', 'reality', 'immediacy', 'phenomenon', 'trigger', 'avalanche', 'questions', 'often', 'suddenly', 'remember', 'urgent', 'appointment', 'side', 'campus', 'His', 'lectures', 'reputation', 'mesmerizing', 'least', 'somniferous', 'rumored', 'render', 'entire', 'classroom', 'unconscious', 'certainly', 'exaggeration', 'displayed', 'remarkable', 'ingenuity', 'devising', 'ways', 'conceal', 'stifle', 'swallow', 'They', 'developed', 'elaborate', 'alarm', 'systems', 'keep', 'awake', 'exams', 'called', 'class', 'Meanwhile', 'insomnia', 'frequently', 'audit', 'classes', 'search', 'cure', 'condition', 'On', 'evening', 'sat', 'bed', 'reviewing', 'life', 'recalled', 'satisfaction', 'breakthroughs', 'areas', 'fetal', 'temporary', 'yawnrelated', 'hearing', 'loss', 'hysterical', 'paroxysmal', 'fondly', 'remembered', 'mostly', 'seated', 'ovation', 'received', 'still', 'finished', 'presenting', 'groundbreaking', 'mate', 'selection', 'While', 'nontechnical', 'book', 'Joy', 'Yawning', 'monograph', 'Proudly', 'never', 'quite', 'reached', 'broader', 'audiences', 'intended', 'nonetheless', 'proud', 'efforts', 'popularize', 'done', 'could', 'Not', 'bad', 'reflected', 'stretching', 'closing', 'Soon', 'perhaps', 'dean', 'mayor', 'President', 'awaken', 'asking', 'help', 'something', 'kidnapping', 'terrorist', 'plot', 'expertise', 'desperately', 'needed', 'megaphone', 'cell', 'phone', 'placed', 'dulcet', 'tones', 'calming', 'relaxing', 'defusing', 'situation', 'everyone', 'drifts', 'sleep', 'soft', 'warm', 'comfortable', 'problems', 'cant', 'wait', 'day', 'wake', 'tomorrow', 'thanks', 'grateful', 'nation']\n"
     ]
    }
   ],
   "source": [
    "print(unique_lst)"
   ]
  },
  {
   "cell_type": "code",
   "execution_count": 251,
   "metadata": {},
   "outputs": [],
   "source": [
    "document_2 = \"Document 2\" + \":\" + str(unique_lst) "
   ]
  },
  {
   "cell_type": "code",
   "execution_count": 252,
   "metadata": {},
   "outputs": [
    {
     "data": {
      "text/plain": [
       "\"Document 2:['Dr', 'Yawn', 'Earl', 'Vickers', 'Boring', 'Bedtime', 'Stories', 'An', 'Anthology', 'Insomniacs', 'It', 'started', 'harmlessly', 'enough', 'highschool', 'science', 'fair', 'project', 'Why', 'Are', 'Yawns', 'Contagious', 'But', 'one', 'thing', 'led', 'another', 'worlds', 'foremost', 'expert', 'subject', 'cared', 'topic', 'equally', 'suicidal', 'career', 'conferences', 'cocktail', 'parties', 'For', 'reasons', 'fully', 'understand', 'discussion', 'yawning', 'considered', 'almost', 'rude', 'andor', 'boring', 'act', 'The', 'mere', 'mention', 'research', 'would', 'inevitably', 'bring', 'minor', 'epidemic', 'uncontrollable', 'yawns', 'whether', 'behind', 'back', 'disguised', 'hand', 'right', 'face', 'In', 'way', 'ruined', 'countless', 'conventions', 'meetings', 'concerts', 'bachelor', 'wedding', 'receptions', 'number', 'invitations', 'social', 'professional', 'dwindled', 'nothing', 'This', 'doubly', 'unfortunate', 'lasted', 'encounters', 'served', 'laboratories', 'additional', 'field', 'At', 'conclusion', 'illfated', 'encounter', 'quietly', 'retire', 'corner', 'room', 'take', 'meticulous', 'notes', 'Sometimes', 'surreptitiously', 'time', 'discussions', 'stopwatch', 'carefully', 'noting', 'length', 'initial', 'gestation', 'period', 'predelay', 'duration', 'long', 'inspiratory', 'phase', 'precise', 'moment', 'acme', 'orgasmic', 'peak', 'yawn', 'short', 'expiration', 'contagion', 'interval', 'rate', 'new', 'bystanders', 'afflicted', 'He', 'also', 'gather', 'much', 'data', 'possible', 'regarding', 'people', 'involved', 'effort', 'derive', 'correlations', 'personality', 'type', 'susceptibility', 'Realizing', 'share', 'fascination', 'learning', 'yawnings', 'paralinguistic', 'value', 'role', 'complex', 'arousal', 'defense', 'reflex', 'origin', 'reticular', 'brainstem', 'theories', 'relation', 'borderline', 'hypoxia', 'tried', 'spice', 'famous', 'quotations', 'Aristotles', 'As', 'donkey', 'urinates', 'sees', 'hears', 'man', 'seeing', 'someone', 'else', 'even', 'used', 'joke', 'pharmacological', 'connection', 'spontaneous', 'erection', 'Am', 'I', 'death', 'happy', 'see', 'without', 'fail', 'recipient', 'conversations', 'ask', 'excused', 'covering', 'mouth', 'make', 'beeline', 'anywhere', 'Sadly', 'work', 'suffered', 'recent', 'years', 'seemed', 'unable', 'concentrate', 'Often', 'fall', 'asleep', 'middle', 'writing', 'paper', 'Even', 'managed', 'complete', 'article', 'rarely', 'either', 'accepted', 'rejected', 'simply', 'ignored', 'manuscript', 'become', 'unreadable', 'academic', 'world', 'publish', 'perish', 'path', 'Students', 'came', 'office', 'missed', 'bright', 'inquisitive', 'eyes', 'lighting', 'briefly', 'eventually', 'disappearing', 'heavy', 'lids', 'flame', 'curiosity', 'gradually', 'flickering', 'wind', 'physiologic', 'finally', 'extinguished', 'serotoninergic', 'inhibition', 'neuromuscular', 'spindles', 'adrenocorticotropic', 'hormonerelated', 'peptides', 'hypothalamic', 'dopaminergic', 'mechanisms', 'particularly', 'enjoyed', 'showing', 'students', 'nearly', 'fascinating', 'portrait', 'hung', 'wall', 'painting', 'believed', 'priceless', 'apparently', 'dated', 'Renaissance', 'obtain', 'ignorant', 'owner', 'hundred', 'dollars', 'suspected', 'spoken', 'Leonardo', 'da', 'Vinci', 'artist', 'painted', 'picture', 'made', 'everybody', 'saw', 'repeatedly', 'kept', 'represented', 'professor', 'hoped', 'impress', 'upon', 'reality', 'immediacy', 'phenomenon', 'trigger', 'avalanche', 'questions', 'often', 'suddenly', 'remember', 'urgent', 'appointment', 'side', 'campus', 'His', 'lectures', 'reputation', 'mesmerizing', 'least', 'somniferous', 'rumored', 'render', 'entire', 'classroom', 'unconscious', 'certainly', 'exaggeration', 'displayed', 'remarkable', 'ingenuity', 'devising', 'ways', 'conceal', 'stifle', 'swallow', 'They', 'developed', 'elaborate', 'alarm', 'systems', 'keep', 'awake', 'exams', 'called', 'class', 'Meanwhile', 'insomnia', 'frequently', 'audit', 'classes', 'search', 'cure', 'condition', 'On', 'evening', 'sat', 'bed', 'reviewing', 'life', 'recalled', 'satisfaction', 'breakthroughs', 'areas', 'fetal', 'temporary', 'yawnrelated', 'hearing', 'loss', 'hysterical', 'paroxysmal', 'fondly', 'remembered', 'mostly', 'seated', 'ovation', 'received', 'still', 'finished', 'presenting', 'groundbreaking', 'mate', 'selection', 'While', 'nontechnical', 'book', 'Joy', 'Yawning', 'monograph', 'Proudly', 'never', 'quite', 'reached', 'broader', 'audiences', 'intended', 'nonetheless', 'proud', 'efforts', 'popularize', 'done', 'could', 'Not', 'bad', 'reflected', 'stretching', 'closing', 'Soon', 'perhaps', 'dean', 'mayor', 'President', 'awaken', 'asking', 'help', 'something', 'kidnapping', 'terrorist', 'plot', 'expertise', 'desperately', 'needed', 'megaphone', 'cell', 'phone', 'placed', 'dulcet', 'tones', 'calming', 'relaxing', 'defusing', 'situation', 'everyone', 'drifts', 'sleep', 'soft', 'warm', 'comfortable', 'problems', 'cant', 'wait', 'day', 'wake', 'tomorrow', 'thanks', 'grateful', 'nation']\""
      ]
     },
     "execution_count": 252,
     "metadata": {},
     "output_type": "execute_result"
    }
   ],
   "source": [
    "document_2"
   ]
  },
  {
   "cell_type": "code",
   "execution_count": null,
   "metadata": {},
   "outputs": [],
   "source": [
    "#######################################"
   ]
  },
  {
   "cell_type": "code",
   "execution_count": null,
   "metadata": {},
   "outputs": [],
   "source": [
    "########Moving onto Document 1#########"
   ]
  },
  {
   "cell_type": "code",
   "execution_count": null,
   "metadata": {},
   "outputs": [],
   "source": [
    "######################################"
   ]
  },
  {
   "cell_type": "code",
   "execution_count": 197,
   "metadata": {},
   "outputs": [
    {
     "data": {
      "text/plain": [
       "9"
      ]
     },
     "execution_count": 197,
     "metadata": {},
     "output_type": "execute_result"
    }
   ],
   "source": [
    "import docx as dc\n",
    "\n",
    "doc_1 = dc.Document('/Users/chinchuharris/Downloads/week_8_documents/week_8_document1.docx') \n",
    "\n",
    "len(doc_1.paragraphs) #There are 9 paragraphs in the document 'doc_1'\n"
   ]
  },
  {
   "cell_type": "code",
   "execution_count": 198,
   "metadata": {},
   "outputs": [],
   "source": [
    "#For loop to print the text in the paragraphs#\n",
    "lst = []\n",
    "for paragraph in doc_1.paragraphs:\n",
    "         lst.append(paragraph.text)\n",
    "        "
   ]
  },
  {
   "cell_type": "code",
   "execution_count": 199,
   "metadata": {},
   "outputs": [
    {
     "data": {
      "text/plain": [
       "['',\n",
       " '',\n",
       " 'Multilingual corpora that have been specially formatted for side-by-side comparison are called aligned parallel corpora. There are two main types of parallel corpora which contain texts in two languages. In a translation corpus, the texts in one language are translations of texts in the other language. In a comparable corpus, the texts are of the same kind and cover the same content, but they are not translations of each other.[1] To exploit a parallel text, some kind of text alignment identifying equivalent text segments (phrases or sentences) is a prerequisite for analysis. Machine translation algorithms for translating between two languages are often trained using parallel fragments comprising a first language corpus and a second language corpus which is an element-for-element translation of the first language corpus.[2]',\n",
       " '',\n",
       " \"In order to make the corpora more useful for doing linguistic research, they are often subjected to a process known as annotation. An example of annotating a corpus is part-of-speech tagging, or POS-tagging, in which information about each word's part of speech (verb, noun, adjective, etc.) is added to the corpus in the form of tags. Another example is indicating the lemma (base) form of each word. When the language of the corpus is not a working language of the researchers who use it, interlinear glossing is used to make the annotation bilingual.\",\n",
       " '',\n",
       " 'Some corpora have further structured levels of analysis applied. In particular, a number of smaller corpora may be fully parsed. Such corpora are usually called Treebanks or Parsed Corpora. The difficulty of ensuring that the entire corpus is completely and consistently annotated means that these corpora are usually smaller, containing around one to three million words. Other levels of linguistic structured analysis are possible, including annotations for morphology, semantics and pragmatics.',\n",
       " '',\n",
       " 'Corpora are the main knowledge base in corpus linguistics. The analysis and processing of various types of corpora are also the subject of much work in computational linguistics, speech recognition and machine translation, where they are often used to create hidden Markov models for part of speech tagging and other purposes. Corpora and frequency lists derived from them are useful for language teaching. Corpora can be considered as a type of foreign language writing aid as the contextualised grammatical knowledge acquired by non-native language users through exposure to authentic texts in corpora allows learners to grasp the manner of sentence formation in the target language, enabling effective writing.']"
      ]
     },
     "execution_count": 199,
     "metadata": {},
     "output_type": "execute_result"
    }
   ],
   "source": [
    "lst"
   ]
  },
  {
   "cell_type": "code",
   "execution_count": 200,
   "metadata": {},
   "outputs": [
    {
     "data": {
      "text/plain": [
       "list"
      ]
     },
     "execution_count": 200,
     "metadata": {},
     "output_type": "execute_result"
    }
   ],
   "source": [
    "type(lst) #list object"
   ]
  },
  {
   "cell_type": "code",
   "execution_count": 201,
   "metadata": {},
   "outputs": [
    {
     "name": "stdout",
     "output_type": "stream",
     "text": [
      "['', 'Multilingual corpora that have been specially formatted for side-by-side comparison are called aligned parallel corpora. There are two main types of parallel corpora which contain texts in two languages. In a translation corpus, the texts in one language are translations of texts in the other language. In a comparable corpus, the texts are of the same kind and cover the same content, but they are not translations of each other.[1] To exploit a parallel text, some kind of text alignment identifying equivalent text segments (phrases or sentences) is a prerequisite for analysis. Machine translation algorithms for translating between two languages are often trained using parallel fragments comprising a first language corpus and a second language corpus which is an element-for-element translation of the first language corpus.[2]', '', \"In order to make the corpora more useful for doing linguistic research, they are often subjected to a process known as annotation. An example of annotating a corpus is part-of-speech tagging, or POS-tagging, in which information about each word's part of speech (verb, noun, adjective, etc.) is added to the corpus in the form of tags. Another example is indicating the lemma (base) form of each word. When the language of the corpus is not a working language of the researchers who use it, interlinear glossing is used to make the annotation bilingual.\", '', 'Some corpora have further structured levels of analysis applied. In particular, a number of smaller corpora may be fully parsed. Such corpora are usually called Treebanks or Parsed Corpora. The difficulty of ensuring that the entire corpus is completely and consistently annotated means that these corpora are usually smaller, containing around one to three million words. Other levels of linguistic structured analysis are possible, including annotations for morphology, semantics and pragmatics.', '', 'Corpora are the main knowledge base in corpus linguistics. The analysis and processing of various types of corpora are also the subject of much work in computational linguistics, speech recognition and machine translation, where they are often used to create hidden Markov models for part of speech tagging and other purposes. Corpora and frequency lists derived from them are useful for language teaching. Corpora can be considered as a type of foreign language writing aid as the contextualised grammatical knowledge acquired by non-native language users through exposure to authentic texts in corpora allows learners to grasp the manner of sentence formation in the target language, enabling effective writing.']\n"
     ]
    }
   ],
   "source": [
    "len(lst) #gives us length 9\n",
    "\n",
    "del lst[0]\n",
    "\n",
    "print(lst)\n"
   ]
  },
  {
   "cell_type": "code",
   "execution_count": 202,
   "metadata": {},
   "outputs": [
    {
     "name": "stdout",
     "output_type": "stream",
     "text": [
      "['Multilingual corpora that have been specially formatted for side-by-side comparison are called aligned parallel corpora. There are two main types of parallel corpora which contain texts in two languages. In a translation corpus, the texts in one language are translations of texts in the other language. In a comparable corpus, the texts are of the same kind and cover the same content, but they are not translations of each other.[1] To exploit a parallel text, some kind of text alignment identifying equivalent text segments (phrases or sentences) is a prerequisite for analysis. Machine translation algorithms for translating between two languages are often trained using parallel fragments comprising a first language corpus and a second language corpus which is an element-for-element translation of the first language corpus.[2]', '', \"In order to make the corpora more useful for doing linguistic research, they are often subjected to a process known as annotation. An example of annotating a corpus is part-of-speech tagging, or POS-tagging, in which information about each word's part of speech (verb, noun, adjective, etc.) is added to the corpus in the form of tags. Another example is indicating the lemma (base) form of each word. When the language of the corpus is not a working language of the researchers who use it, interlinear glossing is used to make the annotation bilingual.\", '', 'Some corpora have further structured levels of analysis applied. In particular, a number of smaller corpora may be fully parsed. Such corpora are usually called Treebanks or Parsed Corpora. The difficulty of ensuring that the entire corpus is completely and consistently annotated means that these corpora are usually smaller, containing around one to three million words. Other levels of linguistic structured analysis are possible, including annotations for morphology, semantics and pragmatics.', '', 'Corpora are the main knowledge base in corpus linguistics. The analysis and processing of various types of corpora are also the subject of much work in computational linguistics, speech recognition and machine translation, where they are often used to create hidden Markov models for part of speech tagging and other purposes. Corpora and frequency lists derived from them are useful for language teaching. Corpora can be considered as a type of foreign language writing aid as the contextualised grammatical knowledge acquired by non-native language users through exposure to authentic texts in corpora allows learners to grasp the manner of sentence formation in the target language, enabling effective writing.']\n"
     ]
    }
   ],
   "source": [
    "del lst[0] \n",
    "\n",
    "print(lst)"
   ]
  },
  {
   "cell_type": "code",
   "execution_count": 203,
   "metadata": {},
   "outputs": [
    {
     "name": "stdout",
     "output_type": "stream",
     "text": [
      "['Multilingual corpora that have been specially formatted for side-by-side comparison are called aligned parallel corpora. There are two main types of parallel corpora which contain texts in two languages. In a translation corpus, the texts in one language are translations of texts in the other language. In a comparable corpus, the texts are of the same kind and cover the same content, but they are not translations of each other.[1] To exploit a parallel text, some kind of text alignment identifying equivalent text segments (phrases or sentences) is a prerequisite for analysis. Machine translation algorithms for translating between two languages are often trained using parallel fragments comprising a first language corpus and a second language corpus which is an element-for-element translation of the first language corpus.[2]', \"In order to make the corpora more useful for doing linguistic research, they are often subjected to a process known as annotation. An example of annotating a corpus is part-of-speech tagging, or POS-tagging, in which information about each word's part of speech (verb, noun, adjective, etc.) is added to the corpus in the form of tags. Another example is indicating the lemma (base) form of each word. When the language of the corpus is not a working language of the researchers who use it, interlinear glossing is used to make the annotation bilingual.\", '', 'Some corpora have further structured levels of analysis applied. In particular, a number of smaller corpora may be fully parsed. Such corpora are usually called Treebanks or Parsed Corpora. The difficulty of ensuring that the entire corpus is completely and consistently annotated means that these corpora are usually smaller, containing around one to three million words. Other levels of linguistic structured analysis are possible, including annotations for morphology, semantics and pragmatics.', '', 'Corpora are the main knowledge base in corpus linguistics. The analysis and processing of various types of corpora are also the subject of much work in computational linguistics, speech recognition and machine translation, where they are often used to create hidden Markov models for part of speech tagging and other purposes. Corpora and frequency lists derived from them are useful for language teaching. Corpora can be considered as a type of foreign language writing aid as the contextualised grammatical knowledge acquired by non-native language users through exposure to authentic texts in corpora allows learners to grasp the manner of sentence formation in the target language, enabling effective writing.']\n"
     ]
    }
   ],
   "source": [
    "del lst[1]\n",
    "print(lst)"
   ]
  },
  {
   "cell_type": "code",
   "execution_count": 204,
   "metadata": {},
   "outputs": [
    {
     "name": "stdout",
     "output_type": "stream",
     "text": [
      "['Multilingual corpora that have been specially formatted for side-by-side comparison are called aligned parallel corpora. There are two main types of parallel corpora which contain texts in two languages. In a translation corpus, the texts in one language are translations of texts in the other language. In a comparable corpus, the texts are of the same kind and cover the same content, but they are not translations of each other.[1] To exploit a parallel text, some kind of text alignment identifying equivalent text segments (phrases or sentences) is a prerequisite for analysis. Machine translation algorithms for translating between two languages are often trained using parallel fragments comprising a first language corpus and a second language corpus which is an element-for-element translation of the first language corpus.[2]', \"In order to make the corpora more useful for doing linguistic research, they are often subjected to a process known as annotation. An example of annotating a corpus is part-of-speech tagging, or POS-tagging, in which information about each word's part of speech (verb, noun, adjective, etc.) is added to the corpus in the form of tags. Another example is indicating the lemma (base) form of each word. When the language of the corpus is not a working language of the researchers who use it, interlinear glossing is used to make the annotation bilingual.\", 'Some corpora have further structured levels of analysis applied. In particular, a number of smaller corpora may be fully parsed. Such corpora are usually called Treebanks or Parsed Corpora. The difficulty of ensuring that the entire corpus is completely and consistently annotated means that these corpora are usually smaller, containing around one to three million words. Other levels of linguistic structured analysis are possible, including annotations for morphology, semantics and pragmatics.', '', 'Corpora are the main knowledge base in corpus linguistics. The analysis and processing of various types of corpora are also the subject of much work in computational linguistics, speech recognition and machine translation, where they are often used to create hidden Markov models for part of speech tagging and other purposes. Corpora and frequency lists derived from them are useful for language teaching. Corpora can be considered as a type of foreign language writing aid as the contextualised grammatical knowledge acquired by non-native language users through exposure to authentic texts in corpora allows learners to grasp the manner of sentence formation in the target language, enabling effective writing.']\n"
     ]
    }
   ],
   "source": [
    "del lst[2]\n",
    "\n",
    "print(lst)"
   ]
  },
  {
   "cell_type": "code",
   "execution_count": 205,
   "metadata": {},
   "outputs": [
    {
     "name": "stdout",
     "output_type": "stream",
     "text": [
      "['Multilingual corpora that have been specially formatted for side-by-side comparison are called aligned parallel corpora. There are two main types of parallel corpora which contain texts in two languages. In a translation corpus, the texts in one language are translations of texts in the other language. In a comparable corpus, the texts are of the same kind and cover the same content, but they are not translations of each other.[1] To exploit a parallel text, some kind of text alignment identifying equivalent text segments (phrases or sentences) is a prerequisite for analysis. Machine translation algorithms for translating between two languages are often trained using parallel fragments comprising a first language corpus and a second language corpus which is an element-for-element translation of the first language corpus.[2]', \"In order to make the corpora more useful for doing linguistic research, they are often subjected to a process known as annotation. An example of annotating a corpus is part-of-speech tagging, or POS-tagging, in which information about each word's part of speech (verb, noun, adjective, etc.) is added to the corpus in the form of tags. Another example is indicating the lemma (base) form of each word. When the language of the corpus is not a working language of the researchers who use it, interlinear glossing is used to make the annotation bilingual.\", 'Some corpora have further structured levels of analysis applied. In particular, a number of smaller corpora may be fully parsed. Such corpora are usually called Treebanks or Parsed Corpora. The difficulty of ensuring that the entire corpus is completely and consistently annotated means that these corpora are usually smaller, containing around one to three million words. Other levels of linguistic structured analysis are possible, including annotations for morphology, semantics and pragmatics.', 'Corpora are the main knowledge base in corpus linguistics. The analysis and processing of various types of corpora are also the subject of much work in computational linguistics, speech recognition and machine translation, where they are often used to create hidden Markov models for part of speech tagging and other purposes. Corpora and frequency lists derived from them are useful for language teaching. Corpora can be considered as a type of foreign language writing aid as the contextualised grammatical knowledge acquired by non-native language users through exposure to authentic texts in corpora allows learners to grasp the manner of sentence formation in the target language, enabling effective writing.']\n"
     ]
    }
   ],
   "source": [
    "del lst[3]\n",
    "\n",
    "print(lst) #all empty elements removed from the list"
   ]
  },
  {
   "cell_type": "code",
   "execution_count": 206,
   "metadata": {},
   "outputs": [
    {
     "name": "stdout",
     "output_type": "stream",
     "text": [
      "['Multilingual corpora that have been specially formatted for side-by-side comparison are called aligned parallel corpora. There are two main types of parallel corpora which contain texts in two languages. In a translation corpus, the texts in one language are translations of texts in the other language. In a comparable corpus, the texts are of the same kind and cover the same content, but they are not translations of each other.[1] To exploit a parallel text, some kind of text alignment identifying equivalent text segments (phrases or sentences) is a prerequisite for analysis. Machine translation algorithms for translating between two languages are often trained using parallel fragments comprising a first language corpus and a second language corpus which is an element-for-element translation of the first language corpus.[2]', \"In order to make the corpora more useful for doing linguistic research, they are often subjected to a process known as annotation. An example of annotating a corpus is part-of-speech tagging, or POS-tagging, in which information about each word's part of speech (verb, noun, adjective, etc.) is added to the corpus in the form of tags. Another example is indicating the lemma (base) form of each word. When the language of the corpus is not a working language of the researchers who use it, interlinear glossing is used to make the annotation bilingual.\", 'Some corpora have further structured levels of analysis applied. In particular, a number of smaller corpora may be fully parsed. Such corpora are usually called Treebanks or Parsed Corpora. The difficulty of ensuring that the entire corpus is completely and consistently annotated means that these corpora are usually smaller, containing around one to three million words. Other levels of linguistic structured analysis are possible, including annotations for morphology, semantics and pragmatics.', 'Corpora are the main knowledge base in corpus linguistics. The analysis and processing of various types of corpora are also the subject of much work in computational linguistics, speech recognition and machine translation, where they are often used to create hidden Markov models for part of speech tagging and other purposes. Corpora and frequency lists derived from them are useful for language teaching. Corpora can be considered as a type of foreign language writing aid as the contextualised grammatical knowledge acquired by non-native language users through exposure to authentic texts in corpora allows learners to grasp the manner of sentence formation in the target language, enabling effective writing.']\n"
     ]
    }
   ],
   "source": [
    "lst_str = str(lst) #convert list to string in order to make the code below this cell work\n",
    "\n",
    "print(lst_str)"
   ]
  },
  {
   "cell_type": "code",
   "execution_count": 207,
   "metadata": {},
   "outputs": [
    {
     "data": {
      "text/plain": [
       "str"
      ]
     },
     "execution_count": 207,
     "metadata": {},
     "output_type": "execute_result"
    }
   ],
   "source": [
    "type(lst_str)"
   ]
  },
  {
   "cell_type": "code",
   "execution_count": 208,
   "metadata": {},
   "outputs": [
    {
     "name": "stdout",
     "output_type": "stream",
     "text": [
      "Multilingual corpora that have been specially formatted for side-by-side comparison are called aligned parallel corpora There are two main types of parallel corpora which contain texts in two languages In a translation corpus the texts in one language are translations of texts in the other language In a comparable corpus the texts are of the same kind and cover the same content but they are not translations of each other To exploit a parallel text some kind of text alignment identifying equivalent text segments phrases or sentences is a prerequisite for analysis Machine translation algorithms for translating between two languages are often trained using parallel fragments comprising a first language corpus and a second language corpus which is an element-for-element translation of the first language corpus In order to make the corpora more useful for doing linguistic research they are often subjected to a process known as annotation An example of annotating a corpus is part-of-speech tagging or POS-tagging in which information about each words part of speech verb noun adjective etc is added to the corpus in the form of tags Another example is indicating the lemma base form of each word When the language of the corpus is not a working language of the researchers who use it interlinear glossing is used to make the annotation bilingual Some corpora have further structured levels of analysis applied In particular a number of smaller corpora may be fully parsed Such corpora are usually called Treebanks or Parsed Corpora The difficulty of ensuring that the entire corpus is completely and consistently annotated means that these corpora are usually smaller containing around one to three million words Other levels of linguistic structured analysis are possible including annotations for morphology semantics and pragmatics Corpora are the main knowledge base in corpus linguistics The analysis and processing of various types of corpora are also the subject of much work in computational linguistics speech recognition and machine translation where they are often used to create hidden Markov models for part of speech tagging and other purposes Corpora and frequency lists derived from them are useful for language teaching Corpora can be considered as a type of foreign language writing aid as the contextualised grammatical knowledge acquired by non-native language users through exposure to authentic texts in corpora allows learners to grasp the manner of sentence formation in the target language enabling effective writing\n"
     ]
    }
   ],
   "source": [
    "###Remove the punctuation###\n",
    "\n",
    "punc = ['(', ')', '?', ':', ';', ',', '.', '!', '/', '\"', \"'\", \"[\", \"]\", \"1\", \"2\"] #the punctuation plus some numbers\n",
    "\n",
    "for i in punc:\n",
    "    lst_str = lst_str.replace(i, \"\")\n",
    "    \n",
    "print(lst_str) #yes, removed all the punctuation and numbers"
   ]
  },
  {
   "cell_type": "code",
   "execution_count": 209,
   "metadata": {},
   "outputs": [],
   "source": [
    "###Tokenize the word in 'new_text_list' string object\n",
    "word_tok_2 = word_tokenize(lst_str)"
   ]
  },
  {
   "cell_type": "code",
   "execution_count": 210,
   "metadata": {},
   "outputs": [
    {
     "name": "stdout",
     "output_type": "stream",
     "text": [
      "['Multilingual', 'corpora', 'that', 'have', 'been', 'specially', 'formatted', 'for', 'side-by-side', 'comparison', 'are', 'called', 'aligned', 'parallel', 'corpora', 'There', 'are', 'two', 'main', 'types', 'of', 'parallel', 'corpora', 'which', 'contain', 'texts', 'in', 'two', 'languages', 'In', 'a', 'translation', 'corpus', 'the', 'texts', 'in', 'one', 'language', 'are', 'translations', 'of', 'texts', 'in', 'the', 'other', 'language', 'In', 'a', 'comparable', 'corpus', 'the', 'texts', 'are', 'of', 'the', 'same', 'kind', 'and', 'cover', 'the', 'same', 'content', 'but', 'they', 'are', 'not', 'translations', 'of', 'each', 'other', 'To', 'exploit', 'a', 'parallel', 'text', 'some', 'kind', 'of', 'text', 'alignment', 'identifying', 'equivalent', 'text', 'segments', 'phrases', 'or', 'sentences', 'is', 'a', 'prerequisite', 'for', 'analysis', 'Machine', 'translation', 'algorithms', 'for', 'translating', 'between', 'two', 'languages', 'are', 'often', 'trained', 'using', 'parallel', 'fragments', 'comprising', 'a', 'first', 'language', 'corpus', 'and', 'a', 'second', 'language', 'corpus', 'which', 'is', 'an', 'element-for-element', 'translation', 'of', 'the', 'first', 'language', 'corpus', 'In', 'order', 'to', 'make', 'the', 'corpora', 'more', 'useful', 'for', 'doing', 'linguistic', 'research', 'they', 'are', 'often', 'subjected', 'to', 'a', 'process', 'known', 'as', 'annotation', 'An', 'example', 'of', 'annotating', 'a', 'corpus', 'is', 'part-of-speech', 'tagging', 'or', 'POS-tagging', 'in', 'which', 'information', 'about', 'each', 'words', 'part', 'of', 'speech', 'verb', 'noun', 'adjective', 'etc', 'is', 'added', 'to', 'the', 'corpus', 'in', 'the', 'form', 'of', 'tags', 'Another', 'example', 'is', 'indicating', 'the', 'lemma', 'base', 'form', 'of', 'each', 'word', 'When', 'the', 'language', 'of', 'the', 'corpus', 'is', 'not', 'a', 'working', 'language', 'of', 'the', 'researchers', 'who', 'use', 'it', 'interlinear', 'glossing', 'is', 'used', 'to', 'make', 'the', 'annotation', 'bilingual', 'Some', 'corpora', 'have', 'further', 'structured', 'levels', 'of', 'analysis', 'applied', 'In', 'particular', 'a', 'number', 'of', 'smaller', 'corpora', 'may', 'be', 'fully', 'parsed', 'Such', 'corpora', 'are', 'usually', 'called', 'Treebanks', 'or', 'Parsed', 'Corpora', 'The', 'difficulty', 'of', 'ensuring', 'that', 'the', 'entire', 'corpus', 'is', 'completely', 'and', 'consistently', 'annotated', 'means', 'that', 'these', 'corpora', 'are', 'usually', 'smaller', 'containing', 'around', 'one', 'to', 'three', 'million', 'words', 'Other', 'levels', 'of', 'linguistic', 'structured', 'analysis', 'are', 'possible', 'including', 'annotations', 'for', 'morphology', 'semantics', 'and', 'pragmatics', 'Corpora', 'are', 'the', 'main', 'knowledge', 'base', 'in', 'corpus', 'linguistics', 'The', 'analysis', 'and', 'processing', 'of', 'various', 'types', 'of', 'corpora', 'are', 'also', 'the', 'subject', 'of', 'much', 'work', 'in', 'computational', 'linguistics', 'speech', 'recognition', 'and', 'machine', 'translation', 'where', 'they', 'are', 'often', 'used', 'to', 'create', 'hidden', 'Markov', 'models', 'for', 'part', 'of', 'speech', 'tagging', 'and', 'other', 'purposes', 'Corpora', 'and', 'frequency', 'lists', 'derived', 'from', 'them', 'are', 'useful', 'for', 'language', 'teaching', 'Corpora', 'can', 'be', 'considered', 'as', 'a', 'type', 'of', 'foreign', 'language', 'writing', 'aid', 'as', 'the', 'contextualised', 'grammatical', 'knowledge', 'acquired', 'by', 'non-native', 'language', 'users', 'through', 'exposure', 'to', 'authentic', 'texts', 'in', 'corpora', 'allows', 'learners', 'to', 'grasp', 'the', 'manner', 'of', 'sentence', 'formation', 'in', 'the', 'target', 'language', 'enabling', 'effective', 'writing']\n"
     ]
    }
   ],
   "source": [
    "print(word_tok_2) #yes, the words were tokenized"
   ]
  },
  {
   "cell_type": "code",
   "execution_count": 211,
   "metadata": {},
   "outputs": [],
   "source": [
    "unique_lst_2 = pd.unique(word_tok_2) #only unique words"
   ]
  },
  {
   "cell_type": "code",
   "execution_count": 212,
   "metadata": {},
   "outputs": [],
   "source": [
    "###Use the clean_list function defined above###\n",
    " \n",
    "unique_lst_2 = clean_list(unique_lst_2)\n"
   ]
  },
  {
   "cell_type": "code",
   "execution_count": 213,
   "metadata": {},
   "outputs": [
    {
     "name": "stdout",
     "output_type": "stream",
     "text": [
      "['Multilingual', 'corpora', 'specially', 'formatted', 'side-by-side', 'comparison', 'called', 'aligned', 'parallel', 'There', 'two', 'main', 'types', 'contain', 'texts', 'languages', 'In', 'translation', 'corpus', 'one', 'language', 'translations', 'comparable', 'kind', 'cover', 'content', 'To', 'exploit', 'text', 'alignment', 'identifying', 'equivalent', 'segments', 'phrases', 'sentences', 'prerequisite', 'analysis', 'Machine', 'algorithms', 'translating', 'often', 'trained', 'using', 'fragments', 'comprising', 'first', 'second', 'element-for-element', 'order', 'make', 'useful', 'linguistic', 'research', 'subjected', 'process', 'known', 'annotation', 'An', 'example', 'annotating', 'part-of-speech', 'tagging', 'POS-tagging', 'information', 'words', 'part', 'speech', 'verb', 'noun', 'adjective', 'etc', 'added', 'form', 'tags', 'Another', 'indicating', 'lemma', 'base', 'word', 'When', 'working', 'researchers', 'use', 'interlinear', 'glossing', 'used', 'bilingual', 'Some', 'structured', 'levels', 'applied', 'particular', 'number', 'smaller', 'may', 'fully', 'parsed', 'Such', 'usually', 'Treebanks', 'Parsed', 'Corpora', 'The', 'difficulty', 'ensuring', 'entire', 'completely', 'consistently', 'annotated', 'means', 'containing', 'around', 'three', 'million', 'Other', 'possible', 'including', 'annotations', 'morphology', 'semantics', 'pragmatics', 'knowledge', 'linguistics', 'processing', 'various', 'also', 'subject', 'much', 'work', 'computational', 'recognition', 'machine', 'create', 'hidden', 'Markov', 'models', 'purposes', 'frequency', 'lists', 'derived', 'teaching', 'considered', 'type', 'foreign', 'writing', 'aid', 'contextualised', 'grammatical', 'acquired', 'non-native', 'users', 'exposure', 'authentic', 'allows', 'learners', 'grasp', 'manner', 'sentence', 'formation', 'target', 'enabling', 'effective']\n"
     ]
    }
   ],
   "source": [
    "print(unique_lst_2)"
   ]
  },
  {
   "cell_type": "code",
   "execution_count": 214,
   "metadata": {},
   "outputs": [],
   "source": [
    "document_1 = \"Document 1\" + \":\" + str(unique_lst_2)"
   ]
  },
  {
   "cell_type": "code",
   "execution_count": 215,
   "metadata": {},
   "outputs": [
    {
     "data": {
      "text/plain": [
       "\"Document 1:['Multilingual', 'corpora', 'specially', 'formatted', 'side-by-side', 'comparison', 'called', 'aligned', 'parallel', 'There', 'two', 'main', 'types', 'contain', 'texts', 'languages', 'In', 'translation', 'corpus', 'one', 'language', 'translations', 'comparable', 'kind', 'cover', 'content', 'To', 'exploit', 'text', 'alignment', 'identifying', 'equivalent', 'segments', 'phrases', 'sentences', 'prerequisite', 'analysis', 'Machine', 'algorithms', 'translating', 'often', 'trained', 'using', 'fragments', 'comprising', 'first', 'second', 'element-for-element', 'order', 'make', 'useful', 'linguistic', 'research', 'subjected', 'process', 'known', 'annotation', 'An', 'example', 'annotating', 'part-of-speech', 'tagging', 'POS-tagging', 'information', 'words', 'part', 'speech', 'verb', 'noun', 'adjective', 'etc', 'added', 'form', 'tags', 'Another', 'indicating', 'lemma', 'base', 'word', 'When', 'working', 'researchers', 'use', 'interlinear', 'glossing', 'used', 'bilingual', 'Some', 'structured', 'levels', 'applied', 'particular', 'number', 'smaller', 'may', 'fully', 'parsed', 'Such', 'usually', 'Treebanks', 'Parsed', 'Corpora', 'The', 'difficulty', 'ensuring', 'entire', 'completely', 'consistently', 'annotated', 'means', 'containing', 'around', 'three', 'million', 'Other', 'possible', 'including', 'annotations', 'morphology', 'semantics', 'pragmatics', 'knowledge', 'linguistics', 'processing', 'various', 'also', 'subject', 'much', 'work', 'computational', 'recognition', 'machine', 'create', 'hidden', 'Markov', 'models', 'purposes', 'frequency', 'lists', 'derived', 'teaching', 'considered', 'type', 'foreign', 'writing', 'aid', 'contextualised', 'grammatical', 'acquired', 'non-native', 'users', 'exposure', 'authentic', 'allows', 'learners', 'grasp', 'manner', 'sentence', 'formation', 'target', 'enabling', 'effective']\""
      ]
     },
     "execution_count": 215,
     "metadata": {},
     "output_type": "execute_result"
    }
   ],
   "source": [
    "document_1"
   ]
  },
  {
   "cell_type": "code",
   "execution_count": 267,
   "metadata": {},
   "outputs": [],
   "source": [
    "total_documents = document_1 + document_2"
   ]
  },
  {
   "cell_type": "code",
   "execution_count": 268,
   "metadata": {},
   "outputs": [
    {
     "data": {
      "text/plain": [
       "\"Document 1:['Multilingual', 'corpora', 'specially', 'formatted', 'side-by-side', 'comparison', 'called', 'aligned', 'parallel', 'There', 'two', 'main', 'types', 'contain', 'texts', 'languages', 'In', 'translation', 'corpus', 'one', 'language', 'translations', 'comparable', 'kind', 'cover', 'content', 'To', 'exploit', 'text', 'alignment', 'identifying', 'equivalent', 'segments', 'phrases', 'sentences', 'prerequisite', 'analysis', 'Machine', 'algorithms', 'translating', 'often', 'trained', 'using', 'fragments', 'comprising', 'first', 'second', 'element-for-element', 'order', 'make', 'useful', 'linguistic', 'research', 'subjected', 'process', 'known', 'annotation', 'An', 'example', 'annotating', 'part-of-speech', 'tagging', 'POS-tagging', 'information', 'words', 'part', 'speech', 'verb', 'noun', 'adjective', 'etc', 'added', 'form', 'tags', 'Another', 'indicating', 'lemma', 'base', 'word', 'When', 'working', 'researchers', 'use', 'interlinear', 'glossing', 'used', 'bilingual', 'Some', 'structured', 'levels', 'applied', 'particular', 'number', 'smaller', 'may', 'fully', 'parsed', 'Such', 'usually', 'Treebanks', 'Parsed', 'Corpora', 'The', 'difficulty', 'ensuring', 'entire', 'completely', 'consistently', 'annotated', 'means', 'containing', 'around', 'three', 'million', 'Other', 'possible', 'including', 'annotations', 'morphology', 'semantics', 'pragmatics', 'knowledge', 'linguistics', 'processing', 'various', 'also', 'subject', 'much', 'work', 'computational', 'recognition', 'machine', 'create', 'hidden', 'Markov', 'models', 'purposes', 'frequency', 'lists', 'derived', 'teaching', 'considered', 'type', 'foreign', 'writing', 'aid', 'contextualised', 'grammatical', 'acquired', 'non-native', 'users', 'exposure', 'authentic', 'allows', 'learners', 'grasp', 'manner', 'sentence', 'formation', 'target', 'enabling', 'effective']Document 2:['Dr', 'Yawn', 'Earl', 'Vickers', 'Boring', 'Bedtime', 'Stories', 'An', 'Anthology', 'Insomniacs', 'It', 'started', 'harmlessly', 'enough', 'highschool', 'science', 'fair', 'project', 'Why', 'Are', 'Yawns', 'Contagious', 'But', 'one', 'thing', 'led', 'another', 'worlds', 'foremost', 'expert', 'subject', 'cared', 'topic', 'equally', 'suicidal', 'career', 'conferences', 'cocktail', 'parties', 'For', 'reasons', 'fully', 'understand', 'discussion', 'yawning', 'considered', 'almost', 'rude', 'andor', 'boring', 'act', 'The', 'mere', 'mention', 'research', 'would', 'inevitably', 'bring', 'minor', 'epidemic', 'uncontrollable', 'yawns', 'whether', 'behind', 'back', 'disguised', 'hand', 'right', 'face', 'In', 'way', 'ruined', 'countless', 'conventions', 'meetings', 'concerts', 'bachelor', 'wedding', 'receptions', 'number', 'invitations', 'social', 'professional', 'dwindled', 'nothing', 'This', 'doubly', 'unfortunate', 'lasted', 'encounters', 'served', 'laboratories', 'additional', 'field', 'At', 'conclusion', 'illfated', 'encounter', 'quietly', 'retire', 'corner', 'room', 'take', 'meticulous', 'notes', 'Sometimes', 'surreptitiously', 'time', 'discussions', 'stopwatch', 'carefully', 'noting', 'length', 'initial', 'gestation', 'period', 'predelay', 'duration', 'long', 'inspiratory', 'phase', 'precise', 'moment', 'acme', 'orgasmic', 'peak', 'yawn', 'short', 'expiration', 'contagion', 'interval', 'rate', 'new', 'bystanders', 'afflicted', 'He', 'also', 'gather', 'much', 'data', 'possible', 'regarding', 'people', 'involved', 'effort', 'derive', 'correlations', 'personality', 'type', 'susceptibility', 'Realizing', 'share', 'fascination', 'learning', 'yawnings', 'paralinguistic', 'value', 'role', 'complex', 'arousal', 'defense', 'reflex', 'origin', 'reticular', 'brainstem', 'theories', 'relation', 'borderline', 'hypoxia', 'tried', 'spice', 'famous', 'quotations', 'Aristotles', 'As', 'donkey', 'urinates', 'sees', 'hears', 'man', 'seeing', 'someone', 'else', 'even', 'used', 'joke', 'pharmacological', 'connection', 'spontaneous', 'erection', 'Am', 'I', 'death', 'happy', 'see', 'without', 'fail', 'recipient', 'conversations', 'ask', 'excused', 'covering', 'mouth', 'make', 'beeline', 'anywhere', 'Sadly', 'work', 'suffered', 'recent', 'years', 'seemed', 'unable', 'concentrate', 'Often', 'fall', 'asleep', 'middle', 'writing', 'paper', 'Even', 'managed', 'complete', 'article', 'rarely', 'either', 'accepted', 'rejected', 'simply', 'ignored', 'manuscript', 'become', 'unreadable', 'academic', 'world', 'publish', 'perish', 'path', 'Students', 'came', 'office', 'missed', 'bright', 'inquisitive', 'eyes', 'lighting', 'briefly', 'eventually', 'disappearing', 'heavy', 'lids', 'flame', 'curiosity', 'gradually', 'flickering', 'wind', 'physiologic', 'finally', 'extinguished', 'serotoninergic', 'inhibition', 'neuromuscular', 'spindles', 'adrenocorticotropic', 'hormonerelated', 'peptides', 'hypothalamic', 'dopaminergic', 'mechanisms', 'particularly', 'enjoyed', 'showing', 'students', 'nearly', 'fascinating', 'portrait', 'hung', 'wall', 'painting', 'believed', 'priceless', 'apparently', 'dated', 'Renaissance', 'obtain', 'ignorant', 'owner', 'hundred', 'dollars', 'suspected', 'spoken', 'Leonardo', 'da', 'Vinci', 'artist', 'painted', 'picture', 'made', 'everybody', 'saw', 'repeatedly', 'kept', 'represented', 'professor', 'hoped', 'impress', 'upon', 'reality', 'immediacy', 'phenomenon', 'trigger', 'avalanche', 'questions', 'often', 'suddenly', 'remember', 'urgent', 'appointment', 'side', 'campus', 'His', 'lectures', 'reputation', 'mesmerizing', 'least', 'somniferous', 'rumored', 'render', 'entire', 'classroom', 'unconscious', 'certainly', 'exaggeration', 'displayed', 'remarkable', 'ingenuity', 'devising', 'ways', 'conceal', 'stifle', 'swallow', 'They', 'developed', 'elaborate', 'alarm', 'systems', 'keep', 'awake', 'exams', 'called', 'class', 'Meanwhile', 'insomnia', 'frequently', 'audit', 'classes', 'search', 'cure', 'condition', 'On', 'evening', 'sat', 'bed', 'reviewing', 'life', 'recalled', 'satisfaction', 'breakthroughs', 'areas', 'fetal', 'temporary', 'yawnrelated', 'hearing', 'loss', 'hysterical', 'paroxysmal', 'fondly', 'remembered', 'mostly', 'seated', 'ovation', 'received', 'still', 'finished', 'presenting', 'groundbreaking', 'mate', 'selection', 'While', 'nontechnical', 'book', 'Joy', 'Yawning', 'monograph', 'Proudly', 'never', 'quite', 'reached', 'broader', 'audiences', 'intended', 'nonetheless', 'proud', 'efforts', 'popularize', 'done', 'could', 'Not', 'bad', 'reflected', 'stretching', 'closing', 'Soon', 'perhaps', 'dean', 'mayor', 'President', 'awaken', 'asking', 'help', 'something', 'kidnapping', 'terrorist', 'plot', 'expertise', 'desperately', 'needed', 'megaphone', 'cell', 'phone', 'placed', 'dulcet', 'tones', 'calming', 'relaxing', 'defusing', 'situation', 'everyone', 'drifts', 'sleep', 'soft', 'warm', 'comfortable', 'problems', 'cant', 'wait', 'day', 'wake', 'tomorrow', 'thanks', 'grateful', 'nation']\""
      ]
     },
     "execution_count": 268,
     "metadata": {},
     "output_type": "execute_result"
    }
   ],
   "source": [
    "total_documents #checked to see how 'total_documents' looks"
   ]
  },
  {
   "cell_type": "code",
   "execution_count": 271,
   "metadata": {},
   "outputs": [],
   "source": [
    "###Write a new .dat file###\n",
    "f = open('Assignment_7.dat', 'w')\n",
    "\n",
    "f.write(total_documents)\n",
    "f.close()"
   ]
  }
 ],
 "metadata": {
  "kernelspec": {
   "display_name": "Python 3",
   "language": "python",
   "name": "python3"
  },
  "language_info": {
   "codemirror_mode": {
    "name": "ipython",
    "version": 3
   },
   "file_extension": ".py",
   "mimetype": "text/x-python",
   "name": "python",
   "nbconvert_exporter": "python",
   "pygments_lexer": "ipython3",
   "version": "3.7.6"
  }
 },
 "nbformat": 4,
 "nbformat_minor": 4
}
