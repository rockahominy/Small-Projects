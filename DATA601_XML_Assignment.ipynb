{
 "cells": [
  {
   "cell_type": "code",
   "execution_count": 8,
   "metadata": {},
   "outputs": [
    {
     "data": {
      "text/plain": [
       "'/Users/chinchuharris'"
      ]
     },
     "execution_count": 8,
     "metadata": {},
     "output_type": "execute_result"
    }
   ],
   "source": [
    "import os\n",
    "\n",
    "os.getcwd()"
   ]
  },
  {
   "cell_type": "code",
   "execution_count": 1,
   "metadata": {},
   "outputs": [],
   "source": [
    "import zipfile"
   ]
  },
  {
   "cell_type": "code",
   "execution_count": 2,
   "metadata": {},
   "outputs": [],
   "source": [
    "###read zipfile and extract specific file###\n",
    "with zipfile.ZipFile('xml_containing_html.xml.zip', 'r') as thezip:\n",
    "    thezip.extract('xml_containing_html.xml')"
   ]
  },
  {
   "cell_type": "code",
   "execution_count": 3,
   "metadata": {},
   "outputs": [],
   "source": [
    "import xml.etree.ElementTree as ET"
   ]
  },
  {
   "cell_type": "code",
   "execution_count": 4,
   "metadata": {},
   "outputs": [],
   "source": [
    "f = ET.parse('xml_containing_html.xml')"
   ]
  },
  {
   "cell_type": "code",
   "execution_count": 5,
   "metadata": {},
   "outputs": [],
   "source": [
    "root = f.getroot()"
   ]
  },
  {
   "cell_type": "code",
   "execution_count": 6,
   "metadata": {},
   "outputs": [
    {
     "data": {
      "text/plain": [
       "'all_pages'"
      ]
     },
     "execution_count": 6,
     "metadata": {},
     "output_type": "execute_result"
    }
   ],
   "source": [
    "root.tag"
   ]
  },
  {
   "cell_type": "code",
   "execution_count": 7,
   "metadata": {},
   "outputs": [
    {
     "data": {
      "text/plain": [
       "{}"
      ]
     },
     "execution_count": 7,
     "metadata": {},
     "output_type": "execute_result"
    }
   ],
   "source": [
    "root.attrib"
   ]
  },
  {
   "cell_type": "code",
   "execution_count": 43,
   "metadata": {},
   "outputs": [
    {
     "data": {
      "text/plain": [
       "'\\n<HTML>\\n<TITLE>observations on the role of IT trainer</TITLE>\\n<BODY>\\n<P>It appears that the natural general principle that will subsume this\\ncase is, apparently, determined by a stipulation <a href=\"https://www.munoz-peterson.com/\">to</a> place the\\nconstructions in<a href=\"https://www.munoz-peterson.com/\">to</a> these various categories. For any transformation\\nwhich is sufficiently diversified in application to be of any interest,\\nthe earlier discussion of deviance suffices to account for irrelevant\\nintervening contexts in selectional rules. We will bring evidence in\\nfavor of the following thesis: this analysis of a formative as a pair of\\nsets of features is not subject to the requirement that branching is not\\ntolerated within the dominance scope of a complex symbol.</P>\\n<ol>\\n<LI>Grass-roots coherent orchestration</LI>\\n<LI>Compatible encompassing paradigm</LI>\\n<LI>Digitized zero administration matrices</LI>\\n<LI>User-friendly attitude-oriented productivity</LI>\\n<LI>Polarized clear-thinking productivity</LI>\\n</ol>\\n<img src=\"https://www.lorempixel.com/965/749\">\\n<P>To provide a constituent structure for T(Z,K), the descriptive power of\\nthe base component delimits a parasitic gap construction. Nevertheless,\\nthis analysis of a formative as a pair of sets of features is,\\napparently, determined by a stipulation to place the constructions into\\nthese various categories. However, this assumption is not correct, since\\nthe natural general principle that will subsume this case is not quite\\nequivalent to a general convention regarding the forms of the grammar.\\nFor one thing, the earlier discussion of deviance is not subject to a\\ndescriptive <a href=\"https://richardson.net/\">fact.</P>\\n</a><ol>\\n<LI>Operative bifurcated concept</LI>\\n<LI>User-friendly optimizing definition</LI>\\n<LI>Synergized local architecture</LI>\\n<LI>Organized systemic encoding</LI>\\n</ol>\\n<img src=\"https://placekitten.com/513/198\">\\n<P>Let us continue to suppose that any associated supporting element cannot\\nbe arbitrary in the levels <a href=\"https://smith.com/\">of</a> acceptability from fairly high (e.g.\\n(99a)) to virtual gibberish (e.g. (98d)). If the position <a href=\"https://smith.com/\">of</a> the trace\\nin (99c) were only relatively inaccessible to movement, a case of\\nsemigrammaticalness of a different sort is not subject to the\\ntraditional practice of grammarians. Conversely, an important property\\nof these three types of EC is not quite equivalent to problems of\\nphonemic and morphological analysis. A consequence of the approach just\\noutlined is that the natural general principle that will subsume this\\ncase is unspecified with respect to nondistinctness in the sense of\\ndistinctive feature theory.</P>\\n\\n</BODY>\\n</HTML>\\n'"
      ]
     },
     "execution_count": 43,
     "metadata": {},
     "output_type": "execute_result"
    }
   ],
   "source": [
    "lst = []\n",
    "for content in root.iter('content'):\n",
    "    text = content.text\n",
    "    lst.append(text)\n",
    "    \n",
    "lst[0]"
   ]
  },
  {
   "cell_type": "code",
   "execution_count": 45,
   "metadata": {},
   "outputs": [],
   "source": [
    "from bs4 import BeautifulSoup"
   ]
  },
  {
   "cell_type": "code",
   "execution_count": 62,
   "metadata": {},
   "outputs": [
    {
     "name": "stdout",
     "output_type": "stream",
     "text": [
      "502\n"
     ]
    }
   ],
   "source": [
    "count = 0\n",
    "for i in lst:\n",
    "    soup = BeautifulSoup(i)\n",
    "    for link in soup.find_all('a'):\n",
    "        count +=1\n",
    "print(count)"
   ]
  }
 ],
 "metadata": {
  "kernelspec": {
   "display_name": "Python 3",
   "language": "python",
   "name": "python3"
  },
  "language_info": {
   "codemirror_mode": {
    "name": "ipython",
    "version": 3
   },
   "file_extension": ".py",
   "mimetype": "text/x-python",
   "name": "python",
   "nbconvert_exporter": "python",
   "pygments_lexer": "ipython3",
   "version": "3.7.6"
  }
 },
 "nbformat": 4,
 "nbformat_minor": 4
}
