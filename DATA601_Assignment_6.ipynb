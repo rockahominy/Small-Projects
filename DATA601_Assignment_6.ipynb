{
 "cells": [
  {
   "cell_type": "code",
   "execution_count": 1,
   "metadata": {},
   "outputs": [
    {
     "name": "stdout",
     "output_type": "stream",
     "text": [
      "Collecting package metadata (current_repodata.json): done\n",
      "Solving environment: done\n",
      "\n",
      "## Package Plan ##\n",
      "\n",
      "  environment location: /path/anaconda3\n",
      "\n",
      "  added / updated specs:\n",
      "    - openpyxl\n",
      "\n",
      "\n",
      "The following packages will be downloaded:\n",
      "\n",
      "    package                    |            build\n",
      "    ---------------------------|-----------------\n",
      "    conda-4.9.0                |           py37_0         3.0 MB  anaconda\n",
      "    ------------------------------------------------------------\n",
      "                                           Total:         3.0 MB\n",
      "\n",
      "The following packages will be UPDATED:\n",
      "\n",
      "  conda              conda-forge::conda-4.8.5-py37h2987424~ --> anaconda::conda-4.9.0-py37_0\n",
      "\n",
      "\n",
      "\n",
      "Downloading and Extracting Packages\n",
      "conda-4.9.0          | 3.0 MB    | ##################################### | 100% \n",
      "Preparing transaction: done\n",
      "Verifying transaction: | WARNING conda.core.path_actions:verify(963): Unable to create environments file. Path not writable.\n",
      "  environment location: /Users/me/.conda/environments.txt\n",
      "\n",
      "done\n",
      "Executing transaction: \\ WARNING conda.core.envs_manager:register_env(52): Unable to register environment. Path not writable or missing.\n",
      "  environment location: /Users/me/opt/anaconda3\n",
      "  registry file: /Users/me/.conda/environments.txt\n",
      "done\n",
      "\n",
      "Note: you may need to restart the kernel to use updated packages.\n"
     ]
    }
   ],
   "source": [
    "conda install -c anaconda openpyxl "
   ]
  },
  {
   "cell_type": "code",
   "execution_count": 45,
   "metadata": {},
   "outputs": [],
   "source": [
    "from openpyxl import load_workbook"
   ]
  },
  {
   "cell_type": "code",
   "execution_count": 46,
   "metadata": {},
   "outputs": [],
   "source": [
    "#loading the excel file into the Python working enviroment\n",
    "wb = load_workbook('/Users/me/Downloads/week_05_homework_XLSX_openpyxl.xlsx')\n",
    "\n",
    "#wb is a workbook object"
   ]
  },
  {
   "cell_type": "code",
   "execution_count": 48,
   "metadata": {},
   "outputs": [
    {
     "data": {
      "text/plain": [
       "openpyxl.workbook.workbook.Workbook"
      ]
     },
     "execution_count": 48,
     "metadata": {},
     "output_type": "execute_result"
    }
   ],
   "source": [
    " type(wb) #workbook object"
   ]
  },
  {
   "cell_type": "code",
   "execution_count": 49,
   "metadata": {},
   "outputs": [
    {
     "name": "stderr",
     "output_type": "stream",
     "text": [
      "/Users/me/opt/anaconda3/lib/python3.7/site-packages/ipykernel_launcher.py:1: DeprecationWarning: Call to deprecated function get_sheet_names (Use wb.sheetnames).\n",
      "  \"\"\"Entry point for launching an IPython kernel.\n"
     ]
    },
    {
     "data": {
      "text/plain": [
       "['main', 'another']"
      ]
     },
     "execution_count": 49,
     "metadata": {},
     "output_type": "execute_result"
    }
   ],
   "source": [
    "wb.get_sheet_names()"
   ]
  },
  {
   "cell_type": "code",
   "execution_count": 32,
   "metadata": {},
   "outputs": [
    {
     "name": "stdout",
     "output_type": "stream",
     "text": [
      "['main', 'another']\n"
     ]
    }
   ],
   "source": [
    "print(wb.sheetnames) #ok, looks good!"
   ]
  },
  {
   "cell_type": "code",
   "execution_count": 50,
   "metadata": {},
   "outputs": [
    {
     "name": "stderr",
     "output_type": "stream",
     "text": [
      "/Users/me/opt/anaconda3/lib/python3.7/site-packages/ipykernel_launcher.py:1: DeprecationWarning: Call to deprecated function get_sheet_by_name (Use wb[sheetname]).\n",
      "  \"\"\"Entry point for launching an IPython kernel.\n",
      "/Users/me/opt/anaconda3/lib/python3.7/site-packages/ipykernel_launcher.py:3: DeprecationWarning: Call to deprecated function get_sheet_by_name (Use wb[sheetname]).\n",
      "  This is separate from the ipykernel package so we can avoid doing imports until\n"
     ]
    }
   ],
   "source": [
    "sheet = wb.get_sheet_by_name('main')\n",
    "\n",
    "sheet_2 = wb.get_sheet_by_name('another')"
   ]
  },
  {
   "cell_type": "code",
   "execution_count": 20,
   "metadata": {},
   "outputs": [
    {
     "data": {
      "text/plain": [
       "openpyxl.worksheet.worksheet.Worksheet"
      ]
     },
     "execution_count": 20,
     "metadata": {},
     "output_type": "execute_result"
    }
   ],
   "source": [
    "type(sheet_2)#worksheet object"
   ]
  },
  {
   "cell_type": "code",
   "execution_count": 31,
   "metadata": {},
   "outputs": [
    {
     "name": "stdout",
     "output_type": "stream",
     "text": [
      "<Worksheet \"another\">\n"
     ]
    }
   ],
   "source": [
    "print(sheet_2)"
   ]
  },
  {
   "cell_type": "code",
   "execution_count": 128,
   "metadata": {
    "scrolled": true
   },
   "outputs": [],
   "source": [
    "#extract values from the first sheet and convert into a data frame\n",
    "import pandas as pd \n",
    "\n",
    "data = sheet.values\n",
    "col = next(data)[1:]\n",
    "data = list(data)\n",
    "col = ['patient id','age','smoking','smart','asdf','min im']\n",
    "df_1 = pd.DataFrame(data, columns=col)"
   ]
  },
  {
   "cell_type": "code",
   "execution_count": 129,
   "metadata": {},
   "outputs": [
    {
     "name": "stdout",
     "output_type": "stream",
     "text": [
      "    patient id  age  smoking  smart    asdf             min im\n",
      "0        95909   51        1     10   =C2*8    =AVERAGE(B2:E2)\n",
      "1        10369   49        1      8   =C3*8    =AVERAGE(B3:E3)\n",
      "2        35101   56        3     12   =C4*8    =AVERAGE(B4:E4)\n",
      "3        25192   47        3     12   =C5*8    =AVERAGE(B5:E5)\n",
      "4        75658   50        3     10   =C6*8    =AVERAGE(B6:E6)\n",
      "5        25765   55        2     12   =C7*8    =AVERAGE(B7:E7)\n",
      "6        57464   52        1     11   =C8*8    =AVERAGE(B8:E8)\n",
      "7        14530   50        2      8   =C9*8    =AVERAGE(B9:E9)\n",
      "8        21888   52        2      9  =C10*8  =AVERAGE(B10:E10)\n",
      "9        43631   53        2      8  =C11*8  =AVERAGE(B11:E11)\n",
      "10       14528   55        1      8  =C12*8  =AVERAGE(B12:E12)\n",
      "11       70171   58        3     10  =C13*8  =AVERAGE(B13:E13)\n",
      "12       14654   58        2     10  =C14*8  =AVERAGE(B14:E14)\n",
      "13       81574   50        3      9  =C15*8  =AVERAGE(B15:E15)\n",
      "14       67203   52        1     12  =C16*8  =AVERAGE(B16:E16)\n",
      "15       19792   48        2      9  =C17*8  =AVERAGE(B17:E17)\n",
      "16       95847   56        2      9  =C18*8  =AVERAGE(B18:E18)\n",
      "17       21922   52        3     10  =C19*8  =AVERAGE(B19:E19)\n",
      "18       49434   48        1     10  =C20*8  =AVERAGE(B20:E20)\n",
      "19       64334   50        2     11  =C21*8  =AVERAGE(B21:E21)\n",
      "20       11988   49        2     12  =C22*8  =AVERAGE(B22:E22)\n",
      "21       51090   46        3      9  =C23*8  =AVERAGE(B23:E23)\n",
      "22       72970   49        3     10  =C24*8  =AVERAGE(B24:E24)\n",
      "23       57054   50        1     12  =C25*8  =AVERAGE(B25:E25)\n"
     ]
    }
   ],
   "source": [
    "print(df_1)"
   ]
  },
  {
   "cell_type": "code",
   "execution_count": 140,
   "metadata": {},
   "outputs": [],
   "source": [
    "#extract values from sheet_2 and convert into a data frame\n",
    "data_2 = sheet_2.values\n",
    "col_2 = next(data_2)[1:]\n",
    "data_2 = list(data_2)\n",
    "col_2 = ['p_id', 'nam', 'kf', 'ave']\n",
    "\n",
    "df_2 = pd.DataFrame(data_2, columns=col_2)"
   ]
  },
  {
   "cell_type": "code",
   "execution_count": 142,
   "metadata": {},
   "outputs": [
    {
     "name": "stdout",
     "output_type": "stream",
     "text": [
      "     p_id  nam  kf                ave\n",
      "0   95909    5  20    =AVERAGE(B2:C2)\n",
      "1   10369    6  17    =AVERAGE(B3:C3)\n",
      "2    1111    6  13    =AVERAGE(B4:C4)\n",
      "3   75658    6  15    =AVERAGE(B5:C5)\n",
      "4   25765    4  10    =AVERAGE(B6:C6)\n",
      "5    4323    4  20    =AVERAGE(B7:C7)\n",
      "6   14530    5  10    =AVERAGE(B8:C8)\n",
      "7   21888    5  20    =AVERAGE(B9:C9)\n",
      "8   43631    4  14  =AVERAGE(B10:C10)\n",
      "9     532    6  16  =AVERAGE(B11:C11)\n",
      "10  70171    4  15  =AVERAGE(B12:C12)\n",
      "11  66435    6  15  =AVERAGE(B13:C13)\n",
      "12  81574    4  12  =AVERAGE(B14:C14)\n",
      "13  67203    5   8  =AVERAGE(B15:C15)\n",
      "14  19792    6   8  =AVERAGE(B16:C16)\n",
      "15     64    5  19  =AVERAGE(B17:C17)\n",
      "16  21922    5  15  =AVERAGE(B18:C18)\n",
      "17  49434    5  17  =AVERAGE(B19:C19)\n",
      "18  64334    6   9  =AVERAGE(B20:C20)\n",
      "19    775    6   9  =AVERAGE(B21:C21)\n",
      "20  51090    6  11  =AVERAGE(B22:C22)\n",
      "21  72970    6  10  =AVERAGE(B23:C23)\n",
      "22     34    4  17  =AVERAGE(B24:C24)\n"
     ]
    }
   ],
   "source": [
    "print(df_2) #all columns present"
   ]
  },
  {
   "cell_type": "code",
   "execution_count": 143,
   "metadata": {},
   "outputs": [
    {
     "data": {
      "text/plain": [
       "Index(['patient id', 'age', 'smoking', 'smart', 'asdf', 'min im'], dtype='object')"
      ]
     },
     "execution_count": 143,
     "metadata": {},
     "output_type": "execute_result"
    }
   ],
   "source": [
    "#check out the column name for data frame 1\n",
    "df_1.columns"
   ]
  },
  {
   "cell_type": "code",
   "execution_count": 144,
   "metadata": {},
   "outputs": [
    {
     "data": {
      "text/plain": [
       "Index(['p_id', 'nam', 'kf', 'ave'], dtype='object')"
      ]
     },
     "execution_count": 144,
     "metadata": {},
     "output_type": "execute_result"
    }
   ],
   "source": [
    "#check out the column names for data frame 2\n",
    "df_2.columns"
   ]
  },
  {
   "cell_type": "code",
   "execution_count": 152,
   "metadata": {},
   "outputs": [],
   "source": [
    "#merge on column 'patient id' and 'p_id' and include values only present in one data frame\n",
    "new_df = pd.merge(df_1, df_2, how='outer', left_on='patient id', right_on='p_id')"
   ]
  },
  {
   "cell_type": "code",
   "execution_count": 153,
   "metadata": {},
   "outputs": [
    {
     "data": {
      "text/plain": [
       "Index(['patient id', 'age', 'smoking', 'smart', 'asdf', 'min im', 'p_id',\n",
       "       'nam', 'kf', 'ave'],\n",
       "      dtype='object')"
      ]
     },
     "execution_count": 153,
     "metadata": {},
     "output_type": "execute_result"
    }
   ],
   "source": [
    "#check out if all columns are present\n",
    "new_df.columns"
   ]
  },
  {
   "cell_type": "code",
   "execution_count": 154,
   "metadata": {},
   "outputs": [
    {
     "name": "stdout",
     "output_type": "stream",
     "text": [
      "    patient id   age  smoking  smart    asdf             min im     p_id  nam  \\\n",
      "0      95909.0  51.0      1.0   10.0   =C2*8    =AVERAGE(B2:E2)  95909.0  5.0   \n",
      "1      10369.0  49.0      1.0    8.0   =C3*8    =AVERAGE(B3:E3)  10369.0  6.0   \n",
      "2      35101.0  56.0      3.0   12.0   =C4*8    =AVERAGE(B4:E4)      NaN  NaN   \n",
      "3      25192.0  47.0      3.0   12.0   =C5*8    =AVERAGE(B5:E5)      NaN  NaN   \n",
      "4      75658.0  50.0      3.0   10.0   =C6*8    =AVERAGE(B6:E6)  75658.0  6.0   \n",
      "5      25765.0  55.0      2.0   12.0   =C7*8    =AVERAGE(B7:E7)  25765.0  4.0   \n",
      "6      57464.0  52.0      1.0   11.0   =C8*8    =AVERAGE(B8:E8)      NaN  NaN   \n",
      "7      14530.0  50.0      2.0    8.0   =C9*8    =AVERAGE(B9:E9)  14530.0  5.0   \n",
      "8      21888.0  52.0      2.0    9.0  =C10*8  =AVERAGE(B10:E10)  21888.0  5.0   \n",
      "9      43631.0  53.0      2.0    8.0  =C11*8  =AVERAGE(B11:E11)  43631.0  4.0   \n",
      "10     14528.0  55.0      1.0    8.0  =C12*8  =AVERAGE(B12:E12)      NaN  NaN   \n",
      "11     70171.0  58.0      3.0   10.0  =C13*8  =AVERAGE(B13:E13)  70171.0  4.0   \n",
      "12     14654.0  58.0      2.0   10.0  =C14*8  =AVERAGE(B14:E14)      NaN  NaN   \n",
      "13     81574.0  50.0      3.0    9.0  =C15*8  =AVERAGE(B15:E15)  81574.0  4.0   \n",
      "14     67203.0  52.0      1.0   12.0  =C16*8  =AVERAGE(B16:E16)  67203.0  5.0   \n",
      "15     19792.0  48.0      2.0    9.0  =C17*8  =AVERAGE(B17:E17)  19792.0  6.0   \n",
      "16     95847.0  56.0      2.0    9.0  =C18*8  =AVERAGE(B18:E18)      NaN  NaN   \n",
      "17     21922.0  52.0      3.0   10.0  =C19*8  =AVERAGE(B19:E19)  21922.0  5.0   \n",
      "18     49434.0  48.0      1.0   10.0  =C20*8  =AVERAGE(B20:E20)  49434.0  5.0   \n",
      "19     64334.0  50.0      2.0   11.0  =C21*8  =AVERAGE(B21:E21)  64334.0  6.0   \n",
      "20     11988.0  49.0      2.0   12.0  =C22*8  =AVERAGE(B22:E22)      NaN  NaN   \n",
      "21     51090.0  46.0      3.0    9.0  =C23*8  =AVERAGE(B23:E23)  51090.0  6.0   \n",
      "22     72970.0  49.0      3.0   10.0  =C24*8  =AVERAGE(B24:E24)  72970.0  6.0   \n",
      "23     57054.0  50.0      1.0   12.0  =C25*8  =AVERAGE(B25:E25)      NaN  NaN   \n",
      "24         NaN   NaN      NaN    NaN     NaN                NaN   1111.0  6.0   \n",
      "25         NaN   NaN      NaN    NaN     NaN                NaN   4323.0  4.0   \n",
      "26         NaN   NaN      NaN    NaN     NaN                NaN    532.0  6.0   \n",
      "27         NaN   NaN      NaN    NaN     NaN                NaN  66435.0  6.0   \n",
      "28         NaN   NaN      NaN    NaN     NaN                NaN     64.0  5.0   \n",
      "29         NaN   NaN      NaN    NaN     NaN                NaN    775.0  6.0   \n",
      "30         NaN   NaN      NaN    NaN     NaN                NaN     34.0  4.0   \n",
      "\n",
      "      kf                ave  \n",
      "0   20.0    =AVERAGE(B2:C2)  \n",
      "1   17.0    =AVERAGE(B3:C3)  \n",
      "2    NaN                NaN  \n",
      "3    NaN                NaN  \n",
      "4   15.0    =AVERAGE(B5:C5)  \n",
      "5   10.0    =AVERAGE(B6:C6)  \n",
      "6    NaN                NaN  \n",
      "7   10.0    =AVERAGE(B8:C8)  \n",
      "8   20.0    =AVERAGE(B9:C9)  \n",
      "9   14.0  =AVERAGE(B10:C10)  \n",
      "10   NaN                NaN  \n",
      "11  15.0  =AVERAGE(B12:C12)  \n",
      "12   NaN                NaN  \n",
      "13  12.0  =AVERAGE(B14:C14)  \n",
      "14   8.0  =AVERAGE(B15:C15)  \n",
      "15   8.0  =AVERAGE(B16:C16)  \n",
      "16   NaN                NaN  \n",
      "17  15.0  =AVERAGE(B18:C18)  \n",
      "18  17.0  =AVERAGE(B19:C19)  \n",
      "19   9.0  =AVERAGE(B20:C20)  \n",
      "20   NaN                NaN  \n",
      "21  11.0  =AVERAGE(B22:C22)  \n",
      "22  10.0  =AVERAGE(B23:C23)  \n",
      "23   NaN                NaN  \n",
      "24  13.0    =AVERAGE(B4:C4)  \n",
      "25  20.0    =AVERAGE(B7:C7)  \n",
      "26  16.0  =AVERAGE(B11:C11)  \n",
      "27  15.0  =AVERAGE(B13:C13)  \n",
      "28  19.0  =AVERAGE(B17:C17)  \n",
      "29   9.0  =AVERAGE(B21:C21)  \n",
      "30  17.0  =AVERAGE(B24:C24)  \n"
     ]
    }
   ],
   "source": [
    "print(new_df)"
   ]
  },
  {
   "cell_type": "code",
   "execution_count": 155,
   "metadata": {},
   "outputs": [],
   "source": [
    "#Convert the data frame we made above into an excel file\n",
    "new_df.to_excel(\"New_excel_file_for_homework.xlsx\")"
   ]
  }
 ],
 "metadata": {
  "kernelspec": {
   "display_name": "Python 3",
   "language": "python",
   "name": "python3"
  },
  "language_info": {
   "codemirror_mode": {
    "name": "ipython",
    "version": 3
   },
   "file_extension": ".py",
   "mimetype": "text/x-python",
   "name": "python",
   "nbconvert_exporter": "python",
   "pygments_lexer": "ipython3",
   "version": "3.7.6"
  }
 },
 "nbformat": 4,
 "nbformat_minor": 4
}
