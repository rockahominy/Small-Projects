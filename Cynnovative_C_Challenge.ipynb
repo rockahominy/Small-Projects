{
 "cells": [
  {
   "cell_type": "markdown",
   "metadata": {},
   "source": [
    "Requirements:\n",
    "\n",
    "numpy==1.20.1\n",
    "pandas==1.2.2\n",
    "scikit-learn==0.24.1\n",
    "scipy==1.6.0\n",
    "pylint==2.6.0\n",
    "pytest==6.2.2\n"
   ]
  },
  {
   "cell_type": "code",
   "execution_count": 1,
   "metadata": {},
   "outputs": [
    {
     "data": {
      "text/plain": [
       "'/Users/chinchuharris'"
      ]
     },
     "execution_count": 1,
     "metadata": {},
     "output_type": "execute_result"
    }
   ],
   "source": [
    "pwd"
   ]
  },
  {
   "cell_type": "code",
   "execution_count": 4,
   "metadata": {},
   "outputs": [],
   "source": [
    "file_path ='/Users/chinchuharris/data/test_data.json'"
   ]
  },
  {
   "cell_type": "code",
   "execution_count": 5,
   "metadata": {},
   "outputs": [
    {
     "name": "stdout",
     "output_type": "stream",
     "text": [
      "/Users/chinchuharris/data/test_data.json\n"
     ]
    }
   ],
   "source": [
    "print(file_path)"
   ]
  },
  {
   "cell_type": "code",
   "execution_count": null,
   "metadata": {},
   "outputs": [],
   "source": []
  },
  {
   "cell_type": "code",
   "execution_count": 9,
   "metadata": {},
   "outputs": [],
   "source": [
    "###Import libraries and read in file###\n",
    "import json\n",
    "import os\n",
    "import sys\n",
    "\n",
    "import numpy as np\n",
    "import pandas as pd\n",
    "\n",
    "\n",
    "def read_data(file_path):\n",
    "    \"\"\"Read In Data.\n",
    "\n",
    "    Args:\n",
    "        file_path ([str]): path to json file\n",
    "\n",
    "    Returns:\n",
    "        [dict]: json file as dictionary/list object\n",
    "    \"\"\"\n",
    "    json_data = []\n",
    "    with open(file_path, \"r\") as file_to_read:\n",
    "        json_data = json.load(file_to_read)\n",
    "    return json_data"
   ]
  },
  {
   "cell_type": "code",
   "execution_count": 10,
   "metadata": {},
   "outputs": [],
   "source": [
    "json_data = read_data('/Users/chinchuharris/data/test_data.json')"
   ]
  },
  {
   "cell_type": "code",
   "execution_count": 11,
   "metadata": {},
   "outputs": [
    {
     "data": {
      "text/plain": [
       "1077"
      ]
     },
     "execution_count": 11,
     "metadata": {},
     "output_type": "execute_result"
    }
   ],
   "source": [
    "len(json_data)"
   ]
  },
  {
   "cell_type": "code",
   "execution_count": 16,
   "metadata": {},
   "outputs": [],
   "source": [
    "import pandas as pd \n",
    "\n",
    "df = pd.DataFrame(json_data)"
   ]
  },
  {
   "cell_type": "code",
   "execution_count": 17,
   "metadata": {},
   "outputs": [
    {
     "data": {
      "text/html": [
       "<div>\n",
       "<style scoped>\n",
       "    .dataframe tbody tr th:only-of-type {\n",
       "        vertical-align: middle;\n",
       "    }\n",
       "\n",
       "    .dataframe tbody tr th {\n",
       "        vertical-align: top;\n",
       "    }\n",
       "\n",
       "    .dataframe thead th {\n",
       "        text-align: right;\n",
       "    }\n",
       "</style>\n",
       "<table border=\"1\" class=\"dataframe\">\n",
       "  <thead>\n",
       "    <tr style=\"text-align: right;\">\n",
       "      <th></th>\n",
       "      <th>platform</th>\n",
       "      <th>username</th>\n",
       "      <th>friends_usernames</th>\n",
       "    </tr>\n",
       "  </thead>\n",
       "  <tbody>\n",
       "    <tr>\n",
       "      <th>0</th>\n",
       "      <td>platform_A</td>\n",
       "      <td>quetzal-nerd_montgomery_roberta_robmon</td>\n",
       "      <td>[v.narwhal-follower.salv, johnson.rosjoh.mongo...</td>\n",
       "    </tr>\n",
       "    <tr>\n",
       "      <th>1</th>\n",
       "      <td>platform_B</td>\n",
       "      <td>m.quetzal-follower.roberta</td>\n",
       "      <td>[snake-enthusiast_tommy_b_tomb, ronfer_fernand...</td>\n",
       "    </tr>\n",
       "    <tr>\n",
       "      <th>2</th>\n",
       "      <td>platform_C</td>\n",
       "      <td>montgomery.quetzal-lover.robmon.955</td>\n",
       "      <td>[r_mongoose-enthusiast_joh_15, eileen_eillow_v...</td>\n",
       "    </tr>\n",
       "    <tr>\n",
       "      <th>3</th>\n",
       "      <td>platform_B</td>\n",
       "      <td>leoc-c-leon-688</td>\n",
       "      <td>[d.dd, b_ibex-lover_sha_976, ger.elephant_shre...</td>\n",
       "    </tr>\n",
       "    <tr>\n",
       "      <th>4</th>\n",
       "      <td>platform_C</td>\n",
       "      <td>leon.bread-afficinado.coo</td>\n",
       "      <td>[d_d_102, w_josh_josw_basketball-enthusiast_57...</td>\n",
       "    </tr>\n",
       "  </tbody>\n",
       "</table>\n",
       "</div>"
      ],
      "text/plain": [
       "     platform                                username  \\\n",
       "0  platform_A  quetzal-nerd_montgomery_roberta_robmon   \n",
       "1  platform_B              m.quetzal-follower.roberta   \n",
       "2  platform_C     montgomery.quetzal-lover.robmon.955   \n",
       "3  platform_B                         leoc-c-leon-688   \n",
       "4  platform_C               leon.bread-afficinado.coo   \n",
       "\n",
       "                                   friends_usernames  \n",
       "0  [v.narwhal-follower.salv, johnson.rosjoh.mongo...  \n",
       "1  [snake-enthusiast_tommy_b_tomb, ronfer_fernand...  \n",
       "2  [r_mongoose-enthusiast_joh_15, eileen_eillow_v...  \n",
       "3  [d.dd, b_ibex-lover_sha_976, ger.elephant_shre...  \n",
       "4  [d_d_102, w_josh_josw_basketball-enthusiast_57...  "
      ]
     },
     "execution_count": 17,
     "metadata": {},
     "output_type": "execute_result"
    }
   ],
   "source": [
    "df.head()"
   ]
  },
  {
   "cell_type": "code",
   "execution_count": 18,
   "metadata": {},
   "outputs": [
    {
     "data": {
      "text/plain": [
       "(1077, 3)"
      ]
     },
     "execution_count": 18,
     "metadata": {},
     "output_type": "execute_result"
    }
   ],
   "source": [
    "df.shape #data frame contains 1077 observations and three columns (\"platfrom\", \"username\", and \"friends_usernames\")"
   ]
  },
  {
   "cell_type": "code",
   "execution_count": 19,
   "metadata": {},
   "outputs": [],
   "source": [
    "#################################################\n",
    "# Challenge 1 - Finish this function\n",
    "#\n",
    "def get_similarity_score(user_1, user_2):\n",
    "    \"\"\"Returns a score between zero and one that is related to the similarity\n",
    "    between users.\n",
    "\n",
    "    Args:\n",
    "        user_1 (dict): first user for comparison\n",
    "        user_2 (dict): second user for comparison\n",
    "\n",
    "    Returns:\n",
    "        float: score [0,1]\n",
    "    \"\"\"\n",
    "\n",
    "    #number of common character similarity\n",
    "    #not a good similarity metric!\n",
    "    #difference method takes the elements found in the first set and outputs those elements \n",
    "    #then the length of the set is counted \n",
    "    #divided by the length of set in both users\n",
    "    return 1- (len(set(user_1[\"username\"]).difference(set(user_2[\"username\"])))/\\\n",
    "    len(set(user_1[\"username\"]+user_2[\"username\"])))\n",
    "    "
   ]
  },
  {
   "cell_type": "code",
   "execution_count": 21,
   "metadata": {},
   "outputs": [
    {
     "data": {
      "text/plain": [
       "0.75"
      ]
     },
     "execution_count": 21,
     "metadata": {},
     "output_type": "execute_result"
    }
   ],
   "source": [
    "get_similarity_score(json_data[0], json_data[1]) #this works"
   ]
  },
  {
   "cell_type": "code",
   "execution_count": 37,
   "metadata": {},
   "outputs": [
    {
     "ename": "SyntaxError",
     "evalue": "invalid syntax (<ipython-input-37-3ec76812c0fe>, line 14)",
     "output_type": "error",
     "traceback": [
      "\u001b[0;36m  File \u001b[0;32m\"<ipython-input-37-3ec76812c0fe>\"\u001b[0;36m, line \u001b[0;32m14\u001b[0m\n\u001b[0;31m    user_2 = user_2[\"username\"] + ' ' * (len(user_1[\"username\"]) - len(user_2[\"username\"])\u001b[0m\n\u001b[0m         ^\u001b[0m\n\u001b[0;31mSyntaxError\u001b[0m\u001b[0;31m:\u001b[0m invalid syntax\n"
     ]
    }
   ],
   "source": [
    "def get_sim_score(user_1, user_2):\n",
    "    \"\"\"\n",
    "    Returns a score between zero and one that is related to the similarity\n",
    "    between users.\n",
    "\n",
    "    Args:\n",
    "        user_1 (dict): first user for comparison\n",
    "        user_2 (dict): second user for comparison\n",
    "\n",
    "    Returns:\n",
    "        float: score [0,1]\n",
    "    \"\"\"\n",
    "    user_1 = user_1[\"username\"] + ' ' * (len(user_2[\"username\"]) - len(user_1[\"username\"])\n",
    "    user_2 = user_2[\"username\"] + ' ' * (len(user_1[\"username\"]) - len(user_2[\"username\"])\n",
    "    return sum(1 if x == y else 0 for x, y in zip(user_1, user_2)) / float(len(user_1))\n",
    "    "
   ]
  },
  {
   "cell_type": "code",
   "execution_count": 38,
   "metadata": {},
   "outputs": [
    {
     "ename": "TypeError",
     "evalue": "string indices must be integers",
     "output_type": "error",
     "traceback": [
      "\u001b[0;31m---------------------------------------------------------------------------\u001b[0m",
      "\u001b[0;31mTypeError\u001b[0m                                 Traceback (most recent call last)",
      "\u001b[0;32m<ipython-input-38-020f167379f5>\u001b[0m in \u001b[0;36m<module>\u001b[0;34m\u001b[0m\n\u001b[0;32m----> 1\u001b[0;31m \u001b[0mget_sim_score\u001b[0m\u001b[0;34m(\u001b[0m\u001b[0mjson_data\u001b[0m\u001b[0;34m[\u001b[0m\u001b[0;36m0\u001b[0m\u001b[0;34m]\u001b[0m\u001b[0;34m,\u001b[0m \u001b[0mjson_data\u001b[0m\u001b[0;34m[\u001b[0m\u001b[0;36m1\u001b[0m\u001b[0;34m]\u001b[0m\u001b[0;34m)\u001b[0m\u001b[0;34m\u001b[0m\u001b[0;34m\u001b[0m\u001b[0m\n\u001b[0m",
      "\u001b[0;32m<ipython-input-31-61982c68bda3>\u001b[0m in \u001b[0;36mget_sim_score\u001b[0;34m(user_1, user_2)\u001b[0m\n\u001b[1;32m     12\u001b[0m     \"\"\"\n\u001b[1;32m     13\u001b[0m     \u001b[0muser_1\u001b[0m \u001b[0;34m=\u001b[0m \u001b[0muser_1\u001b[0m\u001b[0;34m[\u001b[0m\u001b[0;34m\"username\"\u001b[0m\u001b[0;34m]\u001b[0m \u001b[0;34m+\u001b[0m \u001b[0;34m' '\u001b[0m \u001b[0;34m*\u001b[0m \u001b[0;34m(\u001b[0m\u001b[0mlen\u001b[0m\u001b[0;34m(\u001b[0m\u001b[0muser_2\u001b[0m\u001b[0;34m[\u001b[0m\u001b[0;34m\"username\"\u001b[0m\u001b[0;34m]\u001b[0m\u001b[0;34m)\u001b[0m \u001b[0;34m-\u001b[0m \u001b[0mlen\u001b[0m\u001b[0;34m(\u001b[0m\u001b[0muser_1\u001b[0m\u001b[0;34m[\u001b[0m\u001b[0;34m\"username\"\u001b[0m\u001b[0;34m]\u001b[0m\u001b[0;34m)\u001b[0m\u001b[0;34m)\u001b[0m\u001b[0;34m\u001b[0m\u001b[0;34m\u001b[0m\u001b[0m\n\u001b[0;32m---> 14\u001b[0;31m     \u001b[0muser_2\u001b[0m \u001b[0;34m=\u001b[0m \u001b[0muser_2\u001b[0m\u001b[0;34m[\u001b[0m\u001b[0;34m\"username\"\u001b[0m\u001b[0;34m]\u001b[0m \u001b[0;34m+\u001b[0m \u001b[0;34m' '\u001b[0m \u001b[0;34m*\u001b[0m \u001b[0;34m(\u001b[0m\u001b[0mlen\u001b[0m\u001b[0;34m(\u001b[0m\u001b[0muser_1\u001b[0m\u001b[0;34m[\u001b[0m\u001b[0;34m\"username\"\u001b[0m\u001b[0;34m]\u001b[0m\u001b[0;34m)\u001b[0m \u001b[0;34m-\u001b[0m \u001b[0mlen\u001b[0m\u001b[0;34m(\u001b[0m\u001b[0muser_2\u001b[0m\u001b[0;34m[\u001b[0m\u001b[0;34m\"username\"\u001b[0m\u001b[0;34m]\u001b[0m\u001b[0;34m)\u001b[0m\u001b[0;34m)\u001b[0m\u001b[0;34m\u001b[0m\u001b[0;34m\u001b[0m\u001b[0m\n\u001b[0m\u001b[1;32m     15\u001b[0m     \u001b[0;32mreturn\u001b[0m \u001b[0msum\u001b[0m\u001b[0;34m(\u001b[0m\u001b[0;36m1\u001b[0m \u001b[0;32mif\u001b[0m \u001b[0mx\u001b[0m \u001b[0;34m==\u001b[0m \u001b[0my\u001b[0m \u001b[0;32melse\u001b[0m \u001b[0;36m0\u001b[0m \u001b[0;32mfor\u001b[0m \u001b[0mx\u001b[0m\u001b[0;34m,\u001b[0m \u001b[0my\u001b[0m \u001b[0;32min\u001b[0m \u001b[0mzip\u001b[0m\u001b[0;34m(\u001b[0m\u001b[0muser_1\u001b[0m\u001b[0;34m[\u001b[0m\u001b[0;34m\"username\"\u001b[0m\u001b[0;34m]\u001b[0m\u001b[0;34m,\u001b[0m \u001b[0muser_2\u001b[0m\u001b[0;34m[\u001b[0m\u001b[0;34m\"username\"\u001b[0m\u001b[0;34m]\u001b[0m\u001b[0;34m)\u001b[0m\u001b[0;34m)\u001b[0m \u001b[0;34m/\u001b[0m \u001b[0mfloat\u001b[0m\u001b[0;34m(\u001b[0m\u001b[0mlen\u001b[0m\u001b[0;34m(\u001b[0m\u001b[0muser_1\u001b[0m\u001b[0;34m[\u001b[0m\u001b[0;34m\"username\"\u001b[0m\u001b[0;34m]\u001b[0m\u001b[0;34m)\u001b[0m\u001b[0;34m)\u001b[0m\u001b[0;34m\u001b[0m\u001b[0;34m\u001b[0m\u001b[0m\n\u001b[1;32m     16\u001b[0m \u001b[0;34m\u001b[0m\u001b[0m\n",
      "\u001b[0;31mTypeError\u001b[0m: string indices must be integers"
     ]
    }
   ],
   "source": [
    "get_sim_score(json_data[0], json_data[1])"
   ]
  },
  {
   "cell_type": "code",
   "execution_count": 53,
   "metadata": {},
   "outputs": [],
   "source": [
    "def similar(w1, w2):\n",
    "    w1 = w1 + ' ' * (len(w2) - len(w1))\n",
    "    w2 = w2 + ' ' * (len(w1) - len(w2))\n",
    "    return sum(1 if i == j else 0 for i, j in zip(w1, w2)) / float(len(w2))"
   ]
  },
  {
   "cell_type": "code",
   "execution_count": 55,
   "metadata": {},
   "outputs": [
    {
     "data": {
      "text/plain": [
       "0.6"
      ]
     },
     "execution_count": 55,
     "metadata": {},
     "output_type": "execute_result"
    }
   ],
   "source": [
    "a = \"apple\"\n",
    "\n",
    "b = \"app\"\n",
    "\n",
    "similar(a, b)"
   ]
  },
  {
   "cell_type": "code",
   "execution_count": 39,
   "metadata": {},
   "outputs": [],
   "source": [
    "c = a + \" \""
   ]
  },
  {
   "cell_type": "code",
   "execution_count": 42,
   "metadata": {},
   "outputs": [],
   "source": [
    "cc = a + ' ' * (len(b) - len(a))"
   ]
  },
  {
   "cell_type": "code",
   "execution_count": 45,
   "metadata": {},
   "outputs": [
    {
     "name": "stdout",
     "output_type": "stream",
     "text": [
      "-2\n"
     ]
    }
   ],
   "source": [
    "print(len(b) - len(a))"
   ]
  },
  {
   "cell_type": "code",
   "execution_count": 64,
   "metadata": {},
   "outputs": [],
   "source": [
    "ta = [i for i in a] #tokenizes string element into its individual components"
   ]
  },
  {
   "cell_type": "code",
   "execution_count": 65,
   "metadata": {},
   "outputs": [
    {
     "data": {
      "text/plain": [
       "['a', 'p', 'p', 'l', 'e']"
      ]
     },
     "execution_count": 65,
     "metadata": {},
     "output_type": "execute_result"
    }
   ],
   "source": [
    "ta"
   ]
  },
  {
   "cell_type": "code",
   "execution_count": 23,
   "metadata": {},
   "outputs": [],
   "source": [
    "def get_sim_sim(user_1, user_2):\n",
    "    \n",
    "    #retain only alpha characters of the usernames and tokenize each element of the usernames\n",
    "    #remove non-alpha characters because websites tend to add on random numbers at the end when making usernames and most times the digits might not mean much as to the acertain the identity of the users\n",
    "    user_1 = {i for i in user_1[\"username\"] if i.isalpha()}\n",
    "    user_2 = {i for i in user_2[\"username\"] if i.isalpha()}\n",
    "    \n",
    "    #combine the elements of both users into one vector\n",
    "    user_vec = user_1.union(user_2)\n",
    "    \n",
    "    #create empty list for both users (will fill the lists later...)\n",
    "    user_1_lst = []\n",
    "    user_2_lst = []\n",
    "    \n",
    "    #add ones or zeroes to user lists if letter in \"user_vec\" is found in the \"user_1\" and \"user_2\" sets\n",
    "    for j in user_vec:\n",
    "        if j in user_1: user_1_lst.append(1)\n",
    "        else: user_1_lst.append(0)\n",
    "        if j in user_2: user_2_lst.append(1)\n",
    "        else: user_2_lst.append(0)\n",
    "    \n",
    "    #instantiate variable \"dot_prod\"\n",
    "    dot_prod = 0\n",
    "    #get dot product of the users lists\n",
    "    for k in range(len(user_vec)):\n",
    "        dot_prod += user_1_lst[k]*user_2_lst[k]\n",
    "        \n",
    "    #instantiate variable \"user_1_lst_norm\"\n",
    "    user_1_lst_norm = 0\n",
    "    #square each element in \"user_1_lst\"\n",
    "    for i in range(len(user_1_lst)):\n",
    "        user_1_lst_norm += user_1_lst[i]**2\n",
    "    \n",
    "    #instantiate variable \"user_2_lst_norm\"\n",
    "    user_2_lst_norm = 0\n",
    "    #square each element in \"user_2_lst\" and add elements together\n",
    "    for i in range(len(user_2_lst)):\n",
    "        user_2_lst_norm += user_2_lst[i]**2\n",
    "    \n",
    "    #divide the dot product (\"dot_prod\") by normalized user_1 and user_2 lists square rooted and then multiplied with each other\n",
    "    cosine = dot_prod / float(user_1_lst_norm*user_2_lst_norm)**0.5\n",
    "    print(\"Similarity between both users:\", cosine)"
   ]
  },
  {
   "cell_type": "code",
   "execution_count": 4,
   "metadata": {},
   "outputs": [],
   "source": [
    "a = \"apple 31\"\n",
    "\n",
    "b = \"app\""
   ]
  },
  {
   "cell_type": "code",
   "execution_count": 24,
   "metadata": {},
   "outputs": [
    {
     "name": "stdout",
     "output_type": "stream",
     "text": [
      "Similarity between both users: 0.7877263614433762\n"
     ]
    }
   ],
   "source": [
    "get_sim_sim(json_data[0], json_data[1])"
   ]
  },
  {
   "cell_type": "code",
   "execution_count": 7,
   "metadata": {},
   "outputs": [
    {
     "name": "stdout",
     "output_type": "stream",
     "text": [
      "The similarity: 0.7071067811865475\n"
     ]
    }
   ],
   "source": [
    "get_sim_sim(a, b)"
   ]
  },
  {
   "cell_type": "code",
   "execution_count": 1,
   "metadata": {},
   "outputs": [],
   "source": [
    "a = 'hello happy 31'"
   ]
  },
  {
   "cell_type": "code",
   "execution_count": null,
   "metadata": {},
   "outputs": [],
   "source": [
    "word_1 = [i for i in word_1 if i.isalpha()]"
   ]
  },
  {
   "cell_type": "code",
   "execution_count": 57,
   "metadata": {},
   "outputs": [
    {
     "data": {
      "text/plain": [
       "['apple']"
      ]
     },
     "execution_count": 57,
     "metadata": {},
     "output_type": "execute_result"
    }
   ],
   "source": [
    "get_tokenized(a) #doesn't tokenize words only words in a sentence"
   ]
  },
  {
   "cell_type": "code",
   "execution_count": 44,
   "metadata": {},
   "outputs": [
    {
     "data": {
      "text/plain": [
       "str"
      ]
     },
     "execution_count": 44,
     "metadata": {},
     "output_type": "execute_result"
    }
   ],
   "source": [
    "type(cc)"
   ]
  },
  {
   "cell_type": "code",
   "execution_count": 52,
   "metadata": {},
   "outputs": [
    {
     "name": "stdout",
     "output_type": "stream",
     "text": [
      "apple\n"
     ]
    }
   ],
   "source": [
    "print(a + ' ' * -2)"
   ]
  },
  {
   "cell_type": "code",
   "execution_count": 47,
   "metadata": {},
   "outputs": [
    {
     "name": "stdout",
     "output_type": "stream",
     "text": [
      "apple\n"
     ]
    }
   ],
   "source": [
    "print(a + ' ' * -2)"
   ]
  },
  {
   "cell_type": "code",
   "execution_count": 48,
   "metadata": {},
   "outputs": [
    {
     "name": "stdout",
     "output_type": "stream",
     "text": [
      "2\n"
     ]
    }
   ],
   "source": [
    "print(len(a) - len(b))"
   ]
  },
  {
   "cell_type": "code",
   "execution_count": 49,
   "metadata": {},
   "outputs": [
    {
     "name": "stdout",
     "output_type": "stream",
     "text": [
      "  \n"
     ]
    }
   ],
   "source": [
    "print(' ' * 2)"
   ]
  },
  {
   "cell_type": "code",
   "execution_count": 51,
   "metadata": {},
   "outputs": [
    {
     "data": {
      "text/plain": [
       "str"
      ]
     },
     "execution_count": 51,
     "metadata": {},
     "output_type": "execute_result"
    }
   ],
   "source": [
    "type(b + ' ' * 2)"
   ]
  },
  {
   "cell_type": "code",
   "execution_count": 41,
   "metadata": {},
   "outputs": [
    {
     "data": {
      "text/plain": [
       "3"
      ]
     },
     "execution_count": 41,
     "metadata": {},
     "output_type": "execute_result"
    }
   ],
   "source": [
    "len(b)"
   ]
  },
  {
   "cell_type": "code",
   "execution_count": null,
   "metadata": {},
   "outputs": [],
   "source": []
  },
  {
   "cell_type": "code",
   "execution_count": 55,
   "metadata": {},
   "outputs": [],
   "source": [
    "################################################\n",
    "# Challenge 2 - Finish this function\n",
    "#\n",
    "def get_statistics(user_data):\n",
    "    \"\"\" get statistics for this data\n",
    "\n",
    "    Args:\n",
    "        user_data ([dict]): dictionary of users \n",
    "\n",
    "    Returns:\n",
    "        (dict): dictionary of statistics\n",
    "    \"\"\"\n",
    "    n_users = len(user_data)\n",
    "\n",
    "    statistics = {\"Maximum similarity\": max(similarity), \"Minimum similarity\": min(similarity)}\n",
    "\n",
    "    similarity = []\n",
    "\n",
    "    #comparison of users from different platforms\n",
    "    for user_1 in user_data:\n",
    "        for user_2 in user_data:\n",
    "            if user_2[\"platform\"] == user_1[\"platform\"]:\n",
    "                continue\n",
    "            similarity.append(get_sim_sim(user_1, user_2))\n",
    "        print(\"Maximum similarity: \", max(similarity))\n",
    "        print(\"Minimum similarity: \", min(similarity))\n",
    "    \n",
    "\n"
   ]
  },
  {
   "cell_type": "code",
   "execution_count": null,
   "metadata": {},
   "outputs": [],
   "source": [
    "similarity = []\n",
    "\n",
    "for i in json_data:\n",
    "    for j in json_data:\n",
    "        if j[\"platform\"] == i[\"platform\"]:\n",
    "            continue\n",
    "        similarity.append(get_sim_sim(i, j))\n",
    "print(max(similarity), min(similarity))"
   ]
  },
  {
   "cell_type": "code",
   "execution_count": 56,
   "metadata": {},
   "outputs": [
    {
     "ename": "UnboundLocalError",
     "evalue": "local variable 'similarity' referenced before assignment",
     "output_type": "error",
     "traceback": [
      "\u001b[0;31m---------------------------------------------------------------------------\u001b[0m",
      "\u001b[0;31mUnboundLocalError\u001b[0m                         Traceback (most recent call last)",
      "\u001b[0;32m<ipython-input-56-76c0d922f26b>\u001b[0m in \u001b[0;36m<module>\u001b[0;34m\u001b[0m\n\u001b[0;32m----> 1\u001b[0;31m \u001b[0mget_statistics\u001b[0m\u001b[0;34m(\u001b[0m\u001b[0mjson_data\u001b[0m\u001b[0;34m)\u001b[0m\u001b[0;34m\u001b[0m\u001b[0;34m\u001b[0m\u001b[0m\n\u001b[0m",
      "\u001b[0;32m<ipython-input-55-f08c8813e6c4>\u001b[0m in \u001b[0;36mget_statistics\u001b[0;34m(user_data)\u001b[0m\n\u001b[1;32m     13\u001b[0m     \u001b[0mn_users\u001b[0m \u001b[0;34m=\u001b[0m \u001b[0mlen\u001b[0m\u001b[0;34m(\u001b[0m\u001b[0muser_data\u001b[0m\u001b[0;34m)\u001b[0m\u001b[0;34m\u001b[0m\u001b[0;34m\u001b[0m\u001b[0m\n\u001b[1;32m     14\u001b[0m \u001b[0;34m\u001b[0m\u001b[0m\n\u001b[0;32m---> 15\u001b[0;31m     \u001b[0mstatistics\u001b[0m \u001b[0;34m=\u001b[0m \u001b[0;34m{\u001b[0m\u001b[0;34m\"Maximum similarity\"\u001b[0m\u001b[0;34m:\u001b[0m \u001b[0mmax\u001b[0m\u001b[0;34m(\u001b[0m\u001b[0msimilarity\u001b[0m\u001b[0;34m)\u001b[0m\u001b[0;34m,\u001b[0m \u001b[0;34m\"Minimum similarity\"\u001b[0m\u001b[0;34m:\u001b[0m \u001b[0mmin\u001b[0m\u001b[0;34m(\u001b[0m\u001b[0msimilarity\u001b[0m\u001b[0;34m)\u001b[0m\u001b[0;34m}\u001b[0m\u001b[0;34m\u001b[0m\u001b[0;34m\u001b[0m\u001b[0m\n\u001b[0m\u001b[1;32m     16\u001b[0m \u001b[0;34m\u001b[0m\u001b[0m\n\u001b[1;32m     17\u001b[0m     \u001b[0msimilarity\u001b[0m \u001b[0;34m=\u001b[0m \u001b[0;34m[\u001b[0m\u001b[0;34m]\u001b[0m\u001b[0;34m\u001b[0m\u001b[0;34m\u001b[0m\u001b[0m\n",
      "\u001b[0;31mUnboundLocalError\u001b[0m: local variable 'similarity' referenced before assignment"
     ]
    }
   ],
   "source": [
    "get_statistics(json_data)"
   ]
  },
  {
   "cell_type": "code",
   "execution_count": null,
   "metadata": {},
   "outputs": [],
   "source": [
    "#################################################\n",
    "# Challenge 3\n",
    "#\n",
    "def get_similar_friends(user_1, user_2):\n",
    "    # Write this function if you have time\n",
    "    pass"
   ]
  },
  {
   "cell_type": "code",
   "execution_count": null,
   "metadata": {},
   "outputs": [],
   "source": [
    "################################################\n",
    "# DO NOT MODIFY AFTER THIS LINE!\n",
    "\n",
    "if __name__ == \"__main__\":\n",
    "\n",
    "    print(\n",
    "        \"\\nWelcome to the Cynnovative Student Challenge! If you have questions, email jasmine.ratchford@cynnovative.com \\n\\n\"\n",
    "    )\n",
    "    if len(sys.argv) < 2:\n",
    "        print(f\"Please provide the file location (should be in 'data/test_data.json').\")\n",
    "        exit()\n",
    "\n",
    "    challenge_data = read_data(sys.argv[1])\n",
    "    if len(challenge_data) < 2:\n",
    "        print(f\"oh no! something is wrong with the data. Email Cynnovative\")\n",
    "        exit()\n",
    "\n",
    "    print(f\"Printing out an example of the data here:\")\n",
    "    for key, value in challenge_data[0].items():\n",
    "        print(f\"{key}:\\t{value if type(value)==str else ', '.join(value[0:10])+'...'}\")\n",
    "\n",
    "    ##########################\n",
    "    # Challenge 1 analysis\n",
    "    #\n",
    "    print(f\"\\n\\n.....\\nStarting challenge 1\")\n",
    "\n",
    "    # your score should be between zero and one.\n",
    "    score_check_0_1 = get_similarity_score(challenge_data[0], challenge_data[1])\n",
    "    if score_check_0_1 >= 0 and score_check_0_1 <= 1:\n",
    "        print(\"challenge 1 part 1 complete - score between (0,1) \")\n",
    "\n",
    "    # similarity  score is greatest when comparing to self.\n",
    "    score_check_0_0 = get_similarity_score(challenge_data[0], challenge_data[0])\n",
    "    if score_check_0_0 > score_check_0_1:\n",
    "        print(\"challenge 1 part 2 complete - scores strongly against self\")\n",
    "\n",
    "\n",
    "    #########################\n",
    "    # Challenge 2 analysis\n",
    "    #\n",
    "    print(\"\\n\\n.....\\nStarting challenge 2\")\n",
    "    statistics = get_statistics(challenge_data)\n",
    "\n",
    "    for statistic_name, statistic_value in statistics.items():\n",
    "        print(f\"{statistic_name}:{statistic_value}\")\n",
    "\n",
    "    \n",
    "    ##########################\n",
    "    # Challenge 3\n",
    "    #\n",
    "    print(\"\\n\\nChallenge 3 will be scored only if you've attempted it! You're done.\")\n",
    "\n"
   ]
  }
 ],
 "metadata": {
  "kernelspec": {
   "display_name": "Python 3",
   "language": "python",
   "name": "python3"
  },
  "language_info": {
   "codemirror_mode": {
    "name": "ipython",
    "version": 3
   },
   "file_extension": ".py",
   "mimetype": "text/x-python",
   "name": "python",
   "nbconvert_exporter": "python",
   "pygments_lexer": "ipython3",
   "version": "3.7.6"
  }
 },
 "nbformat": 4,
 "nbformat_minor": 4
}
